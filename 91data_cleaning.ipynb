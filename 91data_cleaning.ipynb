{
 "cells": [
  {
   "cell_type": "code",
   "execution_count": 1,
   "id": "1b417673-18b1-4878-b885-29e7d14a55c5",
   "metadata": {},
   "outputs": [
    {
     "name": "stdout",
     "output_type": "stream",
     "text": [
      "Requirement already satisfied: pandas in c:\\users\\17376\\anaconda3\\lib\\site-packages (2.2.2)\n",
      "Requirement already satisfied: openpyxl in c:\\users\\17376\\anaconda3\\lib\\site-packages (3.1.5)\n",
      "Requirement already satisfied: numpy>=1.26.0 in c:\\users\\17376\\anaconda3\\lib\\site-packages (from pandas) (1.26.4)\n",
      "Requirement already satisfied: python-dateutil>=2.8.2 in c:\\users\\17376\\anaconda3\\lib\\site-packages (from pandas) (2.9.0.post0)\n",
      "Requirement already satisfied: pytz>=2020.1 in c:\\users\\17376\\anaconda3\\lib\\site-packages (from pandas) (2024.1)\n",
      "Requirement already satisfied: tzdata>=2022.7 in c:\\users\\17376\\anaconda3\\lib\\site-packages (from pandas) (2023.3)\n",
      "Requirement already satisfied: et-xmlfile in c:\\users\\17376\\anaconda3\\lib\\site-packages (from openpyxl) (1.1.0)\n",
      "Requirement already satisfied: six>=1.5 in c:\\users\\17376\\anaconda3\\lib\\site-packages (from python-dateutil>=2.8.2->pandas) (1.16.0)\n",
      "Note: you may need to restart the kernel to use updated packages.\n"
     ]
    }
   ],
   "source": [
    "pip install pandas openpyxl"
   ]
  },
  {
   "cell_type": "code",
   "execution_count": 3,
   "id": "20c12092-c3d2-4a9f-aa2e-cb91e914b402",
   "metadata": {},
   "outputs": [
    {
     "data": {
      "text/html": [
       "<div>\n",
       "<style scoped>\n",
       "    .dataframe tbody tr th:only-of-type {\n",
       "        vertical-align: middle;\n",
       "    }\n",
       "\n",
       "    .dataframe tbody tr th {\n",
       "        vertical-align: top;\n",
       "    }\n",
       "\n",
       "    .dataframe thead th {\n",
       "        text-align: right;\n",
       "    }\n",
       "</style>\n",
       "<table border=\"1\" class=\"dataframe\">\n",
       "  <thead>\n",
       "    <tr style=\"text-align: right;\">\n",
       "      <th></th>\n",
       "      <th>NtsbNo</th>\n",
       "      <th>EventType</th>\n",
       "      <th>Mkey</th>\n",
       "      <th>EventDate</th>\n",
       "      <th>City</th>\n",
       "      <th>State</th>\n",
       "      <th>Country</th>\n",
       "      <th>ReportNo</th>\n",
       "      <th>N</th>\n",
       "      <th>HasSafetyRec</th>\n",
       "      <th>...</th>\n",
       "      <th>Scheduled</th>\n",
       "      <th>PurposeOfFlight</th>\n",
       "      <th>FAR</th>\n",
       "      <th>AirCraftDamage</th>\n",
       "      <th>WeatherCondition</th>\n",
       "      <th>Operator</th>\n",
       "      <th>ReportStatus</th>\n",
       "      <th>RepGenFlag</th>\n",
       "      <th>DocketUrl</th>\n",
       "      <th>DocketPublishDate</th>\n",
       "    </tr>\n",
       "  </thead>\n",
       "  <tbody>\n",
       "    <tr>\n",
       "      <th>0</th>\n",
       "      <td>CEN25LA162</td>\n",
       "      <td>ACC</td>\n",
       "      <td>200057</td>\n",
       "      <td>2025-04-22T13:25:00Z</td>\n",
       "      <td>Fayetteville</td>\n",
       "      <td>Arkansas</td>\n",
       "      <td>United States</td>\n",
       "      <td>NaN</td>\n",
       "      <td>N4795C</td>\n",
       "      <td>False</td>\n",
       "      <td>...</td>\n",
       "      <td>NaN</td>\n",
       "      <td>NaN</td>\n",
       "      <td>NaN</td>\n",
       "      <td>NaN</td>\n",
       "      <td>NaN</td>\n",
       "      <td>NaN</td>\n",
       "      <td>In work</td>\n",
       "      <td>False</td>\n",
       "      <td>NaN</td>\n",
       "      <td>NaT</td>\n",
       "    </tr>\n",
       "    <tr>\n",
       "      <th>1</th>\n",
       "      <td>ENG25WA030</td>\n",
       "      <td>INC</td>\n",
       "      <td>200056</td>\n",
       "      <td>2025-04-22T04:00:00Z</td>\n",
       "      <td>Budapest</td>\n",
       "      <td>NaN</td>\n",
       "      <td>Hungary</td>\n",
       "      <td>NaN</td>\n",
       "      <td>SP-RZUb</td>\n",
       "      <td>False</td>\n",
       "      <td>...</td>\n",
       "      <td>NaN</td>\n",
       "      <td>NaN</td>\n",
       "      <td>NaN</td>\n",
       "      <td>NaN</td>\n",
       "      <td>NaN</td>\n",
       "      <td>NaN</td>\n",
       "      <td>NaN</td>\n",
       "      <td>False</td>\n",
       "      <td>NaN</td>\n",
       "      <td>NaT</td>\n",
       "    </tr>\n",
       "    <tr>\n",
       "      <th>2</th>\n",
       "      <td>DCA25LA190</td>\n",
       "      <td>ACC</td>\n",
       "      <td>200055</td>\n",
       "      <td>2025-04-20T04:00:00Z</td>\n",
       "      <td>Tulsa</td>\n",
       "      <td>Oklahoma</td>\n",
       "      <td>United States</td>\n",
       "      <td>NaN</td>\n",
       "      <td>N461WN</td>\n",
       "      <td>False</td>\n",
       "      <td>...</td>\n",
       "      <td>SCHD</td>\n",
       "      <td>NaN</td>\n",
       "      <td>121</td>\n",
       "      <td>NaN</td>\n",
       "      <td>NaN</td>\n",
       "      <td>SOUTHWEST AIRLINES CO</td>\n",
       "      <td>In work</td>\n",
       "      <td>False</td>\n",
       "      <td>NaN</td>\n",
       "      <td>NaT</td>\n",
       "    </tr>\n",
       "    <tr>\n",
       "      <th>3</th>\n",
       "      <td>WPR25LA138</td>\n",
       "      <td>ACC</td>\n",
       "      <td>200048</td>\n",
       "      <td>2025-04-19T11:42:00Z</td>\n",
       "      <td>Hood River</td>\n",
       "      <td>Oregon</td>\n",
       "      <td>United States</td>\n",
       "      <td>NaN</td>\n",
       "      <td>N5786S</td>\n",
       "      <td>False</td>\n",
       "      <td>...</td>\n",
       "      <td>NaN</td>\n",
       "      <td>INST</td>\n",
       "      <td>91</td>\n",
       "      <td>Substantial</td>\n",
       "      <td>VMC</td>\n",
       "      <td>HOOD RIVER SOARING INC</td>\n",
       "      <td>In work</td>\n",
       "      <td>False</td>\n",
       "      <td>NaN</td>\n",
       "      <td>NaT</td>\n",
       "    </tr>\n",
       "    <tr>\n",
       "      <th>4</th>\n",
       "      <td>WPR25LA136</td>\n",
       "      <td>ACC</td>\n",
       "      <td>200044</td>\n",
       "      <td>2025-04-19T11:06:00Z</td>\n",
       "      <td>Phoenix</td>\n",
       "      <td>Arizona</td>\n",
       "      <td>United States</td>\n",
       "      <td>NaN</td>\n",
       "      <td>N321WC</td>\n",
       "      <td>False</td>\n",
       "      <td>...</td>\n",
       "      <td>NaN</td>\n",
       "      <td>NaN</td>\n",
       "      <td>NaN</td>\n",
       "      <td>NaN</td>\n",
       "      <td>NaN</td>\n",
       "      <td>NaN</td>\n",
       "      <td>In work</td>\n",
       "      <td>False</td>\n",
       "      <td>NaN</td>\n",
       "      <td>NaT</td>\n",
       "    </tr>\n",
       "  </tbody>\n",
       "</table>\n",
       "<p>5 rows × 37 columns</p>\n",
       "</div>"
      ],
      "text/plain": [
       "       NtsbNo EventType    Mkey             EventDate          City     State  \\\n",
       "0  CEN25LA162       ACC  200057  2025-04-22T13:25:00Z  Fayetteville  Arkansas   \n",
       "1  ENG25WA030       INC  200056  2025-04-22T04:00:00Z      Budapest       NaN   \n",
       "2  DCA25LA190       ACC  200055  2025-04-20T04:00:00Z         Tulsa  Oklahoma   \n",
       "3  WPR25LA138       ACC  200048  2025-04-19T11:42:00Z    Hood River    Oregon   \n",
       "4  WPR25LA136       ACC  200044  2025-04-19T11:06:00Z       Phoenix   Arizona   \n",
       "\n",
       "         Country ReportNo        N  HasSafetyRec  ... Scheduled  \\\n",
       "0  United States      NaN   N4795C         False  ...       NaN   \n",
       "1        Hungary      NaN  SP-RZUb         False  ...       NaN   \n",
       "2  United States      NaN   N461WN         False  ...      SCHD   \n",
       "3  United States      NaN   N5786S         False  ...       NaN   \n",
       "4  United States      NaN   N321WC         False  ...       NaN   \n",
       "\n",
       "  PurposeOfFlight  FAR  AirCraftDamage  WeatherCondition  \\\n",
       "0             NaN  NaN             NaN               NaN   \n",
       "1             NaN  NaN             NaN               NaN   \n",
       "2             NaN  121             NaN               NaN   \n",
       "3            INST   91     Substantial               VMC   \n",
       "4             NaN  NaN             NaN               NaN   \n",
       "\n",
       "                 Operator ReportStatus  RepGenFlag  DocketUrl  \\\n",
       "0                     NaN      In work       False        NaN   \n",
       "1                     NaN          NaN       False        NaN   \n",
       "2   SOUTHWEST AIRLINES CO      In work       False        NaN   \n",
       "3  HOOD RIVER SOARING INC      In work       False        NaN   \n",
       "4                     NaN      In work       False        NaN   \n",
       "\n",
       "   DocketPublishDate  \n",
       "0                NaT  \n",
       "1                NaT  \n",
       "2                NaT  \n",
       "3                NaT  \n",
       "4                NaT  \n",
       "\n",
       "[5 rows x 37 columns]"
      ]
     },
     "execution_count": 3,
     "metadata": {},
     "output_type": "execute_result"
    }
   ],
   "source": [
    "import pandas as pd\n",
    "df = pd.read_excel('C:\\\\Users\\\\17376\\\\Desktop\\\\CYX\\\\study\\\\5291_capstone\\\\project\\\\data\\\\core_dataset.xlsx')\n",
    "df.head(5)"
   ]
  },
  {
   "cell_type": "code",
   "execution_count": 5,
   "id": "3b596ca8-280a-4426-a01c-451354ba5585",
   "metadata": {},
   "outputs": [
    {
     "data": {
      "text/html": [
       "<div>\n",
       "<style scoped>\n",
       "    .dataframe tbody tr th:only-of-type {\n",
       "        vertical-align: middle;\n",
       "    }\n",
       "\n",
       "    .dataframe tbody tr th {\n",
       "        vertical-align: top;\n",
       "    }\n",
       "\n",
       "    .dataframe thead th {\n",
       "        text-align: right;\n",
       "    }\n",
       "</style>\n",
       "<table border=\"1\" class=\"dataframe\">\n",
       "  <thead>\n",
       "    <tr style=\"text-align: right;\">\n",
       "      <th></th>\n",
       "      <th>Date</th>\n",
       "      <th>Close</th>\n",
       "      <th>High</th>\n",
       "      <th>Low</th>\n",
       "      <th>Open</th>\n",
       "      <th>Volume</th>\n",
       "    </tr>\n",
       "  </thead>\n",
       "  <tbody>\n",
       "    <tr>\n",
       "      <th>0</th>\n",
       "      <td>2000/1/1</td>\n",
       "      <td>28.602894</td>\n",
       "      <td>28.965977</td>\n",
       "      <td>25.657885</td>\n",
       "      <td>26.747135</td>\n",
       "      <td>24792500</td>\n",
       "    </tr>\n",
       "    <tr>\n",
       "      <th>1</th>\n",
       "      <td>2000/1/8</td>\n",
       "      <td>28.401175</td>\n",
       "      <td>28.723915</td>\n",
       "      <td>27.110212</td>\n",
       "      <td>28.602887</td>\n",
       "      <td>14051300</td>\n",
       "    </tr>\n",
       "    <tr>\n",
       "      <th>2</th>\n",
       "      <td>2000/1/15</td>\n",
       "      <td>29.490435</td>\n",
       "      <td>31.063796</td>\n",
       "      <td>27.836388</td>\n",
       "      <td>28.401185</td>\n",
       "      <td>30657000</td>\n",
       "    </tr>\n",
       "    <tr>\n",
       "      <th>3</th>\n",
       "      <td>2000/1/22</td>\n",
       "      <td>28.804609</td>\n",
       "      <td>30.256943</td>\n",
       "      <td>28.159128</td>\n",
       "      <td>29.490433</td>\n",
       "      <td>17080700</td>\n",
       "    </tr>\n",
       "    <tr>\n",
       "      <th>4</th>\n",
       "      <td>2000/1/29</td>\n",
       "      <td>28.401175</td>\n",
       "      <td>29.167684</td>\n",
       "      <td>27.473295</td>\n",
       "      <td>28.764258</td>\n",
       "      <td>14199400</td>\n",
       "    </tr>\n",
       "  </tbody>\n",
       "</table>\n",
       "</div>"
      ],
      "text/plain": [
       "        Date      Close       High        Low       Open    Volume\n",
       "0   2000/1/1  28.602894  28.965977  25.657885  26.747135  24792500\n",
       "1   2000/1/8  28.401175  28.723915  27.110212  28.602887  14051300\n",
       "2  2000/1/15  29.490435  31.063796  27.836388  28.401185  30657000\n",
       "3  2000/1/22  28.804609  30.256943  28.159128  29.490433  17080700\n",
       "4  2000/1/29  28.401175  29.167684  27.473295  28.764258  14199400"
      ]
     },
     "execution_count": 5,
     "metadata": {},
     "output_type": "execute_result"
    }
   ],
   "source": [
    "Boeing= pd.read_csv('C:\\\\Users\\\\17376\\\\Desktop\\\\CYX\\\\study\\\\5291_capstone\\\\project\\\\data\\\\Boeing_Weekly_Prices.csv')\n",
    "Boeing.head(5)"
   ]
  },
  {
   "cell_type": "code",
   "execution_count": 7,
   "id": "9ab18f31-1fbf-409f-9d51-f66d70fbaea3",
   "metadata": {},
   "outputs": [
    {
     "name": "stdout",
     "output_type": "stream",
     "text": [
      "  EventType             EventDate          City     State        Country  \\\n",
      "0       ACC  2025-04-22T13:25:00Z  Fayetteville  Arkansas  United States   \n",
      "1       INC  2025-04-22T04:00:00Z      Budapest       NaN        Hungary   \n",
      "2       ACC  2025-04-20T04:00:00Z         Tulsa  Oklahoma  United States   \n",
      "3       ACC  2025-04-19T11:42:00Z    Hood River    Oregon  United States   \n",
      "4       ACC  2025-04-19T11:06:00Z       Phoenix   Arizona  United States   \n",
      "\n",
      "  HighestInjuryLevel  FatalInjuryCount  SeriousInjuryCount  MinorInjuryCount  \\\n",
      "0                NaN                 0                   0                 0   \n",
      "1                NaN                 0                   0                 0   \n",
      "2                NaN                 0                   0                 0   \n",
      "3                NaN                 0                   0                 0   \n",
      "4                NaN                 0                   0                 0   \n",
      "\n",
      "    Latitude  Longitude                   Make              Model AirportID  \\\n",
      "0   0.000000    0.00000                 CESSNA              T210N       NaN   \n",
      "1   0.000000    0.00000                 BOEING                737       NaN   \n",
      "2   0.000000    0.00000                 BOEING            737-7H4       NaN   \n",
      "3  45.674118 -121.52271              SCHWEIZER          SGS 2-33A       4S2   \n",
      "4   0.000000    0.00000  CHAPIN WALLACE HADLEY  SENIOR AERO SPORT       NaN   \n",
      "\n",
      "  Scheduled PurposeOfFlight  FAR AirCraftDamage WeatherCondition  \n",
      "0       NaN             NaN  NaN            NaN              NaN  \n",
      "1       NaN             NaN  NaN            NaN              NaN  \n",
      "2      SCHD             NaN  121            NaN              NaN  \n",
      "3       NaN            INST   91    Substantial              VMC  \n",
      "4       NaN             NaN  NaN            NaN              NaN  \n"
     ]
    }
   ],
   "source": [
    "columns_to_keep = [\n",
    "    'EventType', 'EventDate', 'City', 'State', 'Country', 'HighestInjuryLevel',\n",
    "    'FatalInjuryCount', 'SeriousInjuryCount', 'MinorInjuryCount',\n",
    "    'Latitude', 'Longitude', 'Make', 'Model', 'AirportID',\n",
    "    'Scheduled', 'PurposeOfFlight', 'FAR', 'AirCraftDamage', 'WeatherCondition'\n",
    "]\n",
    "df_cleaned = df[columns_to_keep]\n",
    "print(df_cleaned.head())"
   ]
  },
  {
   "cell_type": "code",
   "execution_count": 9,
   "id": "5151d9ef-4375-4a47-8f79-5bf58e707896",
   "metadata": {},
   "outputs": [
    {
     "data": {
      "text/plain": [
       "['EventType',\n",
       " 'EventDate',\n",
       " 'City',\n",
       " 'State',\n",
       " 'Country',\n",
       " 'HighestInjuryLevel',\n",
       " 'FatalInjuryCount',\n",
       " 'SeriousInjuryCount',\n",
       " 'MinorInjuryCount',\n",
       " 'Latitude',\n",
       " 'Longitude',\n",
       " 'Make',\n",
       " 'Model',\n",
       " 'AirportID',\n",
       " 'Scheduled',\n",
       " 'PurposeOfFlight',\n",
       " 'FAR',\n",
       " 'AirCraftDamage',\n",
       " 'WeatherCondition']"
      ]
     },
     "execution_count": 9,
     "metadata": {},
     "output_type": "execute_result"
    }
   ],
   "source": [
    "df_cleaned.columns.tolist()"
   ]
  },
  {
   "cell_type": "code",
   "execution_count": 11,
   "id": "1c4afdb6-2b19-4d87-a155-52ccfca6e286",
   "metadata": {},
   "outputs": [
    {
     "name": "stdout",
     "output_type": "stream",
     "text": [
      "                    Missing Count  Missing Ratio (%)\n",
      "EventType                       0               0.00\n",
      "EventDate                       0               0.00\n",
      "City                           13               0.05\n",
      "State                        4908              19.50\n",
      "Country                         4               0.02\n",
      "HighestInjuryLevel          13877              55.14\n",
      "FatalInjuryCount                0               0.00\n",
      "SeriousInjuryCount              0               0.00\n",
      "MinorInjuryCount                0               0.00\n",
      "Latitude                        0               0.00\n",
      "Longitude                       0               0.00\n",
      "Make                           27               0.11\n",
      "Model                          35               0.14\n",
      "AirportID                    9970              39.61\n",
      "Scheduled                   22224              88.30\n",
      "PurposeOfFlight              4979              19.78\n",
      "FAR                           683               2.71\n",
      "AirCraftDamage               1619               6.43\n",
      "WeatherCondition             4471              17.76\n"
     ]
    }
   ],
   "source": [
    "missing_count = df_cleaned.isnull().sum()\n",
    "missing_ratio = df_cleaned.isnull().mean()\n",
    "missing_df = pd.DataFrame({\n",
    "    'Missing Count': missing_count,\n",
    "    'Missing Ratio (%)': (missing_ratio * 100).round(2)\n",
    "})\n",
    "print(missing_df)"
   ]
  },
  {
   "cell_type": "code",
   "execution_count": 13,
   "id": "b396577a-2e4a-45d9-b588-12c8e92a9d24",
   "metadata": {},
   "outputs": [
    {
     "name": "stdout",
     "output_type": "stream",
     "text": [
      "原始行数：25168，去除后行数：25130\n",
      "删除的行数：38，占比：0.15%\n"
     ]
    }
   ],
   "source": [
    "df_cleaned2 = df_cleaned.dropna(subset=['Make', 'Model'])\n",
    "print(f\"原始行数：{len(df_cleaned)}，去除后行数：{len(df_cleaned2)}\")\n",
    "removed_rows = len(df_cleaned) - len(df_cleaned2)\n",
    "print(f\"删除的行数：{removed_rows}，占比：{removed_rows / len(df_cleaned) * 100:.2f}%\")"
   ]
  },
  {
   "cell_type": "code",
   "execution_count": 15,
   "id": "4b6c87a4-66d5-47c9-83d3-1223e5dabac4",
   "metadata": {},
   "outputs": [
    {
     "name": "stdout",
     "output_type": "stream",
     "text": [
      "                    Missing Count  Missing Ratio (%)\n",
      "EventType                       0               0.00\n",
      "EventDate                       0               0.00\n",
      "City                           13               0.05\n",
      "State                        4876              19.40\n",
      "Country                         4               0.02\n",
      "HighestInjuryLevel          13855              55.13\n",
      "FatalInjuryCount                0               0.00\n",
      "SeriousInjuryCount              0               0.00\n",
      "MinorInjuryCount                0               0.00\n",
      "Latitude                        0               0.00\n",
      "Longitude                       0               0.00\n",
      "Make                            0               0.00\n",
      "Model                           0               0.00\n",
      "AirportID                    9937              39.54\n",
      "Scheduled                   22208              88.37\n",
      "PurposeOfFlight              4951              19.70\n",
      "FAR                           680               2.71\n",
      "AirCraftDamage               1609               6.40\n",
      "WeatherCondition             4442              17.68\n"
     ]
    }
   ],
   "source": [
    "missing_count = df_cleaned2.isnull().sum()\n",
    "missing_ratio = df_cleaned2.isnull().mean()\n",
    "missing_df = pd.DataFrame({\n",
    "    'Missing Count': missing_count,\n",
    "    'Missing Ratio (%)': (missing_ratio * 100).round(2)\n",
    "})\n",
    "print(missing_df)"
   ]
  },
  {
   "cell_type": "code",
   "execution_count": 17,
   "id": "fb4e1126-31a9-45ff-9730-258b965f0537",
   "metadata": {},
   "outputs": [
    {
     "name": "stdout",
     "output_type": "stream",
     "text": [
      "       Latitude  Longitude           City     State        Country\n",
      "0           0.0        0.0   Fayetteville  Arkansas  United States\n",
      "1           0.0        0.0       Budapest       NaN        Hungary\n",
      "2           0.0        0.0          Tulsa  Oklahoma  United States\n",
      "4           0.0        0.0        Phoenix   Arizona  United States\n",
      "5           0.0        0.0         Trilla  Illinois  United States\n",
      "...         ...        ...            ...       ...            ...\n",
      "25133       0.0        0.0      St. Croix       NaN  United States\n",
      "25157       0.0        0.0           Hahn       NaN        Germany\n",
      "25159       0.0        0.0  Turin Airport       NaN          Italy\n",
      "25161       0.0        0.0       Dortmund       NaN        Germany\n",
      "25163       0.0        0.0      Sept-Îles       NaN         Canada\n",
      "\n",
      "[2845 rows x 5 columns]\n"
     ]
    }
   ],
   "source": [
    "zero_location = df_cleaned2[(df_cleaned2['Latitude'] == 0) & (df_cleaned2['Longitude'] == 0)]\n",
    "zero_location = zero_location[['Latitude', 'Longitude', 'City', 'State', 'Country']]\n",
    "print(zero_location)"
   ]
  },
  {
   "cell_type": "code",
   "execution_count": 19,
   "id": "3b4cb37c-921d-4d86-84a2-26d968012b54",
   "metadata": {},
   "outputs": [
    {
     "name": "stdout",
     "output_type": "stream",
     "text": [
      "       Latitude  Longitude City State  Country\n",
      "18765       0.0        0.0  NaN   NaN    China\n",
      "22135       0.0        0.0  NaN   NaN   Brazil\n",
      "24870       0.0        0.0  NaN   NaN  Hungary\n"
     ]
    }
   ],
   "source": [
    "zero_location_nan_city = zero_location[zero_location['City'].isnull()]\n",
    "print(zero_location_nan_city)\n"
   ]
  },
  {
   "cell_type": "code",
   "execution_count": 21,
   "id": "7de402e5-50e9-44a5-8ecd-85fb42e9bc20",
   "metadata": {},
   "outputs": [
    {
     "name": "stdout",
     "output_type": "stream",
     "text": [
      "补齐后的 Latitude=0 和 Longitude=0 的行数：33\n"
     ]
    }
   ],
   "source": [
    "city_mapping = df_cleaned2[\n",
    "    (df_cleaned2['Latitude'] != 0) & (df_cleaned2['Longitude'] != 0)\n",
    "][['City', 'State', 'Country', 'Latitude', 'Longitude']].dropna().drop_duplicates()\n",
    "state_mapping = df_cleaned2[\n",
    "    (df_cleaned2['Latitude'] != 0) & (df_cleaned2['Longitude'] != 0)\n",
    "][['State', 'Country', 'Latitude', 'Longitude']].dropna().drop_duplicates()\n",
    "country_mapping = df_cleaned2[\n",
    "    (df_cleaned2['Latitude'] != 0) & (df_cleaned2['Longitude'] != 0)\n",
    "][['Country', 'Latitude', 'Longitude']].dropna().drop_duplicates()\n",
    "def fill_lat_lon(row):\n",
    "    if row['Latitude'] == 0 and row['Longitude'] == 0:\n",
    "        # 优先 City + State + Country\n",
    "        match = city_mapping[\n",
    "            (city_mapping['City'] == row['City']) & \n",
    "            (city_mapping['State'] == row['State']) & \n",
    "            (city_mapping['Country'] == row['Country'])\n",
    "        ]\n",
    "        if not match.empty:\n",
    "            row['Latitude'] = match['Latitude'].values[0]\n",
    "            row['Longitude'] = match['Longitude'].values[0]\n",
    "            return row\n",
    "        match = state_mapping[\n",
    "            (state_mapping['State'] == row['State']) & \n",
    "            (state_mapping['Country'] == row['Country'])\n",
    "        ]\n",
    "        if not match.empty:\n",
    "            row['Latitude'] = match['Latitude'].values[0]\n",
    "            row['Longitude'] = match['Longitude'].values[0]\n",
    "            return row\n",
    "        match = country_mapping[\n",
    "            (country_mapping['Country'] == row['Country'])\n",
    "        ]\n",
    "        if not match.empty:\n",
    "            row['Latitude'] = match['Latitude'].values[0]\n",
    "            row['Longitude'] = match['Longitude'].values[0]\n",
    "            return row\n",
    "\n",
    "    return row\n",
    "df_cleaned3 = df_cleaned2.apply(fill_lat_lon, axis=1)\n",
    "print(f\"补齐后的 Latitude=0 和 Longitude=0 的行数：{len(df_cleaned3[(df_cleaned3['Latitude'] == 0) & (df_cleaned3['Longitude'] == 0)])}\")"
   ]
  },
  {
   "cell_type": "code",
   "execution_count": 23,
   "id": "594ce244-29ce-4611-b100-09cf85bce649",
   "metadata": {},
   "outputs": [
    {
     "name": "stdout",
     "output_type": "stream",
     "text": [
      "                             City                                Country\n",
      "859                        Malabo                      Equatorial Guinea\n",
      "1180                  Ho Chi Minh                                Vietnam\n",
      "1299                       Muscat                                   Oman\n",
      "1481                    Samarkand                             Uzbekistan\n",
      "1925                      Tripoli                                  Libya\n",
      "1966                       Muscat                                   Oman\n",
      "1994                       Bequia          St Vincent And The Grenadines\n",
      "2931                   Donam Port  Democratic People's Republic Of Korea\n",
      "3157                   Luxembourg                             Luxembourg\n",
      "3779              Jraber township                                Armenia\n",
      "4559                          TBD                                   Oman\n",
      "4727                     Punaauia                       French Polynesia\n",
      "6088                      Paranam                               Suriname\n",
      "7822                       Lommis                              Swaziland\n",
      "8156   TAN SON NHAT INT’L AIRPORT                                Vietnam\n",
      "8270                      Incheon  Democratic People's Republic Of Korea\n",
      "8409                Lifou Wanaham                          New Caledonia\n",
      "9928                      Albania                                Albania\n",
      "10684                      Diatar                             Mauritania\n",
      "12167                     Conakry                                 Guinea\n",
      "12848               Poesoegroenoe                               Suriname\n",
      "14587                 Ulaanbaatar                               Mongolia\n",
      "15222                     Nicosia                                 Cyprus\n",
      "15986                       Nauru                                  Nauru\n",
      "17011       Noumea, New Caledonia                          New Caledonia\n",
      "18072                     Honiara                        Solomon Islands\n",
      "19335                  Luxembourg                             Luxembourg\n",
      "19580                      Muscat                                   Oman\n",
      "20901           CAM RANH, Vietnam                                Vietnam\n",
      "24092                  Arnos Vale          St Vincent And The Grenadines\n",
      "24642                     Tripoli                                  Libya\n",
      "24779                    Muharraq                                Bahrain\n",
      "25101                  Luxembourg                             Luxembourg\n"
     ]
    }
   ],
   "source": [
    "still_missing = df_cleaned3[(df_cleaned3['Latitude'] == 0) & (df_cleaned3['Longitude'] == 0)]\n",
    "still_missing = still_missing[['City', 'Country']]\n",
    "print(still_missing)"
   ]
  },
  {
   "cell_type": "code",
   "execution_count": 25,
   "id": "2d8fe17b-2c6a-4060-8a28-8828757d9355",
   "metadata": {},
   "outputs": [],
   "source": [
    "import pandas as pd\n",
    "data = {\n",
    "    'City': [\n",
    "        'Malabo', 'Ho Chi Minh', 'Muscat', 'Samarkand', 'Tripoli', 'Bequia',\n",
    "        'Luxembourg', 'Punaauia', 'Paranam', 'TAN SON NHAT INT’L AIRPORT', 'Incheon',\n",
    "        'Lifou Wanaham', 'Albania', 'Conakry', 'Poesoegroenoe', 'Ulaanbaatar',\n",
    "        'Nicosia', 'Nauru', 'Noumea, New Caledonia', 'Honiara',\n",
    "        'CAM RANH, Vietnam', 'Arnos Vale', 'Muharraq'\n",
    "    ],\n",
    "    'Country': [\n",
    "        'Equatorial Guinea', 'Vietnam', 'Oman', 'Uzbekistan', 'Libya',\n",
    "        'St Vincent And The Grenadines', 'Luxembourg', 'French Polynesia',\n",
    "        'Suriname', 'Vietnam', 'South Korea', 'New Caledonia', 'Albania',\n",
    "        'Guinea', 'Suriname', 'Mongolia', 'Cyprus', 'Nauru', 'New Caledonia',\n",
    "        'Solomon Islands', 'Vietnam', 'St Vincent And The Grenadines', 'Bahrain'\n",
    "    ],\n",
    "    'Latitude': [\n",
    "        3.75, 10.7769, 23.6139, 39.6542, 32.8872, 13.0116,\n",
    "        49.6117, -17.6333, 5.7167, 10.8188, 37.4563,\n",
    "        -20.9, 41.3275, 9.5092, 4.35, 47.9186,\n",
    "        35.1667, -0.5277, -22.2758, -9.4319,\n",
    "        11.9981, 13.1444, 26.2572\n",
    "    ],\n",
    "    'Longitude': [\n",
    "        8.7833, 106.7009, 58.5922, 66.9597, 13.1913, -61.2358,\n",
    "        6.13, -149.5667, -55.0667, 106.6518, 126.7052,\n",
    "        167.2833, 19.8189, -13.7122, -55.4333, 106.917,\n",
    "        33.3667, 166.9364, 166.458, 159.9569,\n",
    "        109.2249, -61.2108, 50.6119\n",
    "    ]\n",
    "}\n",
    "geo_df = pd.DataFrame(data)"
   ]
  },
  {
   "cell_type": "code",
   "execution_count": 27,
   "id": "0d164314-35f8-4209-adc9-cf2a1bea76c7",
   "metadata": {},
   "outputs": [
    {
     "name": "stdout",
     "output_type": "stream",
     "text": [
      "更新后 Latitude=0 且 Longitude=0 的行数：5\n"
     ]
    }
   ],
   "source": [
    "df_merged = df_cleaned3.merge(\n",
    "    geo_df[['City', 'Latitude', 'Longitude']],\n",
    "    on='City',\n",
    "    how='left',\n",
    "    suffixes=('', '_geo')\n",
    ")\n",
    "\n",
    "df_merged['Latitude'] = df_merged.apply(\n",
    "    lambda row: row['Latitude_geo'] if row['Latitude'] == 0 and pd.notna(row['Latitude_geo']) else row['Latitude'],\n",
    "    axis=1\n",
    ")\n",
    "df_merged['Longitude'] = df_merged.apply(\n",
    "    lambda row: row['Longitude_geo'] if row['Longitude'] == 0 and pd.notna(row['Longitude_geo']) else row['Longitude'],\n",
    "    axis=1\n",
    ")\n",
    "\n",
    "df_cleaned3 = df_merged.drop(columns=['Latitude_geo', 'Longitude_geo'])\n",
    "missing_after = df_cleaned3[(df_cleaned3['Latitude'] == 0) & (df_cleaned3['Longitude'] == 0)]\n",
    "print(f\"更新后 Latitude=0 且 Longitude=0 的行数：{len(missing_after)}\")"
   ]
  },
  {
   "cell_type": "code",
   "execution_count": 29,
   "id": "cda277ca-88c3-403d-a4d1-eabc16bd25e3",
   "metadata": {},
   "outputs": [
    {
     "name": "stdout",
     "output_type": "stream",
     "text": [
      "删除后 Latitude=0 且 Longitude=0 的行数：0\n"
     ]
    }
   ],
   "source": [
    "df_cleaned3 = df_cleaned3[~((df_cleaned3['Latitude'] == 0) & (df_cleaned3['Longitude'] == 0))]\n",
    "remaining = df_cleaned3[(df_cleaned3['Latitude'] == 0) & (df_cleaned3['Longitude'] == 0)]\n",
    "print(f\"删除后 Latitude=0 且 Longitude=0 的行数：{len(remaining)}\")"
   ]
  },
  {
   "cell_type": "code",
   "execution_count": 31,
   "id": "1293c588-5e70-4d07-83a1-6d313bf8a60b",
   "metadata": {},
   "outputs": [
    {
     "name": "stdout",
     "output_type": "stream",
     "text": [
      "                    Missing Count  Missing Ratio (%)\n",
      "EventType                       0               0.00\n",
      "EventDate                       0               0.00\n",
      "City                           13               0.05\n",
      "State                        4871              19.39\n",
      "Country                         4               0.02\n",
      "HighestInjuryLevel          13852              55.13\n",
      "FatalInjuryCount                0               0.00\n",
      "SeriousInjuryCount              0               0.00\n",
      "MinorInjuryCount                0               0.00\n",
      "Latitude                        0               0.00\n",
      "Longitude                       0               0.00\n",
      "Make                            0               0.00\n",
      "Model                           0               0.00\n",
      "AirportID                    9932              39.53\n",
      "Scheduled                   22203              88.37\n",
      "PurposeOfFlight              4947              19.69\n",
      "FAR                           680               2.71\n",
      "AirCraftDamage               1609               6.40\n",
      "WeatherCondition             4437              17.66\n"
     ]
    }
   ],
   "source": [
    "missing_count = df_cleaned3.isnull().sum()\n",
    "missing_ratio = df_cleaned3.isnull().mean()\n",
    "missing_df = pd.DataFrame({\n",
    "    'Missing Count': missing_count,\n",
    "    'Missing Ratio (%)': (missing_ratio * 100).round(2)\n",
    "})\n",
    "print(missing_df)"
   ]
  },
  {
   "cell_type": "code",
   "execution_count": 33,
   "id": "18eae5a3-27b9-4ec3-bd38-8bbc58157162",
   "metadata": {},
   "outputs": [
    {
     "name": "stdout",
     "output_type": "stream",
     "text": [
      "City                  0\n",
      "State                 0\n",
      "Country               0\n",
      "HighestInjuryLevel    0\n",
      "dtype: int64\n"
     ]
    }
   ],
   "source": [
    "df_cleaned4 = df_cleaned3.copy()\n",
    "df_cleaned4[['City', 'State', 'Country', 'HighestInjuryLevel']] = df_cleaned4[[\n",
    "    'City', 'State', 'Country', 'HighestInjuryLevel'\n",
    "]].fillna('NaN')\n",
    "print(df_cleaned4[['City', 'State', 'Country', 'HighestInjuryLevel']].isnull().sum())"
   ]
  },
  {
   "cell_type": "code",
   "execution_count": 35,
   "id": "54985991-0ab9-4c18-8543-6778c19c3880",
   "metadata": {},
   "outputs": [
    {
     "name": "stdout",
     "output_type": "stream",
     "text": [
      "                    Missing Count  Missing Ratio (%)\n",
      "EventType                       0               0.00\n",
      "EventDate                       0               0.00\n",
      "City                            0               0.00\n",
      "State                           0               0.00\n",
      "Country                         0               0.00\n",
      "HighestInjuryLevel              0               0.00\n",
      "FatalInjuryCount                0               0.00\n",
      "SeriousInjuryCount              0               0.00\n",
      "MinorInjuryCount                0               0.00\n",
      "Latitude                        0               0.00\n",
      "Longitude                       0               0.00\n",
      "Make                            0               0.00\n",
      "Model                           0               0.00\n",
      "AirportID                    9932              39.53\n",
      "Scheduled                   22203              88.37\n",
      "PurposeOfFlight              4947              19.69\n",
      "FAR                           680               2.71\n",
      "AirCraftDamage               1609               6.40\n",
      "WeatherCondition             4437              17.66\n"
     ]
    }
   ],
   "source": [
    "missing_count = df_cleaned4.isnull().sum()\n",
    "missing_ratio = df_cleaned4.isnull().mean()\n",
    "missing_df = pd.DataFrame({\n",
    "    'Missing Count': missing_count,\n",
    "    'Missing Ratio (%)': (missing_ratio * 100).round(2)\n",
    "})\n",
    "print(missing_df)"
   ]
  },
  {
   "cell_type": "code",
   "execution_count": 37,
   "id": "e508b998-fcc0-409a-a10c-4f261ad5f428",
   "metadata": {},
   "outputs": [
    {
     "name": "stdout",
     "output_type": "stream",
     "text": [
      "列：AirportID\n",
      "非缺失的类别数量：5758\n",
      "类别值：['4S2' 'PVF' '01CL' ... 'KOLD' 'PTRO' 'YZV']\n",
      "----------------------------------------\n",
      "列：Scheduled\n",
      "非缺失的类别数量：2\n",
      "类别值：['SCHD' 'NSCH']\n",
      "----------------------------------------\n",
      "列：PurposeOfFlight\n",
      "非缺失的类别数量：82\n",
      "类别值：['INST' 'PERS' 'AAPL' 'BUS' 'AOBV' 'OWRK' 'FLTS' 'UNK' 'FIRF' 'POSI' ','\n",
      " ',PERS' 'FERY' 'PERS,INST' 'ASHO' 'EXEC' 'PERS,PERS' 'ADRP' 'FIRF,UNK'\n",
      " 'PUBS' 'PUBF' 'INST,INST' 'AOBV,PERS' 'EXLD' 'PUBU' 'SKYD' 'PERS,EXEC'\n",
      " 'FLTS,FLTS' ',,' 'ASHO,ASHO' 'PUBL' 'AAPL,AAPL' 'BANT' 'AAPL,' 'GLDT'\n",
      " ',UNK' 'INST,OWRK' 'AAPL,FIRF' 'OWRK,OWRK' 'AAPL,PERS' 'PERS,' 'POSI,BUS'\n",
      " ',EXEC' 'PUBS,PUBS' 'POSI,' 'INST,PERS' 'INST,PUBF' 'BUS,BUS' 'INST,EXEC'\n",
      " 'PERS,UNK' ',INST' 'POSI,PERS' 'PERS,BUS' 'FIRF,FIRF' 'PERS,AOBV'\n",
      " 'AOBV,AOBV' 'AOBV,' 'PERS,SKYD' 'ADRP,' 'BUS,' 'PUBU,' 'BUS,INST' ',OWRK'\n",
      " 'POSI,POSI' 'PERS,OWRK' 'UNK,UNK' 'PUBS,PERS' 'FLTS,' 'GLDT,GLDT'\n",
      " 'SKYD,SKYD' 'OWRK,PERS' 'PUBL,PUBL' 'UNK,' 'PUBU,INST' 'FERY,PERS'\n",
      " 'PERS,POSI' ',UNK,' ',POSI' 'GLDT,PERS' ',AOBV' ',PUBF' 'GLDT,PERS,GLDT']\n",
      "----------------------------------------\n",
      "列：FAR\n",
      "非缺失的类别数量：65\n",
      "类别值：[121 91 137 135 129 'NUSN' 'NUSC' ',' 121121 '121,091K' 'UNK' 91091 121129\n",
      " '121,ARMF' 'PUBU,UNK' 'PUBU' 'NUSN,NUSN' '091K' 129091 133 121091\n",
      " 'NUSC,NUSC' 'NUSC,NUSC,NUSC' 'UNK,UNK' 137137 125 129121 107 'PUBU,137'\n",
      " 'NUSC,UNK' 129129 91107 'NUSC,NUSN' 91135 103 135091 '129,NUSC'\n",
      " 'PUBU,PUBU' 'NUSC,121' 91121 121135 '091,ARMF' 'ARMF' 135135 135103\n",
      " '091,UNK' 135107 '121,NUSC' 'NUSC,PUBU' 'NUSN,129' 'UNK,PUBU' 'NUSN,NUSC'\n",
      " '107,ARMF' 135121 '121,' '121,UNK' 'PUBU,091' 437 129135 'NUSN,'\n",
      " 'ARMF,ARMF' 'ARMF,091' 'UNK,UNK,UNK' '121,PUBU' 91091091]\n",
      "----------------------------------------\n",
      "列：AirCraftDamage\n",
      "非缺失的类别数量：24\n",
      "类别值：['Substantial' 'Destroyed' 'Minor' ',' 'None,None' 'Unknown'\n",
      " 'Destroyed,Minor' 'Substantial,Minor' 'Substantial,Substantial'\n",
      " 'Destroyed,Destroyed' 'Minor,Destroyed' 'Minor,None' 'Minor,Substantial'\n",
      " 'Destroyed,Substantial' 'None,None,None' 'Minor,Minor'\n",
      " 'Substantial,Destroyed' 'Substantial,None' 'Substantial,Unknown'\n",
      " 'Unknown,Unknown' 'Minor,' 'None,Destroyed' 'Substantial,'\n",
      " 'Substantial,Substantial,None']\n",
      "----------------------------------------\n",
      "列：WeatherCondition\n",
      "非缺失的类别数量：3\n",
      "类别值：['VMC' 'IMC' 'Unknown']\n",
      "----------------------------------------\n"
     ]
    }
   ],
   "source": [
    "cols_to_check = ['AirportID', 'Scheduled', 'PurposeOfFlight', 'FAR', 'AirCraftDamage', 'WeatherCondition']\n",
    "\n",
    "for col in cols_to_check:\n",
    "    non_missing = df_cleaned4[col].dropna()\n",
    "    unique_values = non_missing.unique()\n",
    "    num_unique = len(unique_values)\n",
    "\n",
    "    print(f\"列：{col}\")\n",
    "    print(f\"非缺失的类别数量：{num_unique}\")\n",
    "    print(f\"类别值：{unique_values}\")\n",
    "    print(\"-\" * 40)\n"
   ]
  },
  {
   "cell_type": "code",
   "execution_count": 39,
   "id": "f54f13fa-535d-446c-9a82-c8680b489152",
   "metadata": {},
   "outputs": [
    {
     "name": "stdout",
     "output_type": "stream",
     "text": [
      "             Column  Non-missing Category Count  \\\n",
      "0         AirportID                        5758   \n",
      "1         Scheduled                           2   \n",
      "2   PurposeOfFlight                          82   \n",
      "3               FAR                          65   \n",
      "4    AirCraftDamage                          24   \n",
      "5  WeatherCondition                           3   \n",
      "\n",
      "                                          Categories  \n",
      "0  [4S2, PVF, 01CL, AQY, OAK, DUG, PVB, AUW, FBY,...  \n",
      "1                                       [SCHD, NSCH]  \n",
      "2  [INST, PERS, AAPL, BUS, AOBV, OWRK, FLTS, UNK,...  \n",
      "3  [121, 91, 137, 135, 129, NUSN, NUSC, ,, 121121...  \n",
      "4  [Substantial, Destroyed, Minor, ,, None,None, ...  \n",
      "5                                [VMC, IMC, Unknown]  \n"
     ]
    }
   ],
   "source": [
    "summary = []\n",
    "\n",
    "for col in cols_to_check:\n",
    "    non_missing = df_cleaned4[col].dropna()\n",
    "    unique_values = non_missing.unique()\n",
    "    summary.append({\n",
    "        'Column': col,\n",
    "        'Non-missing Category Count': len(unique_values),\n",
    "        'Categories': list(unique_values)\n",
    "    })\n",
    "\n",
    "summary_df = pd.DataFrame(summary)\n",
    "print(summary_df)\n"
   ]
  },
  {
   "cell_type": "code",
   "execution_count": 41,
   "id": "dd2d3240-d8a5-4df0-bf55-d4476b74e337",
   "metadata": {},
   "outputs": [],
   "source": [
    "def clean_multicategory_column(series):\n",
    "    cleaned_values = []\n",
    "\n",
    "    for value in series:\n",
    "        if pd.isnull(value):\n",
    "            cleaned_values.append(['UNK'])\n",
    "            continue\n",
    "        parts = str(value).replace(' ', '').split(',')\n",
    "        parts = [p for p in parts if p != '' and p != 'UNK']\n",
    "\n",
    "        if not parts:\n",
    "            parts = ['UNK']\n",
    "\n",
    "        cleaned_values.append(parts)\n",
    "\n",
    "    return cleaned_values\n",
    "df_cleaned5 = df_cleaned4.copy()\n",
    "df_cleaned5['PurposeOfFlight_clean'] = clean_multicategory_column(df_cleaned5['PurposeOfFlight'])\n",
    "df_cleaned5['FAR_clean'] = clean_multicategory_column(df_cleaned5['FAR'])"
   ]
  },
  {
   "cell_type": "code",
   "execution_count": 43,
   "id": "adbb6b7f-e87c-447f-b545-ec4d75dbbfec",
   "metadata": {},
   "outputs": [
    {
     "name": "stdout",
     "output_type": "stream",
     "text": [
      "PurposeOfFlight 清洗后的所有类别：\n",
      "['AAPL', 'ADRP', 'AOBV', 'ASHO', 'BANT', 'BUS', 'EXEC', 'EXLD', 'FERY', 'FIRF', 'FLTS', 'GLDT', 'INST', 'OWRK', 'PERS', 'POSI', 'PUBF', 'PUBL', 'PUBS', 'PUBU', 'SKYD', 'UNK']\n",
      "--------------------------------------------------\n",
      "FAR 清洗后的所有类别：\n",
      "['091', '091K', '103', '107', '121', '121091', '121121', '121129', '121135', '125', '129', '129091', '129121', '129129', '129135', '133', '135', '135091', '135103', '135107', '135121', '135135', '137', '137137', '437', '91', '91091', '91091091', '91107', '91121', '91135', 'ARMF', 'NUSC', 'NUSN', 'PUBU', 'UNK']\n"
     ]
    }
   ],
   "source": [
    "# PurposeOfFlight\n",
    "purpose_categories = set()\n",
    "for lst in df_cleaned5['PurposeOfFlight_clean']:\n",
    "    purpose_categories.update(lst)\n",
    "\n",
    "print(\"PurposeOfFlight 清洗后的所有类别：\")\n",
    "print(sorted(purpose_categories))\n",
    "print(\"-\" * 50)\n",
    "\n",
    "# FAR\n",
    "far_categories = set()\n",
    "for lst in df_cleaned5['FAR_clean']:\n",
    "    far_categories.update(lst)\n",
    "\n",
    "print(\"FAR 清洗后的所有类别：\")\n",
    "print(sorted(far_categories))"
   ]
  },
  {
   "cell_type": "code",
   "execution_count": 45,
   "id": "a4b4b08f-85b4-4b58-b0d4-aa1a71dbdbe5",
   "metadata": {},
   "outputs": [],
   "source": [
    "def simplify_far_code(code):\n",
    "    # 如果是缺失或未知\n",
    "    if pd.isnull(code) or code == 'UNK':\n",
    "        return 'UNK'\n",
    "    \n",
    "    # FAR 的主要类别\n",
    "    if '121' in code:\n",
    "        return '121'\n",
    "    elif '91' in code:\n",
    "        return '91'\n",
    "    elif '135' in code:\n",
    "        return '135'\n",
    "    elif '129' in code:\n",
    "        return '129'\n",
    "    elif '133' in code:\n",
    "        return '133'\n",
    "    elif '125' in code:\n",
    "        return '125'\n",
    "    elif '103' in code:\n",
    "        return '103'\n",
    "    elif '107' in code:\n",
    "        return '107'\n",
    "    elif 'NUSN' in code or 'NUSC' in code:\n",
    "        return 'NUS'\n",
    "    elif 'ARMF' in code:\n",
    "        return 'ARMF'\n",
    "    elif 'PUBU' in code:\n",
    "        return 'PUBU'\n",
    "    else:\n",
    "        return code  # 其他保留原值\n",
    "df_cleaned5['FAR_simplified'] = df_cleaned5['FAR_clean'].apply(lambda lst: simplify_far_code(lst[0]))\n"
   ]
  },
  {
   "cell_type": "code",
   "execution_count": 47,
   "id": "5108688c-a87c-423c-b478-b666e70cc8e6",
   "metadata": {},
   "outputs": [
    {
     "name": "stdout",
     "output_type": "stream",
     "text": [
      "简化后的 FAR 类别：\n",
      "['103', '107', '121', '125', '129', '133', '135', '137', '137137', '437', '91', 'ARMF', 'NUS', 'PUBU', 'UNK']\n"
     ]
    }
   ],
   "source": [
    "print(\"简化后的 FAR 类别：\")\n",
    "print(sorted(df_cleaned5['FAR_simplified'].unique()))"
   ]
  },
  {
   "cell_type": "code",
   "execution_count": 49,
   "id": "e6bef3db-6178-461e-baf3-f690a9f6aa16",
   "metadata": {},
   "outputs": [
    {
     "name": "stdout",
     "output_type": "stream",
     "text": [
      "确认包含的清洗列：\n",
      "['PurposeOfFlight_clean', 'FAR_clean', True]\n"
     ]
    }
   ],
   "source": [
    "df_cleaned5 = df_cleaned5.copy()\n",
    "print(\"确认包含的清洗列：\")\n",
    "print(['PurposeOfFlight_clean', 'FAR_clean', 'FAR_simplified' in df_cleaned5.columns])"
   ]
  },
  {
   "cell_type": "code",
   "execution_count": 51,
   "id": "0407b51e-9536-4609-880e-4c12e3628679",
   "metadata": {},
   "outputs": [
    {
     "name": "stdout",
     "output_type": "stream",
     "text": [
      "                       Missing Count  Missing Ratio (%)\n",
      "EventType                          0               0.00\n",
      "EventDate                          0               0.00\n",
      "City                               0               0.00\n",
      "State                              0               0.00\n",
      "Country                            0               0.00\n",
      "HighestInjuryLevel                 0               0.00\n",
      "FatalInjuryCount                   0               0.00\n",
      "SeriousInjuryCount                 0               0.00\n",
      "MinorInjuryCount                   0               0.00\n",
      "Latitude                           0               0.00\n",
      "Longitude                          0               0.00\n",
      "Make                               0               0.00\n",
      "Model                              0               0.00\n",
      "AirportID                       9932              39.53\n",
      "Scheduled                      22203              88.37\n",
      "PurposeOfFlight                 4947              19.69\n",
      "FAR                              680               2.71\n",
      "AirCraftDamage                  1609               6.40\n",
      "WeatherCondition                4437              17.66\n",
      "PurposeOfFlight_clean              0               0.00\n",
      "FAR_clean                          0               0.00\n",
      "FAR_simplified                     0               0.00\n"
     ]
    }
   ],
   "source": [
    "missing_count = df_cleaned5.isnull().sum()\n",
    "missing_ratio = df_cleaned5.isnull().mean()\n",
    "missing_df = pd.DataFrame({\n",
    "    'Missing Count': missing_count,\n",
    "    'Missing Ratio (%)': (missing_ratio * 100).round(2)\n",
    "})\n",
    "print(missing_df)"
   ]
  },
  {
   "cell_type": "code",
   "execution_count": 53,
   "id": "c016d217-f89b-40f7-8e9f-6029e6ee7b50",
   "metadata": {},
   "outputs": [
    {
     "name": "stdout",
     "output_type": "stream",
     "text": [
      "  PurposeOfFlight PurposeOfFlight_clean  FAR FAR_clean FAR_simplified\n",
      "0             NaN                 [UNK]  NaN     [UNK]            UNK\n",
      "1             NaN                 [UNK]  NaN     [UNK]            UNK\n",
      "2             NaN                 [UNK]  121     [121]            121\n",
      "3            INST                [INST]   91      [91]             91\n",
      "4             NaN                 [UNK]  NaN     [UNK]            UNK\n",
      "5             NaN                 [UNK]   91      [91]             91\n",
      "6            PERS                [PERS]   91      [91]             91\n",
      "7            PERS                [PERS]   91      [91]             91\n",
      "8            AAPL                [AAPL]  137     [137]            137\n",
      "9            INST                [INST]  NaN     [UNK]            UNK\n"
     ]
    }
   ],
   "source": [
    "compare_df = df_cleaned5[['PurposeOfFlight', 'PurposeOfFlight_clean', 'FAR', 'FAR_clean', 'FAR_simplified']]\n",
    "print(compare_df.head(10))"
   ]
  },
  {
   "cell_type": "code",
   "execution_count": 55,
   "id": "71a77de3-9ca1-46eb-8f2c-5471c28b5587",
   "metadata": {},
   "outputs": [
    {
     "name": "stdout",
     "output_type": "stream",
     "text": [
      "现在的列名：\n",
      "['EventType', 'EventDate', 'City', 'State', 'Country', 'HighestInjuryLevel', 'FatalInjuryCount', 'SeriousInjuryCount', 'MinorInjuryCount', 'Latitude', 'Longitude', 'Make', 'Model', 'AirportID', 'Scheduled', 'AirCraftDamage', 'WeatherCondition', 'PurposeOfFlight_clean', 'FAR_simplified']\n"
     ]
    }
   ],
   "source": [
    "df_cleaned5 = df_cleaned5.drop(columns=['PurposeOfFlight', 'FAR', 'FAR_clean'])\n",
    "print(\"现在的列名：\")\n",
    "print(df_cleaned5.columns.tolist())"
   ]
  },
  {
   "cell_type": "code",
   "execution_count": 57,
   "id": "bc52cd90-acb9-4340-b380-c4e12cb84773",
   "metadata": {},
   "outputs": [
    {
     "name": "stdout",
     "output_type": "stream",
     "text": [
      "现在的列名：\n",
      "['EventType', 'EventDate', 'City', 'State', 'Country', 'HighestInjuryLevel', 'FatalInjuryCount', 'SeriousInjuryCount', 'MinorInjuryCount', 'Latitude', 'Longitude', 'Make', 'Model', 'AirportID', 'Scheduled', 'AirCraftDamage', 'WeatherCondition', 'PurposeOfFlight', 'FAR']\n"
     ]
    }
   ],
   "source": [
    "df_cleaned5 = df_cleaned5.rename(columns={\n",
    "    'PurposeOfFlight_clean': 'PurposeOfFlight',\n",
    "    'FAR_simplified': 'FAR'\n",
    "})\n",
    "print(\"现在的列名：\")\n",
    "print(df_cleaned5.columns.tolist())\n"
   ]
  },
  {
   "cell_type": "code",
   "execution_count": 59,
   "id": "e6ec43b0-1470-4c4d-bd7b-b948e182994f",
   "metadata": {},
   "outputs": [
    {
     "name": "stdout",
     "output_type": "stream",
     "text": [
      "包含多个类别的行数：0\n",
      "Empty DataFrame\n",
      "Columns: [PurposeOfFlight]\n",
      "Index: []\n"
     ]
    }
   ],
   "source": [
    "multi_label_rows = df_cleaned5[df_cleaned5['PurposeOfFlight'].str.count(',') >= 1]\n",
    "print(f\"包含多个类别的行数：{len(multi_label_rows)}\")\n",
    "print(multi_label_rows[['PurposeOfFlight']].head(10))\n"
   ]
  },
  {
   "cell_type": "code",
   "execution_count": 61,
   "id": "4c8eae31-db63-46af-b319-b1f03982efbf",
   "metadata": {},
   "outputs": [
    {
     "data": {
      "text/html": [
       "<div>\n",
       "<style scoped>\n",
       "    .dataframe tbody tr th:only-of-type {\n",
       "        vertical-align: middle;\n",
       "    }\n",
       "\n",
       "    .dataframe tbody tr th {\n",
       "        vertical-align: top;\n",
       "    }\n",
       "\n",
       "    .dataframe thead th {\n",
       "        text-align: right;\n",
       "    }\n",
       "</style>\n",
       "<table border=\"1\" class=\"dataframe\">\n",
       "  <thead>\n",
       "    <tr style=\"text-align: right;\">\n",
       "      <th></th>\n",
       "      <th>EventType</th>\n",
       "      <th>EventDate</th>\n",
       "      <th>City</th>\n",
       "      <th>State</th>\n",
       "      <th>Country</th>\n",
       "      <th>HighestInjuryLevel</th>\n",
       "      <th>FatalInjuryCount</th>\n",
       "      <th>SeriousInjuryCount</th>\n",
       "      <th>MinorInjuryCount</th>\n",
       "      <th>Latitude</th>\n",
       "      <th>Longitude</th>\n",
       "      <th>Make</th>\n",
       "      <th>Model</th>\n",
       "      <th>AirportID</th>\n",
       "      <th>Scheduled</th>\n",
       "      <th>AirCraftDamage</th>\n",
       "      <th>WeatherCondition</th>\n",
       "      <th>PurposeOfFlight</th>\n",
       "      <th>FAR</th>\n",
       "    </tr>\n",
       "  </thead>\n",
       "  <tbody>\n",
       "    <tr>\n",
       "      <th>0</th>\n",
       "      <td>ACC</td>\n",
       "      <td>2025-04-22T13:25:00Z</td>\n",
       "      <td>Fayetteville</td>\n",
       "      <td>Arkansas</td>\n",
       "      <td>United States</td>\n",
       "      <td>NaN</td>\n",
       "      <td>0</td>\n",
       "      <td>0</td>\n",
       "      <td>0</td>\n",
       "      <td>36.005083</td>\n",
       "      <td>-9.417006e+01</td>\n",
       "      <td>CESSNA</td>\n",
       "      <td>T210N</td>\n",
       "      <td>NaN</td>\n",
       "      <td>NaN</td>\n",
       "      <td>NaN</td>\n",
       "      <td>NaN</td>\n",
       "      <td>UNK</td>\n",
       "      <td>UNK</td>\n",
       "    </tr>\n",
       "    <tr>\n",
       "      <th>1</th>\n",
       "      <td>INC</td>\n",
       "      <td>2025-04-22T04:00:00Z</td>\n",
       "      <td>Budapest</td>\n",
       "      <td>NaN</td>\n",
       "      <td>Hungary</td>\n",
       "      <td>NaN</td>\n",
       "      <td>0</td>\n",
       "      <td>0</td>\n",
       "      <td>0</td>\n",
       "      <td>47.467000</td>\n",
       "      <td>1.895000e+01</td>\n",
       "      <td>BOEING</td>\n",
       "      <td>737</td>\n",
       "      <td>NaN</td>\n",
       "      <td>NaN</td>\n",
       "      <td>NaN</td>\n",
       "      <td>NaN</td>\n",
       "      <td>UNK</td>\n",
       "      <td>UNK</td>\n",
       "    </tr>\n",
       "    <tr>\n",
       "      <th>2</th>\n",
       "      <td>ACC</td>\n",
       "      <td>2025-04-20T04:00:00Z</td>\n",
       "      <td>Tulsa</td>\n",
       "      <td>Oklahoma</td>\n",
       "      <td>United States</td>\n",
       "      <td>NaN</td>\n",
       "      <td>0</td>\n",
       "      <td>0</td>\n",
       "      <td>0</td>\n",
       "      <td>36.198393</td>\n",
       "      <td>-9.588810e+01</td>\n",
       "      <td>BOEING</td>\n",
       "      <td>737-7H4</td>\n",
       "      <td>NaN</td>\n",
       "      <td>SCHD</td>\n",
       "      <td>NaN</td>\n",
       "      <td>NaN</td>\n",
       "      <td>UNK</td>\n",
       "      <td>121</td>\n",
       "    </tr>\n",
       "    <tr>\n",
       "      <th>3</th>\n",
       "      <td>ACC</td>\n",
       "      <td>2025-04-19T11:42:00Z</td>\n",
       "      <td>Hood River</td>\n",
       "      <td>Oregon</td>\n",
       "      <td>United States</td>\n",
       "      <td>NaN</td>\n",
       "      <td>0</td>\n",
       "      <td>0</td>\n",
       "      <td>0</td>\n",
       "      <td>45.674118</td>\n",
       "      <td>-1.215227e+02</td>\n",
       "      <td>SCHWEIZER</td>\n",
       "      <td>SGS 2-33A</td>\n",
       "      <td>4S2</td>\n",
       "      <td>NaN</td>\n",
       "      <td>Substantial</td>\n",
       "      <td>VMC</td>\n",
       "      <td>INST</td>\n",
       "      <td>91</td>\n",
       "    </tr>\n",
       "    <tr>\n",
       "      <th>4</th>\n",
       "      <td>ACC</td>\n",
       "      <td>2025-04-19T11:06:00Z</td>\n",
       "      <td>Phoenix</td>\n",
       "      <td>Arizona</td>\n",
       "      <td>United States</td>\n",
       "      <td>NaN</td>\n",
       "      <td>0</td>\n",
       "      <td>0</td>\n",
       "      <td>0</td>\n",
       "      <td>33.688306</td>\n",
       "      <td>-1.120825e+02</td>\n",
       "      <td>CHAPIN WALLACE HADLEY</td>\n",
       "      <td>SENIOR AERO SPORT</td>\n",
       "      <td>NaN</td>\n",
       "      <td>NaN</td>\n",
       "      <td>NaN</td>\n",
       "      <td>NaN</td>\n",
       "      <td>UNK</td>\n",
       "      <td>UNK</td>\n",
       "    </tr>\n",
       "    <tr>\n",
       "      <th>...</th>\n",
       "      <td>...</td>\n",
       "      <td>...</td>\n",
       "      <td>...</td>\n",
       "      <td>...</td>\n",
       "      <td>...</td>\n",
       "      <td>...</td>\n",
       "      <td>...</td>\n",
       "      <td>...</td>\n",
       "      <td>...</td>\n",
       "      <td>...</td>\n",
       "      <td>...</td>\n",
       "      <td>...</td>\n",
       "      <td>...</td>\n",
       "      <td>...</td>\n",
       "      <td>...</td>\n",
       "      <td>...</td>\n",
       "      <td>...</td>\n",
       "      <td>...</td>\n",
       "      <td>...</td>\n",
       "    </tr>\n",
       "    <tr>\n",
       "      <th>25125</th>\n",
       "      <td>ACC</td>\n",
       "      <td>2010-01-02T17:21:00Z</td>\n",
       "      <td>Somerset</td>\n",
       "      <td>Kentucky</td>\n",
       "      <td>United States</td>\n",
       "      <td>NaN</td>\n",
       "      <td>0</td>\n",
       "      <td>0</td>\n",
       "      <td>0</td>\n",
       "      <td>37.053611</td>\n",
       "      <td>-8.461555e+01</td>\n",
       "      <td>FAIRCHILD</td>\n",
       "      <td>SA227</td>\n",
       "      <td>SME</td>\n",
       "      <td>NSCH</td>\n",
       "      <td>Substantial</td>\n",
       "      <td>VMC</td>\n",
       "      <td>UNK</td>\n",
       "      <td>135</td>\n",
       "    </tr>\n",
       "    <tr>\n",
       "      <th>25126</th>\n",
       "      <td>INC</td>\n",
       "      <td>2010-01-02T14:36:00Z</td>\n",
       "      <td>Sept-Îles</td>\n",
       "      <td>NaN</td>\n",
       "      <td>Canada</td>\n",
       "      <td>NaN</td>\n",
       "      <td>0</td>\n",
       "      <td>0</td>\n",
       "      <td>0</td>\n",
       "      <td>5350.000000</td>\n",
       "      <td>1.140549e+06</td>\n",
       "      <td>Hawker Beechcraft Corp.</td>\n",
       "      <td>200</td>\n",
       "      <td>YZV</td>\n",
       "      <td>NSCH</td>\n",
       "      <td>Minor</td>\n",
       "      <td>NaN</td>\n",
       "      <td>UNK</td>\n",
       "      <td>NUS</td>\n",
       "    </tr>\n",
       "    <tr>\n",
       "      <th>25127</th>\n",
       "      <td>ACC</td>\n",
       "      <td>2010-01-01T21:30:00Z</td>\n",
       "      <td>Pearsall</td>\n",
       "      <td>Texas</td>\n",
       "      <td>United States</td>\n",
       "      <td>NaN</td>\n",
       "      <td>0</td>\n",
       "      <td>0</td>\n",
       "      <td>0</td>\n",
       "      <td>28.864721</td>\n",
       "      <td>-9.912305e+01</td>\n",
       "      <td>MAULE</td>\n",
       "      <td>M-4-220C</td>\n",
       "      <td>NaN</td>\n",
       "      <td>NaN</td>\n",
       "      <td>Substantial</td>\n",
       "      <td>VMC</td>\n",
       "      <td>PERS</td>\n",
       "      <td>91</td>\n",
       "    </tr>\n",
       "    <tr>\n",
       "      <th>25128</th>\n",
       "      <td>ACC</td>\n",
       "      <td>2010-01-01T13:42:00Z</td>\n",
       "      <td>Tipton</td>\n",
       "      <td>California</td>\n",
       "      <td>United States</td>\n",
       "      <td>Minor</td>\n",
       "      <td>0</td>\n",
       "      <td>0</td>\n",
       "      <td>1</td>\n",
       "      <td>36.068889</td>\n",
       "      <td>-1.192611e+02</td>\n",
       "      <td>HILLER</td>\n",
       "      <td>UH-12E</td>\n",
       "      <td>VIS</td>\n",
       "      <td>NaN</td>\n",
       "      <td>Substantial</td>\n",
       "      <td>VMC</td>\n",
       "      <td>AAPL</td>\n",
       "      <td>137</td>\n",
       "    </tr>\n",
       "    <tr>\n",
       "      <th>25129</th>\n",
       "      <td>ACC</td>\n",
       "      <td>2010-01-01T13:08:00Z</td>\n",
       "      <td>Doylestown</td>\n",
       "      <td>Pennsylvania</td>\n",
       "      <td>United States</td>\n",
       "      <td>NaN</td>\n",
       "      <td>0</td>\n",
       "      <td>0</td>\n",
       "      <td>0</td>\n",
       "      <td>40.333057</td>\n",
       "      <td>-7.512222e+01</td>\n",
       "      <td>CESSNA</td>\n",
       "      <td>150G</td>\n",
       "      <td>DYL</td>\n",
       "      <td>NaN</td>\n",
       "      <td>Substantial</td>\n",
       "      <td>VMC</td>\n",
       "      <td>PERS</td>\n",
       "      <td>91</td>\n",
       "    </tr>\n",
       "  </tbody>\n",
       "</table>\n",
       "<p>25125 rows × 19 columns</p>\n",
       "</div>"
      ],
      "text/plain": [
       "      EventType             EventDate          City         State  \\\n",
       "0           ACC  2025-04-22T13:25:00Z  Fayetteville      Arkansas   \n",
       "1           INC  2025-04-22T04:00:00Z      Budapest           NaN   \n",
       "2           ACC  2025-04-20T04:00:00Z         Tulsa      Oklahoma   \n",
       "3           ACC  2025-04-19T11:42:00Z    Hood River        Oregon   \n",
       "4           ACC  2025-04-19T11:06:00Z       Phoenix       Arizona   \n",
       "...         ...                   ...           ...           ...   \n",
       "25125       ACC  2010-01-02T17:21:00Z      Somerset      Kentucky   \n",
       "25126       INC  2010-01-02T14:36:00Z     Sept-Îles           NaN   \n",
       "25127       ACC  2010-01-01T21:30:00Z      Pearsall         Texas   \n",
       "25128       ACC  2010-01-01T13:42:00Z        Tipton    California   \n",
       "25129       ACC  2010-01-01T13:08:00Z    Doylestown  Pennsylvania   \n",
       "\n",
       "             Country HighestInjuryLevel  FatalInjuryCount  SeriousInjuryCount  \\\n",
       "0      United States                NaN                 0                   0   \n",
       "1            Hungary                NaN                 0                   0   \n",
       "2      United States                NaN                 0                   0   \n",
       "3      United States                NaN                 0                   0   \n",
       "4      United States                NaN                 0                   0   \n",
       "...              ...                ...               ...                 ...   \n",
       "25125  United States                NaN                 0                   0   \n",
       "25126         Canada                NaN                 0                   0   \n",
       "25127  United States                NaN                 0                   0   \n",
       "25128  United States              Minor                 0                   0   \n",
       "25129  United States                NaN                 0                   0   \n",
       "\n",
       "       MinorInjuryCount     Latitude     Longitude                     Make  \\\n",
       "0                     0    36.005083 -9.417006e+01                   CESSNA   \n",
       "1                     0    47.467000  1.895000e+01                   BOEING   \n",
       "2                     0    36.198393 -9.588810e+01                   BOEING   \n",
       "3                     0    45.674118 -1.215227e+02                SCHWEIZER   \n",
       "4                     0    33.688306 -1.120825e+02    CHAPIN WALLACE HADLEY   \n",
       "...                 ...          ...           ...                      ...   \n",
       "25125                 0    37.053611 -8.461555e+01                FAIRCHILD   \n",
       "25126                 0  5350.000000  1.140549e+06  Hawker Beechcraft Corp.   \n",
       "25127                 0    28.864721 -9.912305e+01                    MAULE   \n",
       "25128                 1    36.068889 -1.192611e+02                   HILLER   \n",
       "25129                 0    40.333057 -7.512222e+01                   CESSNA   \n",
       "\n",
       "                   Model AirportID Scheduled AirCraftDamage WeatherCondition  \\\n",
       "0                  T210N       NaN       NaN            NaN              NaN   \n",
       "1                    737       NaN       NaN            NaN              NaN   \n",
       "2                737-7H4       NaN      SCHD            NaN              NaN   \n",
       "3              SGS 2-33A       4S2       NaN    Substantial              VMC   \n",
       "4      SENIOR AERO SPORT       NaN       NaN            NaN              NaN   \n",
       "...                  ...       ...       ...            ...              ...   \n",
       "25125              SA227       SME      NSCH    Substantial              VMC   \n",
       "25126                200       YZV      NSCH          Minor              NaN   \n",
       "25127           M-4-220C       NaN       NaN    Substantial              VMC   \n",
       "25128             UH-12E       VIS       NaN    Substantial              VMC   \n",
       "25129               150G       DYL       NaN    Substantial              VMC   \n",
       "\n",
       "      PurposeOfFlight  FAR  \n",
       "0                 UNK  UNK  \n",
       "1                 UNK  UNK  \n",
       "2                 UNK  121  \n",
       "3                INST   91  \n",
       "4                 UNK  UNK  \n",
       "...               ...  ...  \n",
       "25125             UNK  135  \n",
       "25126             UNK  NUS  \n",
       "25127            PERS   91  \n",
       "25128            AAPL  137  \n",
       "25129            PERS   91  \n",
       "\n",
       "[25125 rows x 19 columns]"
      ]
     },
     "execution_count": 61,
     "metadata": {},
     "output_type": "execute_result"
    }
   ],
   "source": [
    "df_cleaned5['PurposeOfFlight'] = df_cleaned5['PurposeOfFlight'].apply(lambda x: x[0] if isinstance(x, list) else x)\n",
    "df_cleaned5['FAR'] = df_cleaned5['FAR'].apply(lambda x: x[0] if isinstance(x, list) else x)\n",
    "df_cleaned5"
   ]
  },
  {
   "cell_type": "code",
   "execution_count": 63,
   "id": "30b53d37-74e9-4e10-b251-1c29de4590b8",
   "metadata": {},
   "outputs": [
    {
     "name": "stdout",
     "output_type": "stream",
     "text": [
      "                    Missing Count  Missing Ratio (%)\n",
      "EventType                       0               0.00\n",
      "EventDate                       0               0.00\n",
      "City                            0               0.00\n",
      "State                           0               0.00\n",
      "Country                         0               0.00\n",
      "HighestInjuryLevel              0               0.00\n",
      "FatalInjuryCount                0               0.00\n",
      "SeriousInjuryCount              0               0.00\n",
      "MinorInjuryCount                0               0.00\n",
      "Latitude                        0               0.00\n",
      "Longitude                       0               0.00\n",
      "Make                            0               0.00\n",
      "Model                           0               0.00\n",
      "AirportID                    9932              39.53\n",
      "Scheduled                   22203              88.37\n",
      "AirCraftDamage               1609               6.40\n",
      "WeatherCondition             4437              17.66\n",
      "PurposeOfFlight                 0               0.00\n",
      "FAR                             0               0.00\n"
     ]
    }
   ],
   "source": [
    "missing_count = df_cleaned5.isnull().sum()\n",
    "missing_ratio = df_cleaned5.isnull().mean()\n",
    "missing_df = pd.DataFrame({\n",
    "    'Missing Count': missing_count,\n",
    "    'Missing Ratio (%)': (missing_ratio * 100).round(2)\n",
    "})\n",
    "print(missing_df)"
   ]
  },
  {
   "cell_type": "code",
   "execution_count": 65,
   "id": "b9a82094-1d6c-4ccd-94df-8e7962a288b2",
   "metadata": {},
   "outputs": [
    {
     "name": "stdout",
     "output_type": "stream",
     "text": [
      "AirportID           0\n",
      "Scheduled           0\n",
      "AirCraftDamage      0\n",
      "WeatherCondition    0\n",
      "dtype: int64\n"
     ]
    }
   ],
   "source": [
    "df_cleaned6 = df_cleaned5.copy()\n",
    "df_cleaned6[['AirportID', 'Scheduled', 'AirCraftDamage', 'WeatherCondition']] = \\\n",
    "    df_cleaned6[['AirportID', 'Scheduled', 'AirCraftDamage', 'WeatherCondition']].fillna('UNK')\n",
    "print(df_cleaned6[['AirportID', 'Scheduled', 'AirCraftDamage', 'WeatherCondition']].isnull().sum())\n"
   ]
  },
  {
   "cell_type": "code",
   "execution_count": 95,
   "id": "cf812528-f272-4474-8fc1-2d589842c8f2",
   "metadata": {},
   "outputs": [
    {
     "name": "stdout",
     "output_type": "stream",
     "text": [
      "  EventType             EventDate          City     State        Country  \\\n",
      "0       ACC  2025-04-22T13:25:00Z  Fayetteville  Arkansas  United States   \n",
      "1       INC  2025-04-22T04:00:00Z      Budapest       NaN        Hungary   \n",
      "2       ACC  2025-04-20T04:00:00Z         Tulsa  Oklahoma  United States   \n",
      "3       ACC  2025-04-19T11:42:00Z    Hood River    Oregon  United States   \n",
      "4       ACC  2025-04-19T11:06:00Z       Phoenix   Arizona  United States   \n",
      "\n",
      "  HighestInjuryLevel  FatalInjuryCount  SeriousInjuryCount  MinorInjuryCount  \\\n",
      "0               NONE                 0                   0                 0   \n",
      "1               NONE                 0                   0                 0   \n",
      "2               NONE                 0                   0                 0   \n",
      "3               NONE                 0                   0                 0   \n",
      "4               NONE                 0                   0                 0   \n",
      "\n",
      "    Latitude   Longitude                   Make              Model AirportID  \\\n",
      "0  36.005083  -94.170056                 CESSNA              T210N       UNK   \n",
      "1  47.467000   18.950000                 BOEING                737       UNK   \n",
      "2  36.198393  -95.888105                 BOEING            737-7H4       UNK   \n",
      "3  45.674118 -121.522710              SCHWEIZER          SGS 2-33A       4S2   \n",
      "4  33.688306 -112.082550  CHAPIN WALLACE HADLEY  SENIOR AERO SPORT       UNK   \n",
      "\n",
      "  Scheduled AirCraftDamage WeatherCondition PurposeOfFlight  FAR  \\\n",
      "0       UNK            UNK              UNK             UNK  UNK   \n",
      "1       UNK            UNK              UNK             UNK  UNK   \n",
      "2      SCHD            UNK              UNK             UNK  121   \n",
      "3       UNK    Substantial              VMC            INST   91   \n",
      "4       UNK            UNK              UNK             UNK  UNK   \n",
      "\n",
      "   SeverityScore  \n",
      "0              0  \n",
      "1              0  \n",
      "2              0  \n",
      "3              0  \n",
      "4              0  \n"
     ]
    }
   ],
   "source": [
    "import pandas as pd\n",
    "df = pd.read_csv('C:\\\\Users\\\\17376\\\\Desktop\\\\CYX\\\\study\\\\5291_capstone\\\\project\\\\data_new\\\\df_with_score.csv')\n",
    "print(df.head())"
   ]
  },
  {
   "cell_type": "code",
   "execution_count": 97,
   "id": "151dfd61-f777-42fc-ae9f-bb883fd60890",
   "metadata": {},
   "outputs": [
    {
     "name": "stdout",
     "output_type": "stream",
     "text": [
      "         Date      Close       High        Low       Open      Volume\n",
      "0  2010-01-04  43.777546  43.941185  42.702198  43.419098   6186700.0\n",
      "1  2010-01-05  45.211349  45.413950  43.637290  43.832099   8867800.0\n",
      "2  2010-01-06  46.582802  46.746444  45.102253  45.374985   8836500.0\n",
      "3  2010-01-07  48.468555  48.554272  45.990581  46.372405  14379100.0\n",
      "4  2010-01-08  48.001015  48.141278  47.424381  47.954262   7146600.0\n"
     ]
    }
   ],
   "source": [
    "boeing = pd.read_csv(\n",
    "    'C:\\\\Users\\\\17376\\\\Desktop\\\\CYX\\\\study\\\\5291_capstone\\\\project\\\\data_new\\\\boeing_stock_2010_2025.csv',\n",
    "    skiprows=2,\n",
    "    names=['Date', 'Close', 'High', 'Low', 'Open', 'Volume']\n",
    ")\n",
    "boeing = boeing.drop(index=0).reset_index(drop=True)\n",
    "print(boeing.head())"
   ]
  },
  {
   "cell_type": "code",
   "execution_count": 99,
   "id": "83cc592e-0b2e-44fa-8518-36f3c80d0e0a",
   "metadata": {},
   "outputs": [
    {
     "name": "stdout",
     "output_type": "stream",
     "text": [
      "       Date    Open    High     Low   Close  Adj Close   Volume\n",
      "0  2009/1/2  12.100  12.630  11.860  12.630   9.872783  1702735\n",
      "1  2009/1/5  12.700  13.440  12.695  13.440  10.505952  2628493\n",
      "2  2009/1/6  13.445  13.925  13.430  13.780  10.771729  2797192\n",
      "3  2009/1/7  13.655  13.800  13.320  13.605  10.634932  2319050\n",
      "4  2009/1/8  13.360  13.490  13.100  13.420  10.490321  2219720\n"
     ]
    }
   ],
   "source": [
    "airbus = pd.read_csv('C:\\\\Users\\\\17376\\\\Desktop\\\\CYX\\\\study\\\\5291_capstone\\\\project\\\\data_new\\\\AIR.PA.csv')\n",
    "airbus = airbus.drop(columns=['Dividends', 'Stock Splits'])\n",
    "print(airbus.head())"
   ]
  },
  {
   "cell_type": "code",
   "execution_count": 101,
   "id": "7fcb42d9-2fff-496b-99be-3788efae8a57",
   "metadata": {},
   "outputs": [
    {
     "name": "stdout",
     "output_type": "stream",
     "text": [
      "       Date        Open        High         Low       Close   Adj Close  \\\n",
      "0  2009-1-2  902.989990  934.729980  899.349976  931.799988  931.799988   \n",
      "1  2009-1-5  929.169983  936.630005  919.530029  927.450012  927.450012   \n",
      "2  2009-1-6  931.169983  943.849976  927.280029  934.700012  934.700012   \n",
      "3  2009-1-7  927.450012  927.450012  902.369995  906.650024  906.650024   \n",
      "4  2009-1-8  905.729980  910.000000  896.809998  909.729980  909.729980   \n",
      "\n",
      "       Volume  \n",
      "0  4048270000  \n",
      "1  5413910000  \n",
      "2  5392620000  \n",
      "3  4704940000  \n",
      "4  4991550000  \n"
     ]
    }
   ],
   "source": [
    "sp500 = pd.read_csv('C:\\\\Users\\\\17376\\\\Desktop\\\\CYX\\\\study\\\\5291_capstone\\\\project\\\\data_new\\\\sp500.csv')\n",
    "sp500 = sp500.drop(columns=['Dividends', 'Stock Splits'])\n",
    "print(sp500.head())"
   ]
  },
  {
   "cell_type": "code",
   "execution_count": 91,
   "id": "29ce9a0d-93d1-4d80-bb0d-9079834f18a3",
   "metadata": {},
   "outputs": [
    {
     "name": "stdout",
     "output_type": "stream",
     "text": [
      "  EventType        Date          City     State        Country  \\\n",
      "0       ACC  2025-04-22  Fayetteville  Arkansas  United States   \n",
      "1       INC  2025-04-22      Budapest       NaN        Hungary   \n",
      "2       ACC  2025-04-20         Tulsa  Oklahoma  United States   \n",
      "3       ACC  2025-04-19    Hood River    Oregon  United States   \n",
      "4       ACC  2025-04-19       Phoenix   Arizona  United States   \n",
      "\n",
      "  HighestInjuryLevel  FatalInjuryCount  SeriousInjuryCount  MinorInjuryCount  \\\n",
      "0               NONE                 0                   0                 0   \n",
      "1               NONE                 0                   0                 0   \n",
      "2               NONE                 0                   0                 0   \n",
      "3               NONE                 0                   0                 0   \n",
      "4               NONE                 0                   0                 0   \n",
      "\n",
      "    Latitude  ...  AirportID Scheduled AirCraftDamage WeatherCondition  \\\n",
      "0  36.005083  ...        UNK       UNK            UNK              UNK   \n",
      "1  47.467000  ...        UNK       UNK            UNK              UNK   \n",
      "2  36.198393  ...        UNK      SCHD            UNK              UNK   \n",
      "3  45.674118  ...        4S2       UNK    Substantial              VMC   \n",
      "4  33.688306  ...        UNK       UNK            UNK              UNK   \n",
      "\n",
      "  PurposeOfFlight  FAR SeverityScore boeing      airbus        sp500  \n",
      "0             UNK  UNK             0    NaN  133.059998  5287.759766  \n",
      "1             UNK  UNK             0    NaN  133.059998  5287.759766  \n",
      "2             UNK  121             0    NaN         NaN          NaN  \n",
      "3            INST   91             0    NaN         NaN          NaN  \n",
      "4             UNK  UNK             0    NaN         NaN          NaN  \n",
      "\n",
      "[5 rows x 23 columns]\n"
     ]
    }
   ],
   "source": [
    "import pandas as pd\n",
    "df['EventDate'] = pd.to_datetime(df['EventDate']).dt.date\n",
    "boeing['Date'] = pd.to_datetime(boeing['Date']).dt.date\n",
    "airbus['Date'] = pd.to_datetime(airbus['Date']).dt.date\n",
    "sp500['Date'] = pd.to_datetime(sp500['Date']).dt.date\n",
    "boeing_price = boeing[['Date', 'Close']].rename(columns={'Close': 'boeing'})\n",
    "airbus_price = airbus[['Date', 'Close']].rename(columns={'Close': 'airbus'})\n",
    "sp500_price = sp500[['Date', 'Close']].rename(columns={'Close': 'sp500'})\n",
    "df = df.rename(columns={'EventDate': 'Date'})\n",
    "df2 = pd.merge(df, boeing_price, on='Date', how='left')\n",
    "df2 = pd.merge(df2, airbus_price, on='Date', how='left')\n",
    "df2 = pd.merge(df2, sp500_price, on='Date', how='left')\n",
    "print(df2.head())"
   ]
  },
  {
   "cell_type": "code",
   "execution_count": 77,
   "id": "0d85cfc7-5210-470d-9449-093352fabdfe",
   "metadata": {},
   "outputs": [
    {
     "name": "stdout",
     "output_type": "stream",
     "text": [
      "  EventType        Date           City       State        Country  \\\n",
      "0       ACC  2024-12-31      Anchorage      Alaska  United States   \n",
      "1       ACC  2024-12-31     Los Alamos  New Mexico  United States   \n",
      "2       ACC  2024-12-31      Galveston       Texas  United States   \n",
      "3       ACC  2024-12-30        Peebles        Ohio  United States   \n",
      "4       ACC  2024-12-27  New Braunfels       Texas  United States   \n",
      "\n",
      "  HighestInjuryLevel  FatalInjuryCount  SeriousInjuryCount  MinorInjuryCount  \\\n",
      "0               NONE                 0                   0                 0   \n",
      "1               NONE                 0                   0                 0   \n",
      "2               NONE                 0                   0                 0   \n",
      "3              Fatal                 1                   0                 0   \n",
      "4            Serious                 0                   2                 1   \n",
      "\n",
      "    Latitude  ...  AirportID Scheduled AirCraftDamage WeatherCondition  \\\n",
      "0  61.215714  ...        AMR       UNK    Substantial              VMC   \n",
      "1  35.879686  ...        LAM       UNK    Substantial              VMC   \n",
      "2  29.304540  ...        UNK       UNK    Substantial              VMC   \n",
      "3  38.994612  ...        UNK       UNK    Substantial              VMC   \n",
      "4  29.702707  ...       KBAZ       UNK    Substantial              VMC   \n",
      "\n",
      "  PurposeOfFlight FAR SeverityScore      boeing      airbus        sp500  \n",
      "0            INST  91             0  177.000000  154.779999  5881.629883  \n",
      "1            PERS  91             0  177.000000  154.779999  5881.629883  \n",
      "2            POSI  91             0  177.000000  154.779999  5881.629883  \n",
      "3            FERY  91             3  176.550003  154.380005  5906.939941  \n",
      "4            PERS  91             5  180.720001  155.300003  5970.839844  \n",
      "\n",
      "[5 rows x 23 columns]\n"
     ]
    }
   ],
   "source": [
    "df2_clean = df2.dropna(subset=['boeing', 'airbus', 'sp500']).reset_index(drop=True)\n",
    "print(df2_clean.head())"
   ]
  },
  {
   "cell_type": "code",
   "execution_count": 103,
   "id": "56df8c97-3890-4b79-af0b-701b3c0727b2",
   "metadata": {},
   "outputs": [
    {
     "name": "stdout",
     "output_type": "stream",
     "text": [
      "        Date   EventDate  SeverityScore    Open    High     Low   Close  \\\n",
      "0 2010-01-05  2010-01-05           20.0  13.880  14.025  13.705  13.945   \n",
      "1 2010-01-06  2010-01-06            3.0  13.960  14.090  13.925  14.070   \n",
      "2 2010-01-07  2010-01-07            1.0  13.910  14.265  13.860  14.210   \n",
      "3 2010-01-08  2010-01-08           12.0  14.315  14.480  14.205  14.350   \n",
      "4 2010-01-11  2010-01-11            0.0  14.470  14.590  14.360  14.480   \n",
      "\n",
      "   Adj Close   Volume    Return  SeverityScore_scaled  \n",
      "0  11.085545  2700340 -0.003222              0.363594  \n",
      "1  11.184914  3993940  0.008924             -0.228839  \n",
      "2  11.296206  4633114  0.009901             -0.298538  \n",
      "3  11.407497  2289556  0.009804              0.084802  \n",
      "4  11.510842  2884240  0.009018             -0.333387  \n"
     ]
    }
   ],
   "source": [
    "import pandas as pd\n",
    "import numpy as np\n",
    "from sklearn.preprocessing import StandardScaler\n",
    "df['EventDate'] = pd.to_datetime(df['EventDate']).dt.date\n",
    "daily_severity = df.groupby('EventDate')['SeverityScore'].sum().reset_index()\n",
    "airbus['Date'] = pd.to_datetime(airbus['Date']).dt.date\n",
    "full_dates = pd.DataFrame({'Date': airbus['Date'].unique()})\n",
    "daily_severity_full = full_dates.merge(daily_severity, how='left', left_on='Date', right_on='EventDate')\n",
    "daily_severity_full['SeverityScore'] = daily_severity_full['SeverityScore'].fillna(0)\n",
    "daily_severity_full = daily_severity_full.dropna(subset=daily_severity_full.columns.tolist()).reset_index(drop=True)\n",
    "daily_severity_full['Date'] = pd.to_datetime(daily_severity_full['Date'])\n",
    "airbus['Date'] = pd.to_datetime(airbus['Date'])\n",
    "common_dates = pd.Series(list(set(daily_severity_full['Date']) & set(airbus['Date'])))\n",
    "daily_severity_full_aligned = daily_severity_full[daily_severity_full['Date'].isin(common_dates)].reset_index(drop=True)\n",
    "airbus_aligned = airbus[airbus['Date'].isin(common_dates)].reset_index(drop=True)\n",
    "merged_data = pd.merge(daily_severity_full_aligned, airbus_aligned, on='Date', how='inner')\n",
    "merged_data['Return'] = np.log(merged_data['Close']).diff()\n",
    "merged_data = merged_data.dropna().reset_index(drop=True)\n",
    "scaler = StandardScaler()\n",
    "merged_data['SeverityScore_scaled'] = scaler.fit_transform(merged_data[['SeverityScore']])\n",
    "print(merged_data.head())\n"
   ]
  },
  {
   "cell_type": "code",
   "execution_count": 105,
   "id": "924175ed-6b20-4d95-ac0e-c4ea59fa3b61",
   "metadata": {},
   "outputs": [
    {
     "name": "stdout",
     "output_type": "stream",
     "text": [
      "        Date   EventDate  SeverityScore    Open    High     Low   Close  \\\n",
      "0 2010-01-05  2010-01-05           20.0  13.880  14.025  13.705  13.945   \n",
      "1 2010-01-06  2010-01-06            3.0  13.960  14.090  13.925  14.070   \n",
      "2 2010-01-07  2010-01-07            1.0  13.910  14.265  13.860  14.210   \n",
      "3 2010-01-08  2010-01-08           12.0  14.315  14.480  14.205  14.350   \n",
      "4 2010-01-11  2010-01-11            0.0  14.470  14.590  14.360  14.480   \n",
      "\n",
      "   Adj Close   Volume    Return  SeverityScore_scaled  SP500_Close  \n",
      "0  11.085545  2700340 -0.003222              0.363594  1136.520020  \n",
      "1  11.184914  3993940  0.008924             -0.228839  1137.140015  \n",
      "2  11.296206  4633114  0.009901             -0.298538  1141.689941  \n",
      "3  11.407497  2289556  0.009804              0.084802  1144.979980  \n",
      "4  11.510842  2884240  0.009018             -0.333387  1146.979980  \n"
     ]
    }
   ],
   "source": [
    "sp500['Date'] = pd.to_datetime(sp500['Date'])  \n",
    "merged_data = pd.merge(\n",
    "    merged_data,\n",
    "    sp500[['Date', 'Close']].rename(columns={'Close': 'SP500_Close'}),\n",
    "    on='Date',\n",
    "    how='left'\n",
    ")\n",
    "print(merged_data.head())"
   ]
  },
  {
   "cell_type": "code",
   "execution_count": 107,
   "id": "b8435fd8-7a9a-4134-8442-62576485d5cd",
   "metadata": {},
   "outputs": [
    {
     "name": "stdout",
     "output_type": "stream",
     "text": [
      "(3814, 7)\n"
     ]
    }
   ],
   "source": [
    "merged_data = merged_data.drop(columns=['EventDate', 'Open', 'High', 'Low', 'Volume'])\n",
    "print(merged_data.shape) "
   ]
  },
  {
   "cell_type": "code",
   "execution_count": 109,
   "id": "90bb3687-ec7b-4554-8cf9-eadfd438feff",
   "metadata": {},
   "outputs": [
    {
     "name": "stdout",
     "output_type": "stream",
     "text": [
      "        Date    Return  SP500_Return  SeverityScore_scaled\n",
      "0 2010-01-06  0.008924      0.000545             -0.228839\n",
      "1 2010-01-07  0.009901      0.003993             -0.298538\n",
      "2 2010-01-08  0.009804      0.002878              0.084802\n",
      "3 2010-01-11  0.009018      0.001745             -0.333387\n",
      "4 2010-01-12 -0.026594     -0.009425             -0.333387\n"
     ]
    }
   ],
   "source": [
    "merged_data['SP500_Return'] = np.log(merged_data['SP500_Close']).diff()\n",
    "merged_data = merged_data.dropna().reset_index(drop=True)\n",
    "final_data = merged_data[['Date', 'Return', 'SP500_Return', 'SeverityScore_scaled']]\n",
    "print(final_data.head())"
   ]
  },
  {
   "cell_type": "code",
   "execution_count": 111,
   "id": "ba956868-af67-48c1-96f7-ac298e796270",
   "metadata": {},
   "outputs": [
    {
     "name": "stdout",
     "output_type": "stream",
     "text": [
      "         Date   EventDate  SeverityScore      Close       High        Low  \\\n",
      "0  2010-01-06  2010-01-06            3.0  46.582802  46.746444  45.102253   \n",
      "1  2010-01-07  2010-01-07            1.0  48.468555  48.554272  45.990581   \n",
      "2  2010-01-08  2010-01-08           12.0  48.001015  48.141278  47.424381   \n",
      "3  2010-01-11  2010-01-11            0.0  47.432175  48.382845  47.151649   \n",
      "4  2010-01-12  2010-01-12            0.0  47.089306  47.689319  46.684102   \n",
      "\n",
      "        Open      Volume    Return  SeverityScore_scaled  \n",
      "0  45.374985   8836500.0  0.029883             -0.226338  \n",
      "1  46.372405  14379100.0  0.039684             -0.295539  \n",
      "2  47.954262   7146600.0 -0.009693              0.085066  \n",
      "3  48.273752   5624900.0 -0.011921             -0.330139  \n",
      "4  46.808780   5273800.0 -0.007255             -0.330139  \n"
     ]
    }
   ],
   "source": [
    "import pandas as pd\n",
    "df = pd.read_csv('C:\\\\Users\\\\17376\\\\Desktop\\\\CYX\\\\study\\\\5291_capstone\\\\project\\\\data_new\\\\merged_data.csv')\n",
    "print(df.head())"
   ]
  },
  {
   "cell_type": "code",
   "execution_count": 113,
   "id": "c2309fc2-ee84-448d-a912-28ee64af48ed",
   "metadata": {},
   "outputs": [
    {
     "name": "stdout",
     "output_type": "stream",
     "text": [
      "        Date    Return  SP500_Return  SeverityScore_scaled\n",
      "0 2010-01-07  0.039684      0.003993             -0.295539\n",
      "1 2010-01-08 -0.009693      0.002878              0.085066\n",
      "2 2010-01-11 -0.011921      0.001745             -0.330139\n",
      "3 2010-01-12 -0.007255     -0.009425             -0.330139\n",
      "4 2010-01-13  0.012008      0.008291             -0.226338\n"
     ]
    }
   ],
   "source": [
    "df['Date'] = pd.to_datetime(df['Date'])\n",
    "sp500['Date'] = pd.to_datetime(sp500['Date'])\n",
    "df = pd.merge(\n",
    "    df,\n",
    "    sp500[['Date', 'Close']].rename(columns={'Close': 'SP500_Close'}),\n",
    "    on='Date',\n",
    "    how='left'\n",
    ")\n",
    "df['SP500_Return'] = np.log(df['SP500_Close']).diff()\n",
    "df = df.drop(columns=['EventDate', 'Open', 'High', 'Low', 'Volume'])\n",
    "df = df.dropna().reset_index(drop=True)\n",
    "final_data_boeing = df[['Date', 'Return', 'SP500_Return', 'SeverityScore_scaled']]\n",
    "print(final_data_boeing.head())"
   ]
  },
  {
   "cell_type": "code",
   "execution_count": 115,
   "id": "680499ea-bbd1-4268-8e1b-f7fd4a917948",
   "metadata": {},
   "outputs": [
    {
     "name": "stdout",
     "output_type": "stream",
     "text": [
      "  EventType             EventDate          City     State        Country  \\\n",
      "0       ACC  2025-04-22T13:25:00Z  Fayetteville  Arkansas  United States   \n",
      "1       INC  2025-04-22T04:00:00Z      Budapest       NaN        Hungary   \n",
      "2       ACC  2025-04-20T04:00:00Z         Tulsa  Oklahoma  United States   \n",
      "3       ACC  2025-04-19T11:42:00Z    Hood River    Oregon  United States   \n",
      "4       ACC  2025-04-19T11:06:00Z       Phoenix   Arizona  United States   \n",
      "\n",
      "  HighestInjuryLevel  FatalInjuryCount  SeriousInjuryCount  MinorInjuryCount  \\\n",
      "0                NaN                 0                   0                 0   \n",
      "1                NaN                 0                   0                 0   \n",
      "2                NaN                 0                   0                 0   \n",
      "3                NaN                 0                   0                 0   \n",
      "4                NaN                 0                   0                 0   \n",
      "\n",
      "    Latitude   Longitude                   Make              Model AirportID  \\\n",
      "0  36.005083  -94.170056                 CESSNA              T210N       UNK   \n",
      "1  47.467000   18.950000                 BOEING                737       UNK   \n",
      "2  36.198393  -95.888105                 BOEING            737-7H4       UNK   \n",
      "3  45.674118 -121.522710              SCHWEIZER          SGS 2-33A       4S2   \n",
      "4  33.688306 -112.082550  CHAPIN WALLACE HADLEY  SENIOR AERO SPORT       UNK   \n",
      "\n",
      "  Scheduled AirCraftDamage WeatherCondition PurposeOfFlight  FAR  \n",
      "0       UNK            UNK              UNK             UNK  UNK  \n",
      "1       UNK            UNK              UNK             UNK  UNK  \n",
      "2      SCHD            UNK              UNK             UNK  121  \n",
      "3       UNK    Substantial              VMC            INST   91  \n",
      "4       UNK            UNK              UNK             UNK  UNK  \n"
     ]
    }
   ],
   "source": [
    "import pandas as pd\n",
    "df = pd.read_csv('C:\\\\Users\\\\17376\\\\Desktop\\\\CYX\\\\study\\\\5291_capstone\\\\project\\\\data_new\\\\df_cleaned2.csv')\n",
    "print(df.head())"
   ]
  },
  {
   "cell_type": "code",
   "execution_count": 117,
   "id": "35db20ae-30c3-4c03-b3a3-66d7f3313df4",
   "metadata": {},
   "outputs": [
    {
     "name": "stdout",
     "output_type": "stream",
     "text": [
      "一共有 3921 种不同的制造商。\n",
      "公司名称列表：\n",
      "['CESSNA' 'BOEING' 'SCHWEIZER' ... 'LARSON' 'Dassault Falcon'\n",
      " 'GRUMMAN AMERICAN']\n"
     ]
    }
   ],
   "source": [
    "unique_makes = df['Make'].nunique()\n",
    "print(f\"一共有 {unique_makes} 种不同的制造商。\")\n",
    "makes_list = df['Make'].unique()\n",
    "print(\"公司名称列表：\")\n",
    "print(makes_list)"
   ]
  },
  {
   "cell_type": "code",
   "execution_count": 119,
   "id": "9eaa25c2-86e9-4193-ad92-1ee11a6c0095",
   "metadata": {},
   "outputs": [
    {
     "name": "stdout",
     "output_type": "stream",
     "text": [
      "Make\n",
      "CESSNA                5868\n",
      "PIPER                 3422\n",
      "BOEING                1401\n",
      "BEECHCRAFT            1267\n",
      "ROBINSON               834\n",
      "BELL                   670\n",
      "AIR TRACTOR            395\n",
      "AIRBUS                 311\n",
      "MOONEY                 290\n",
      "CIRRUS DESIGN CORP     251\n",
      "BELLANCA               182\n",
      "MAULE                  164\n",
      "AERONCA                163\n",
      "VANS                   156\n",
      "EMBRAER                155\n",
      "SCHWEIZER              150\n",
      "HUGHES                 149\n",
      "CIRRUS                 141\n",
      "CHAMPION               133\n",
      "LUSCOMBE               119\n",
      "Name: count, dtype: int64\n"
     ]
    }
   ],
   "source": [
    "df['Make'] = df['Make'].str.upper()\n",
    "alias_mapping = {\n",
    "    'CESSNA': 'CESSNA',\n",
    "    'CESSNA AIRCRAFT COMPANY': 'CESSNA',\n",
    "    'CESSNA AIRCRAFT CO': 'CESSNA',\n",
    "    \n",
    "    'PIPER': 'PIPER',\n",
    "    \n",
    "    'BEECH': 'BEECHCRAFT',\n",
    "    'BEECHCRAFT': 'BEECHCRAFT',\n",
    "    \n",
    "    'BOEING': 'BOEING',\n",
    "    \n",
    "    'AIRBUS': 'AIRBUS',\n",
    "    \n",
    "    'ROBINSON': 'ROBINSON',\n",
    "    'ROBINSON HELICOPTER': 'ROBINSON',\n",
    "    'ROBINSON HELICOPTER COMPANY': 'ROBINSON',\n",
    "    \n",
    "    'BELL': 'BELL',\n",
    "    \n",
    "    'CIRRUS': 'CIRRUS',\n",
    "    'CIRRUS DESIGN': 'CIRRUS',\n",
    "    \n",
    "    'MOONEY': 'MOONEY',\n",
    "    \n",
    "    'AIR TRACTOR': 'AIR TRACTOR',\n",
    "    'AIR TRACTOR INC': 'AIR TRACTOR',\n",
    "    \n",
    "    'BEECH': 'BEECHCRAFT',\n",
    "    'BEECHCRAFT': 'BEECHCRAFT',\n",
    "\n",
    "    'SCHWEIZER': 'SCHWEIZER',\n",
    "    'HUGHES': 'HUGHES',\n",
    "    'EMBRAER': 'EMBRAER',\n",
    "\n",
    "    'EUROCOPTER': 'EUROCOPTER',\n",
    "    'DEHAVILLAND': 'DEHAVILLAND',\n",
    "\n",
    "    'CHAMPION': 'CHAMPION',\n",
    "    'MAULE': 'MAULE',\n",
    "    'AERONCA': 'AERONCA',\n",
    "    'LUSCOMBE': 'LUSCOMBE',\n",
    "    'VANS': 'VANS',\n",
    "}\n",
    "df['Make'] = df['Make'].replace(alias_mapping)\n",
    "print(df['Make'].value_counts().head(20))\n"
   ]
  },
  {
   "cell_type": "code",
   "execution_count": 121,
   "id": "a5a92f89-a6f7-46b6-adb1-b51f817fcd55",
   "metadata": {},
   "outputs": [
    {
     "name": "stderr",
     "output_type": "stream",
     "text": [
      "C:\\Users\\17376\\AppData\\Local\\Temp\\ipykernel_40108\\3176869406.py:10: UserWarning: Glyph 21046 (\\N{CJK UNIFIED IDEOGRAPH-5236}) missing from font(s) DejaVu Sans.\n",
      "  plt.tight_layout()\n",
      "C:\\Users\\17376\\AppData\\Local\\Temp\\ipykernel_40108\\3176869406.py:10: UserWarning: Glyph 36896 (\\N{CJK UNIFIED IDEOGRAPH-9020}) missing from font(s) DejaVu Sans.\n",
      "  plt.tight_layout()\n",
      "C:\\Users\\17376\\AppData\\Local\\Temp\\ipykernel_40108\\3176869406.py:10: UserWarning: Glyph 21830 (\\N{CJK UNIFIED IDEOGRAPH-5546}) missing from font(s) DejaVu Sans.\n",
      "  plt.tight_layout()\n",
      "C:\\Users\\17376\\AppData\\Local\\Temp\\ipykernel_40108\\3176869406.py:10: UserWarning: Glyph 20107 (\\N{CJK UNIFIED IDEOGRAPH-4E8B}) missing from font(s) DejaVu Sans.\n",
      "  plt.tight_layout()\n",
      "C:\\Users\\17376\\AppData\\Local\\Temp\\ipykernel_40108\\3176869406.py:10: UserWarning: Glyph 25925 (\\N{CJK UNIFIED IDEOGRAPH-6545}) missing from font(s) DejaVu Sans.\n",
      "  plt.tight_layout()\n",
      "C:\\Users\\17376\\AppData\\Local\\Temp\\ipykernel_40108\\3176869406.py:10: UserWarning: Glyph 27425 (\\N{CJK UNIFIED IDEOGRAPH-6B21}) missing from font(s) DejaVu Sans.\n",
      "  plt.tight_layout()\n",
      "C:\\Users\\17376\\AppData\\Local\\Temp\\ipykernel_40108\\3176869406.py:10: UserWarning: Glyph 25968 (\\N{CJK UNIFIED IDEOGRAPH-6570}) missing from font(s) DejaVu Sans.\n",
      "  plt.tight_layout()\n",
      "C:\\Users\\17376\\AppData\\Local\\Temp\\ipykernel_40108\\3176869406.py:10: UserWarning: Glyph 26368 (\\N{CJK UNIFIED IDEOGRAPH-6700}) missing from font(s) DejaVu Sans.\n",
      "  plt.tight_layout()\n",
      "C:\\Users\\17376\\AppData\\Local\\Temp\\ipykernel_40108\\3176869406.py:10: UserWarning: Glyph 22810 (\\N{CJK UNIFIED IDEOGRAPH-591A}) missing from font(s) DejaVu Sans.\n",
      "  plt.tight_layout()\n",
      "C:\\Users\\17376\\AppData\\Local\\Temp\\ipykernel_40108\\3176869406.py:10: UserWarning: Glyph 30340 (\\N{CJK UNIFIED IDEOGRAPH-7684}) missing from font(s) DejaVu Sans.\n",
      "  plt.tight_layout()\n",
      "C:\\Users\\17376\\AppData\\Local\\Temp\\ipykernel_40108\\3176869406.py:10: UserWarning: Glyph 21069 (\\N{CJK UNIFIED IDEOGRAPH-524D}) missing from font(s) DejaVu Sans.\n",
      "  plt.tight_layout()\n",
      "C:\\Users\\17376\\AppData\\Local\\Temp\\ipykernel_40108\\3176869406.py:10: UserWarning: Glyph 23478 (\\N{CJK UNIFIED IDEOGRAPH-5BB6}) missing from font(s) DejaVu Sans.\n",
      "  plt.tight_layout()\n",
      "C:\\Users\\17376\\anaconda3\\Lib\\site-packages\\IPython\\core\\pylabtools.py:170: UserWarning: Glyph 20107 (\\N{CJK UNIFIED IDEOGRAPH-4E8B}) missing from font(s) DejaVu Sans.\n",
      "  fig.canvas.print_figure(bytes_io, **kw)\n",
      "C:\\Users\\17376\\anaconda3\\Lib\\site-packages\\IPython\\core\\pylabtools.py:170: UserWarning: Glyph 25925 (\\N{CJK UNIFIED IDEOGRAPH-6545}) missing from font(s) DejaVu Sans.\n",
      "  fig.canvas.print_figure(bytes_io, **kw)\n",
      "C:\\Users\\17376\\anaconda3\\Lib\\site-packages\\IPython\\core\\pylabtools.py:170: UserWarning: Glyph 27425 (\\N{CJK UNIFIED IDEOGRAPH-6B21}) missing from font(s) DejaVu Sans.\n",
      "  fig.canvas.print_figure(bytes_io, **kw)\n",
      "C:\\Users\\17376\\anaconda3\\Lib\\site-packages\\IPython\\core\\pylabtools.py:170: UserWarning: Glyph 25968 (\\N{CJK UNIFIED IDEOGRAPH-6570}) missing from font(s) DejaVu Sans.\n",
      "  fig.canvas.print_figure(bytes_io, **kw)\n",
      "C:\\Users\\17376\\anaconda3\\Lib\\site-packages\\IPython\\core\\pylabtools.py:170: UserWarning: Glyph 26368 (\\N{CJK UNIFIED IDEOGRAPH-6700}) missing from font(s) DejaVu Sans.\n",
      "  fig.canvas.print_figure(bytes_io, **kw)\n",
      "C:\\Users\\17376\\anaconda3\\Lib\\site-packages\\IPython\\core\\pylabtools.py:170: UserWarning: Glyph 22810 (\\N{CJK UNIFIED IDEOGRAPH-591A}) missing from font(s) DejaVu Sans.\n",
      "  fig.canvas.print_figure(bytes_io, **kw)\n",
      "C:\\Users\\17376\\anaconda3\\Lib\\site-packages\\IPython\\core\\pylabtools.py:170: UserWarning: Glyph 30340 (\\N{CJK UNIFIED IDEOGRAPH-7684}) missing from font(s) DejaVu Sans.\n",
      "  fig.canvas.print_figure(bytes_io, **kw)\n",
      "C:\\Users\\17376\\anaconda3\\Lib\\site-packages\\IPython\\core\\pylabtools.py:170: UserWarning: Glyph 21069 (\\N{CJK UNIFIED IDEOGRAPH-524D}) missing from font(s) DejaVu Sans.\n",
      "  fig.canvas.print_figure(bytes_io, **kw)\n",
      "C:\\Users\\17376\\anaconda3\\Lib\\site-packages\\IPython\\core\\pylabtools.py:170: UserWarning: Glyph 23478 (\\N{CJK UNIFIED IDEOGRAPH-5BB6}) missing from font(s) DejaVu Sans.\n",
      "  fig.canvas.print_figure(bytes_io, **kw)\n",
      "C:\\Users\\17376\\anaconda3\\Lib\\site-packages\\IPython\\core\\pylabtools.py:170: UserWarning: Glyph 21046 (\\N{CJK UNIFIED IDEOGRAPH-5236}) missing from font(s) DejaVu Sans.\n",
      "  fig.canvas.print_figure(bytes_io, **kw)\n",
      "C:\\Users\\17376\\anaconda3\\Lib\\site-packages\\IPython\\core\\pylabtools.py:170: UserWarning: Glyph 36896 (\\N{CJK UNIFIED IDEOGRAPH-9020}) missing from font(s) DejaVu Sans.\n",
      "  fig.canvas.print_figure(bytes_io, **kw)\n",
      "C:\\Users\\17376\\anaconda3\\Lib\\site-packages\\IPython\\core\\pylabtools.py:170: UserWarning: Glyph 21830 (\\N{CJK UNIFIED IDEOGRAPH-5546}) missing from font(s) DejaVu Sans.\n",
      "  fig.canvas.print_figure(bytes_io, **kw)\n"
     ]
    },
    {
     "data": {
      "image/png": "[encoded data removed]",
      "text/plain": [
       "<Figure size 1000x600 with 1 Axes>"
      ]
     },
     "metadata": {},
     "output_type": "display_data"
    }
   ],
   "source": [
    "import matplotlib.pyplot as plt\n",
    "top_10_makes = df['Make'].value_counts().head(10)\n",
    "plt.figure(figsize=(10, 6))\n",
    "top_10_makes.plot(kind='bar', color='skyblue')\n",
    "\n",
    "plt.title('事故最多的前10家制造商')\n",
    "plt.xlabel('制造商')\n",
    "plt.ylabel('事故次数')\n",
    "plt.xticks(rotation=45)\n",
    "plt.tight_layout()\n",
    "plt.show()\n"
   ]
  },
  {
   "cell_type": "code",
   "execution_count": 125,
   "id": "6a1eb2d3-2415-4f58-a3a3-cc72b7534e16",
   "metadata": {},
   "outputs": [
    {
     "name": "stdout",
     "output_type": "stream",
     "text": [
      "         Date      Close       High        Low       Open      Volume\n",
      "0  2010-01-04  43.777546  43.941185  42.702198  43.419098   6186700.0\n",
      "1  2010-01-05  45.211349  45.413950  43.637290  43.832099   8867800.0\n",
      "2  2010-01-06  46.582802  46.746444  45.102253  45.374985   8836500.0\n",
      "3  2010-01-07  48.468555  48.554272  45.990581  46.372405  14379100.0\n",
      "4  2010-01-08  48.001015  48.141278  47.424381  47.954262   7146600.0\n"
     ]
    }
   ],
   "source": [
    "import pandas as pd\n",
    "boeing = pd.read_csv(\n",
    "    'C:\\\\Users\\\\17376\\\\Desktop\\\\CYX\\\\study\\\\5291_capstone\\\\project\\\\data_new\\\\boeing_stock_2010_2025.csv',\n",
    "    skiprows=2,\n",
    "    names=['Date', 'Close', 'High', 'Low', 'Open', 'Volume']\n",
    ")\n",
    "boeing = boeing.drop(index=0).reset_index(drop=True)\n",
    "print(boeing.head())"
   ]
  },
  {
   "cell_type": "code",
   "execution_count": 127,
   "id": "88227241-6d1e-4a16-beab-4d478de4697e",
   "metadata": {},
   "outputs": [
    {
     "name": "stdout",
     "output_type": "stream",
     "text": [
      "HighestInjuryLevel\n",
      "NONE       13852\n",
      "Fatal       5204\n",
      "Minor       3325\n",
      "Serious     2744\n",
      "Name: count, dtype: int64\n"
     ]
    }
   ],
   "source": [
    "df['HighestInjuryLevel'] = df['HighestInjuryLevel'].fillna('NONE')\n",
    "print(df['HighestInjuryLevel'].value_counts())"
   ]
  },
  {
   "cell_type": "code",
   "execution_count": 129,
   "id": "2cf52cc2-6ce2-4e2b-85da-31c43c5c1312",
   "metadata": {},
   "outputs": [
    {
     "name": "stdout",
     "output_type": "stream",
     "text": [
      "     Make HighestInjuryLevel  Count\n",
      "0  AIRBUS              Fatal     13\n",
      "1  AIRBUS              Minor     17\n",
      "2  AIRBUS               NONE    231\n",
      "3  AIRBUS            Serious     50\n",
      "4  BOEING              Fatal     38\n",
      "5  BOEING              Minor     54\n",
      "6  BOEING               NONE   1098\n",
      "7  BOEING            Serious    211\n"
     ]
    }
   ],
   "source": [
    "df_both = df[df['Make'].isin(['BOEING', 'AIRBUS'])]\n",
    "severity_counts = df_both.groupby(['Make', 'HighestInjuryLevel']).size().reset_index(name='Count')\n",
    "print(severity_counts)"
   ]
  },
  {
   "cell_type": "code",
   "execution_count": 131,
   "id": "0bb36271-3e47-4408-8c1b-cb13ac9feaec",
   "metadata": {},
   "outputs": [
    {
     "name": "stdout",
     "output_type": "stream",
     "text": [
      "HighestInjuryLevel  Fatal  Minor  NONE  Serious\n",
      "Make                                           \n",
      "AIRBUS                 13     17   231       50\n",
      "BOEING                 38     54  1098      211\n"
     ]
    }
   ],
   "source": [
    "severity_pivot = df_both.pivot_table(\n",
    "    index='Make',\n",
    "    columns='HighestInjuryLevel',\n",
    "    values='EventType',  \n",
    "    aggfunc='count',\n",
    "    fill_value=0\n",
    ")\n",
    "print(severity_pivot)"
   ]
  },
  {
   "cell_type": "code",
   "execution_count": 133,
   "id": "ec169332-094d-45a8-b6d3-b05ed8aa21c8",
   "metadata": {},
   "outputs": [
    {
     "name": "stdout",
     "output_type": "stream",
     "text": [
      "0      0\n",
      "1      0\n",
      "2      0\n",
      "3      0\n",
      "4      0\n",
      "5     12\n",
      "6      0\n",
      "7      0\n",
      "8      0\n",
      "9      0\n",
      "10     0\n",
      "11     4\n",
      "12     2\n",
      "13     1\n",
      "14     0\n",
      "15     0\n",
      "16     4\n",
      "17     0\n",
      "18    18\n",
      "19     2\n",
      "20     2\n",
      "21     3\n",
      "22     3\n",
      "23     9\n",
      "24     9\n",
      "25     0\n",
      "26     2\n",
      "27    18\n",
      "28     0\n",
      "29     5\n",
      "Name: SeverityScore, dtype: int64\n"
     ]
    }
   ],
   "source": [
    "df['SeverityScore'] = df['FatalInjuryCount'] * 3 + df['SeriousInjuryCount'] * 2 + df['MinorInjuryCount'] * 1\n",
    "print(df.head(30)['SeverityScore'])"
   ]
  },
  {
   "cell_type": "code",
   "execution_count": 135,
   "id": "fc32f02a-0b4d-4fb7-8c1a-c81d3893c876",
   "metadata": {},
   "outputs": [
    {
     "name": "stdout",
     "output_type": "stream",
     "text": [
      "         Date   EventDate  SeverityScore\n",
      "0  2010-01-04  2010-01-04            8.0\n",
      "1  2010-01-05  2010-01-05           20.0\n",
      "2  2010-01-06  2010-01-06            3.0\n",
      "3  2010-01-07  2010-01-07            1.0\n",
      "4  2010-01-08  2010-01-08           12.0\n",
      "5  2010-01-11  2010-01-11            0.0\n",
      "6  2010-01-12  2010-01-12            0.0\n",
      "7  2010-01-13  2010-01-13            3.0\n",
      "8  2010-01-14  2010-01-14            4.0\n",
      "9  2010-01-15  2010-01-15           12.0\n"
     ]
    }
   ],
   "source": [
    "df['EventDate'] = pd.to_datetime(df['EventDate']).dt.date\n",
    "daily_severity = df.groupby('EventDate')['SeverityScore'].sum().reset_index()\n",
    "boeing['Date'] = pd.to_datetime(boeing['Date']).dt.date\n",
    "full_dates = pd.DataFrame({'Date': boeing['Date'].unique()})\n",
    "daily_severity_full = full_dates.merge(daily_severity, how='left', left_on='Date', right_on='EventDate')\n",
    "daily_severity_full['SeverityScore'] = daily_severity_full['SeverityScore'].fillna(0)\n",
    "print(daily_severity_full.head(10))\n"
   ]
  },
  {
   "cell_type": "code",
   "execution_count": 137,
   "id": "2c04e0d1-3d52-4600-90c4-1d4e43b262e2",
   "metadata": {},
   "outputs": [
    {
     "name": "stdout",
     "output_type": "stream",
     "text": [
      "         Date   EventDate  SeverityScore\n",
      "0  2010-01-04  2010-01-04            8.0\n",
      "1  2010-01-05  2010-01-05           20.0\n",
      "2  2010-01-06  2010-01-06            3.0\n",
      "3  2010-01-07  2010-01-07            1.0\n",
      "4  2010-01-08  2010-01-08           12.0\n"
     ]
    }
   ],
   "source": [
    "daily_severity_full = daily_severity_full.dropna(subset=daily_severity_full.columns.tolist()).reset_index(drop=True)\n",
    "print(daily_severity_full.head())"
   ]
  },
  {
   "cell_type": "code",
   "execution_count": 139,
   "id": "bc50dc70-c087-4cb0-a0f1-fbd0d3c7cfb5",
   "metadata": {},
   "outputs": [
    {
     "name": "stdout",
     "output_type": "stream",
     "text": [
      "对齐后的数据：\n",
      "        Date   EventDate  SeverityScore\n",
      "0 2010-01-04  2010-01-04            8.0\n",
      "1 2010-01-05  2010-01-05           20.0\n",
      "2 2010-01-06  2010-01-06            3.0\n",
      "3 2010-01-07  2010-01-07            1.0\n",
      "4 2010-01-08  2010-01-08           12.0\n",
      "        Date      Close       High        Low       Open      Volume\n",
      "0 2010-01-04  43.777546  43.941185  42.702198  43.419098   6186700.0\n",
      "1 2010-01-05  45.211349  45.413950  43.637290  43.832099   8867800.0\n",
      "2 2010-01-06  46.582802  46.746444  45.102253  45.374985   8836500.0\n",
      "3 2010-01-07  48.468555  48.554272  45.990581  46.372405  14379100.0\n",
      "4 2010-01-08  48.001015  48.141278  47.424381  47.954262   7146600.0\n"
     ]
    }
   ],
   "source": [
    "daily_severity_full['Date'] = pd.to_datetime(daily_severity_full['Date'])\n",
    "boeing['Date'] = pd.to_datetime(boeing['Date'])\n",
    "common_dates = pd.Series(list(set(daily_severity_full['Date']) & set(boeing['Date'])))\n",
    "daily_severity_full_aligned = daily_severity_full[daily_severity_full['Date'].isin(common_dates)].reset_index(drop=True)\n",
    "boeing_aligned = boeing[boeing['Date'].isin(common_dates)].reset_index(drop=True)\n",
    "print(\"对齐后的数据：\")\n",
    "print(daily_severity_full_aligned.head())\n",
    "print(boeing_aligned.head())"
   ]
  },
  {
   "cell_type": "code",
   "execution_count": 141,
   "id": "c74b86e6-d31d-4227-8ba8-d026d5ddcbc6",
   "metadata": {},
   "outputs": [
    {
     "name": "stdout",
     "output_type": "stream",
     "text": [
      "合并后的数据：\n",
      "        Date   EventDate  SeverityScore      Close       High        Low  \\\n",
      "0 2010-01-04  2010-01-04            8.0  43.777546  43.941185  42.702198   \n",
      "1 2010-01-05  2010-01-05           20.0  45.211349  45.413950  43.637290   \n",
      "2 2010-01-06  2010-01-06            3.0  46.582802  46.746444  45.102253   \n",
      "3 2010-01-07  2010-01-07            1.0  48.468555  48.554272  45.990581   \n",
      "4 2010-01-08  2010-01-08           12.0  48.001015  48.141278  47.424381   \n",
      "\n",
      "        Open      Volume  \n",
      "0  43.419098   6186700.0  \n",
      "1  43.832099   8867800.0  \n",
      "2  45.374985   8836500.0  \n",
      "3  46.372405  14379100.0  \n",
      "4  47.954262   7146600.0  \n"
     ]
    }
   ],
   "source": [
    "daily_severity_full['Date'] = pd.to_datetime(daily_severity_full['Date'])\n",
    "boeing['Date'] = pd.to_datetime(boeing['Date'])\n",
    "merged_data = pd.merge(daily_severity_full, boeing, on='Date', how='inner')\n",
    "print(\"合并后的数据：\")\n",
    "print(merged_data.head())\n"
   ]
  },
  {
   "cell_type": "code",
   "execution_count": 143,
   "id": "58369e85-4e5c-44bc-aeb8-b9bc67eb6ecf",
   "metadata": {},
   "outputs": [
    {
     "name": "stdout",
     "output_type": "stream",
     "text": [
      "        Date   EventDate  SeverityScore      Close       High        Low  \\\n",
      "0 2010-01-05  2010-01-05           20.0  45.211349  45.413950  43.637290   \n",
      "1 2010-01-06  2010-01-06            3.0  46.582802  46.746444  45.102253   \n",
      "2 2010-01-07  2010-01-07            1.0  48.468555  48.554272  45.990581   \n",
      "3 2010-01-08  2010-01-08           12.0  48.001015  48.141278  47.424381   \n",
      "4 2010-01-11  2010-01-11            0.0  47.432175  48.382845  47.151649   \n",
      "\n",
      "        Open      Volume    Return  \n",
      "0  43.832099   8867800.0  0.032227  \n",
      "1  45.374985   8836500.0  0.029883  \n",
      "2  46.372405  14379100.0  0.039684  \n",
      "3  47.954262   7146600.0 -0.009693  \n",
      "4  48.273752   5624900.0 -0.011921  \n"
     ]
    }
   ],
   "source": [
    "import numpy as np\n",
    "merged_data['Return'] = np.log(merged_data['Close']).diff()\n",
    "merged_data = merged_data.dropna().reset_index(drop=True)\n",
    "print(merged_data.head())"
   ]
  },
  {
   "cell_type": "code",
   "execution_count": null,
   "id": "2c0828f3-871f-4c40-8758-6281485be261",
   "metadata": {},
   "outputs": [],
   "source": [
    "from sklearn.preprocessing import StandardScaler\n",
    "scaler = StandardScaler()\n",
    "merged_data['SeverityScore_scaled'] = scaler.fit_transform(merged_data[['SeverityScore']])\n",
    "print(merged_data.head())"
   ]
  }
 ],
 "metadata": {
  "kernelspec": {
   "display_name": "Python [conda env:base] *",
   "language": "python",
   "name": "conda-base-py"
  },
  "language_info": {
   "codemirror_mode": {
    "name": "ipython",
    "version": 3
   },
   "file_extension": ".py",
   "mimetype": "text/x-python",
   "name": "python",
   "nbconvert_exporter": "python",
   "pygments_lexer": "ipython3",
   "version": "3.12.7"
  }
 },
 "nbformat": 4,
 "nbformat_minor": 5
}
