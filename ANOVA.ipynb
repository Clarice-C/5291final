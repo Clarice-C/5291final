{
 "cells": [
  {
   "cell_type": "code",
   "execution_count": 2,
   "id": "ac3769a1-6c4a-45f9-ae80-10c758e399ed",
   "metadata": {},
   "outputs": [],
   "source": [
    "import pandas as pd\n",
    "import numpy as np"
   ]
  },
  {
   "cell_type": "code",
   "execution_count": 4,
   "id": "1afce812-fca4-473e-a760-0c9a577447a7",
   "metadata": {},
   "outputs": [
    {
     "data": {
      "text/html": [
       "<div>\n",
       "<style scoped>\n",
       "    .dataframe tbody tr th:only-of-type {\n",
       "        vertical-align: middle;\n",
       "    }\n",
       "\n",
       "    .dataframe tbody tr th {\n",
       "        vertical-align: top;\n",
       "    }\n",
       "\n",
       "    .dataframe thead th {\n",
       "        text-align: right;\n",
       "    }\n",
       "</style>\n",
       "<table border=\"1\" class=\"dataframe\">\n",
       "  <thead>\n",
       "    <tr style=\"text-align: right;\">\n",
       "      <th></th>\n",
       "      <th>NtsbNo</th>\n",
       "      <th>EventType</th>\n",
       "      <th>Mkey</th>\n",
       "      <th>EventDate</th>\n",
       "      <th>City</th>\n",
       "      <th>State</th>\n",
       "      <th>Country</th>\n",
       "      <th>ReportNo</th>\n",
       "      <th>N</th>\n",
       "      <th>HasSafetyRec</th>\n",
       "      <th>...</th>\n",
       "      <th>Scheduled</th>\n",
       "      <th>PurposeOfFlight</th>\n",
       "      <th>FAR</th>\n",
       "      <th>AirCraftDamage</th>\n",
       "      <th>WeatherCondition</th>\n",
       "      <th>Operator</th>\n",
       "      <th>ReportStatus</th>\n",
       "      <th>RepGenFlag</th>\n",
       "      <th>DocketUrl</th>\n",
       "      <th>DocketPublishDate</th>\n",
       "    </tr>\n",
       "  </thead>\n",
       "  <tbody>\n",
       "    <tr>\n",
       "      <th>0</th>\n",
       "      <td>CEN25LA162</td>\n",
       "      <td>ACC</td>\n",
       "      <td>200057</td>\n",
       "      <td>2025-04-22T13:25:00Z</td>\n",
       "      <td>Fayetteville</td>\n",
       "      <td>Arkansas</td>\n",
       "      <td>United States</td>\n",
       "      <td>NaN</td>\n",
       "      <td>N4795C</td>\n",
       "      <td>False</td>\n",
       "      <td>...</td>\n",
       "      <td>NaN</td>\n",
       "      <td>NaN</td>\n",
       "      <td>NaN</td>\n",
       "      <td>NaN</td>\n",
       "      <td>NaN</td>\n",
       "      <td>NaN</td>\n",
       "      <td>In work</td>\n",
       "      <td>False</td>\n",
       "      <td>NaN</td>\n",
       "      <td>NaT</td>\n",
       "    </tr>\n",
       "    <tr>\n",
       "      <th>1</th>\n",
       "      <td>ENG25WA030</td>\n",
       "      <td>INC</td>\n",
       "      <td>200056</td>\n",
       "      <td>2025-04-22T04:00:00Z</td>\n",
       "      <td>Budapest</td>\n",
       "      <td>NaN</td>\n",
       "      <td>Hungary</td>\n",
       "      <td>NaN</td>\n",
       "      <td>SP-RZUb</td>\n",
       "      <td>False</td>\n",
       "      <td>...</td>\n",
       "      <td>NaN</td>\n",
       "      <td>NaN</td>\n",
       "      <td>NaN</td>\n",
       "      <td>NaN</td>\n",
       "      <td>NaN</td>\n",
       "      <td>NaN</td>\n",
       "      <td>NaN</td>\n",
       "      <td>False</td>\n",
       "      <td>NaN</td>\n",
       "      <td>NaT</td>\n",
       "    </tr>\n",
       "    <tr>\n",
       "      <th>2</th>\n",
       "      <td>DCA25LA190</td>\n",
       "      <td>ACC</td>\n",
       "      <td>200055</td>\n",
       "      <td>2025-04-20T04:00:00Z</td>\n",
       "      <td>Tulsa</td>\n",
       "      <td>Oklahoma</td>\n",
       "      <td>United States</td>\n",
       "      <td>NaN</td>\n",
       "      <td>N461WN</td>\n",
       "      <td>False</td>\n",
       "      <td>...</td>\n",
       "      <td>SCHD</td>\n",
       "      <td>NaN</td>\n",
       "      <td>121</td>\n",
       "      <td>NaN</td>\n",
       "      <td>NaN</td>\n",
       "      <td>SOUTHWEST AIRLINES CO</td>\n",
       "      <td>In work</td>\n",
       "      <td>False</td>\n",
       "      <td>NaN</td>\n",
       "      <td>NaT</td>\n",
       "    </tr>\n",
       "    <tr>\n",
       "      <th>3</th>\n",
       "      <td>WPR25LA138</td>\n",
       "      <td>ACC</td>\n",
       "      <td>200048</td>\n",
       "      <td>2025-04-19T11:42:00Z</td>\n",
       "      <td>Hood River</td>\n",
       "      <td>Oregon</td>\n",
       "      <td>United States</td>\n",
       "      <td>NaN</td>\n",
       "      <td>N5786S</td>\n",
       "      <td>False</td>\n",
       "      <td>...</td>\n",
       "      <td>NaN</td>\n",
       "      <td>INST</td>\n",
       "      <td>91</td>\n",
       "      <td>Substantial</td>\n",
       "      <td>VMC</td>\n",
       "      <td>HOOD RIVER SOARING INC</td>\n",
       "      <td>In work</td>\n",
       "      <td>False</td>\n",
       "      <td>NaN</td>\n",
       "      <td>NaT</td>\n",
       "    </tr>\n",
       "    <tr>\n",
       "      <th>4</th>\n",
       "      <td>WPR25LA136</td>\n",
       "      <td>ACC</td>\n",
       "      <td>200044</td>\n",
       "      <td>2025-04-19T11:06:00Z</td>\n",
       "      <td>Phoenix</td>\n",
       "      <td>Arizona</td>\n",
       "      <td>United States</td>\n",
       "      <td>NaN</td>\n",
       "      <td>N321WC</td>\n",
       "      <td>False</td>\n",
       "      <td>...</td>\n",
       "      <td>NaN</td>\n",
       "      <td>NaN</td>\n",
       "      <td>NaN</td>\n",
       "      <td>NaN</td>\n",
       "      <td>NaN</td>\n",
       "      <td>NaN</td>\n",
       "      <td>In work</td>\n",
       "      <td>False</td>\n",
       "      <td>NaN</td>\n",
       "      <td>NaT</td>\n",
       "    </tr>\n",
       "  </tbody>\n",
       "</table>\n",
       "<p>5 rows × 37 columns</p>\n",
       "</div>"
      ],
      "text/plain": [
       "       NtsbNo EventType    Mkey             EventDate          City     State  \\\n",
       "0  CEN25LA162       ACC  200057  2025-04-22T13:25:00Z  Fayetteville  Arkansas   \n",
       "1  ENG25WA030       INC  200056  2025-04-22T04:00:00Z      Budapest       NaN   \n",
       "2  DCA25LA190       ACC  200055  2025-04-20T04:00:00Z         Tulsa  Oklahoma   \n",
       "3  WPR25LA138       ACC  200048  2025-04-19T11:42:00Z    Hood River    Oregon   \n",
       "4  WPR25LA136       ACC  200044  2025-04-19T11:06:00Z       Phoenix   Arizona   \n",
       "\n",
       "         Country ReportNo        N  HasSafetyRec  ... Scheduled  \\\n",
       "0  United States      NaN   N4795C         False  ...       NaN   \n",
       "1        Hungary      NaN  SP-RZUb         False  ...       NaN   \n",
       "2  United States      NaN   N461WN         False  ...      SCHD   \n",
       "3  United States      NaN   N5786S         False  ...       NaN   \n",
       "4  United States      NaN   N321WC         False  ...       NaN   \n",
       "\n",
       "  PurposeOfFlight  FAR  AirCraftDamage  WeatherCondition  \\\n",
       "0             NaN  NaN             NaN               NaN   \n",
       "1             NaN  NaN             NaN               NaN   \n",
       "2             NaN  121             NaN               NaN   \n",
       "3            INST   91     Substantial               VMC   \n",
       "4             NaN  NaN             NaN               NaN   \n",
       "\n",
       "                 Operator ReportStatus  RepGenFlag  DocketUrl  \\\n",
       "0                     NaN      In work       False        NaN   \n",
       "1                     NaN          NaN       False        NaN   \n",
       "2   SOUTHWEST AIRLINES CO      In work       False        NaN   \n",
       "3  HOOD RIVER SOARING INC      In work       False        NaN   \n",
       "4                     NaN      In work       False        NaN   \n",
       "\n",
       "   DocketPublishDate  \n",
       "0                NaT  \n",
       "1                NaT  \n",
       "2                NaT  \n",
       "3                NaT  \n",
       "4                NaT  \n",
       "\n",
       "[5 rows x 37 columns]"
      ]
     },
     "execution_count": 4,
     "metadata": {},
     "output_type": "execute_result"
    }
   ],
   "source": [
    "# read dataset\n",
    "\n",
    "df=pd.read_excel(\"core_dataset.xlsx\", engine=\"openpyxl\")\n",
    "df.head()"
   ]
  },
  {
   "cell_type": "markdown",
   "id": "33f72c16-c4ff-4964-a365-6ad9a65faaa3",
   "metadata": {},
   "source": [
    "# Data Processing\n",
    "- columns that are needed: `Country`, `State`, `Make`\n",
    "- delete missing values(State: exist structural missing, therefore can also be deleted directly) \n",
    "- add weights (`FatalInjuryCount`-3, `SeriousInjuryCount`-2, `MinorInjuryCount`-1)-no missing values\n",
    "- set `stateblock`"
   ]
  },
  {
   "cell_type": "code",
   "execution_count": 6,
   "id": "df2769ec-4547-4bb2-bb18-8e55bbdad2c8",
   "metadata": {},
   "outputs": [
    {
     "data": {
      "text/plain": [
       "Index(['NtsbNo', 'EventType', 'Mkey', 'EventDate', 'City', 'State', 'Country',\n",
       "       'ReportNo', 'N', 'HasSafetyRec', 'ReportType', 'OriginalPublishDate',\n",
       "       'HighestInjuryLevel', 'FatalInjuryCount', 'SeriousInjuryCount',\n",
       "       'MinorInjuryCount', 'ProbableCause', 'EventID', 'Latitude', 'Longitude',\n",
       "       'Make', 'Model', 'AirCraftCategory', 'AirportID', 'AirportName',\n",
       "       'AmateurBuilt', 'NumberOfEngines', 'Scheduled', 'PurposeOfFlight',\n",
       "       'FAR', 'AirCraftDamage', 'WeatherCondition', 'Operator', 'ReportStatus',\n",
       "       'RepGenFlag', 'DocketUrl', 'DocketPublishDate'],\n",
       "      dtype='object')"
      ]
     },
     "execution_count": 6,
     "metadata": {},
     "output_type": "execute_result"
    }
   ],
   "source": [
    "df.columns"
   ]
  },
  {
   "cell_type": "code",
   "execution_count": 7,
   "id": "8b9fc02c-b582-4411-9f7a-b0e36f93da07",
   "metadata": {},
   "outputs": [
    {
     "data": {
      "text/plain": [
       "(422, 37)"
      ]
     },
     "execution_count": 7,
     "metadata": {},
     "output_type": "execute_result"
    }
   ],
   "source": [
    "df_airbus = df[df['Make'].str.contains('Airbus', case=False, na=False)]\n",
    "df_boeing = df[df['Make'].str.contains('Boeing', case=False, na=False)]\n",
    "df_airbus.shape"
   ]
  },
  {
   "cell_type": "code",
   "execution_count": 8,
   "id": "88a46125-9dd9-4a79-9b55-8958262212c4",
   "metadata": {},
   "outputs": [
    {
     "data": {
      "text/plain": [
       "(1542, 37)"
      ]
     },
     "execution_count": 8,
     "metadata": {},
     "output_type": "execute_result"
    }
   ],
   "source": [
    "df_boeing.shape"
   ]
  },
  {
   "cell_type": "code",
   "execution_count": 9,
   "id": "8f20cdd0-52d6-491b-99be-4c610dc4056f",
   "metadata": {},
   "outputs": [
    {
     "data": {
      "text/plain": [
       "np.float64(0.0010727908455181183)"
      ]
     },
     "execution_count": 9,
     "metadata": {},
     "output_type": "execute_result"
    }
   ],
   "source": [
    "# The percentage of missing values in all Companies\n",
    "\n",
    "df['Make'].isna().mean()"
   ]
  },
  {
   "cell_type": "code",
   "execution_count": 10,
   "id": "7a45c7ef-f219-4c2d-aa8c-2f8578dc8da3",
   "metadata": {},
   "outputs": [],
   "source": [
    "df_cleaned = df.dropna(subset=['Make'])"
   ]
  },
  {
   "cell_type": "code",
   "execution_count": 11,
   "id": "c720383e-fa9d-4d13-8933-9c5f79dfd4d0",
   "metadata": {},
   "outputs": [
    {
     "data": {
      "text/plain": [
       "np.int64(0)"
      ]
     },
     "execution_count": 11,
     "metadata": {},
     "output_type": "execute_result"
    }
   ],
   "source": [
    "df_cleaned['Make'].isna().sum()"
   ]
  },
  {
   "cell_type": "code",
   "execution_count": 12,
   "id": "d0c5c24c-b374-4471-80b0-dfc96f4c1fc4",
   "metadata": {},
   "outputs": [],
   "source": [
    "df_cleaned = df.dropna(subset=['Country'])"
   ]
  },
  {
   "cell_type": "code",
   "execution_count": 13,
   "id": "04aabefd-5a27-46af-afae-d8e2b43db0b7",
   "metadata": {},
   "outputs": [
    {
     "data": {
      "text/plain": [
       "np.int64(0)"
      ]
     },
     "execution_count": 13,
     "metadata": {},
     "output_type": "execute_result"
    }
   ],
   "source": [
    "df_cleaned['Country'].isna().sum()"
   ]
  },
  {
   "cell_type": "markdown",
   "id": "4105d901-21fd-40c8-b3ef-462c9c4dea8c",
   "metadata": {},
   "source": [
    "## structural missing detection"
   ]
  },
  {
   "cell_type": "code",
   "execution_count": 15,
   "id": "c6403bdc-8f8d-4473-8ef6-bafd16ccf4a0",
   "metadata": {},
   "outputs": [
    {
     "data": {
      "text/plain": [
       "np.int64(4904)"
      ]
     },
     "execution_count": 15,
     "metadata": {},
     "output_type": "execute_result"
    }
   ],
   "source": [
    "df_cleaned['State'].isna().sum()"
   ]
  },
  {
   "cell_type": "code",
   "execution_count": 26,
   "id": "523da3ac-f4fa-489c-b09f-7dba1876c372",
   "metadata": {},
   "outputs": [
    {
     "data": {
      "text/plain": [
       "np.float64(0.0016299918500407497)"
      ]
     },
     "execution_count": 26,
     "metadata": {},
     "output_type": "execute_result"
    }
   ],
   "source": [
    "# whether City is missing if State is missing\n",
    "df[df['State'].isna()]['City'].isna().mean()"
   ]
  },
  {
   "cell_type": "code",
   "execution_count": 28,
   "id": "5d3070f4-0d00-42fa-81bc-c02c4765d221",
   "metadata": {},
   "outputs": [
    {
     "data": {
      "text/plain": [
       "FatalInjuryCount      int64\n",
       "SeriousInjuryCount    int64\n",
       "MinorInjuryCount      int64\n",
       "dtype: object"
      ]
     },
     "execution_count": 28,
     "metadata": {},
     "output_type": "execute_result"
    }
   ],
   "source": [
    "df[['FatalInjuryCount', 'SeriousInjuryCount','MinorInjuryCount']].dtypes"
   ]
  },
  {
   "cell_type": "code",
   "execution_count": 30,
   "id": "f7000e9f-ec89-422f-a593-e33ba9333853",
   "metadata": {},
   "outputs": [],
   "source": [
    "df_cleaned = df.dropna(subset=['State'])"
   ]
  },
  {
   "cell_type": "code",
   "execution_count": 32,
   "id": "8e0f719c-f5b8-4db2-b9d1-ccd3679cbd4a",
   "metadata": {},
   "outputs": [
    {
     "data": {
      "text/plain": [
       "np.int64(0)"
      ]
     },
     "execution_count": 32,
     "metadata": {},
     "output_type": "execute_result"
    }
   ],
   "source": [
    "df_cleaned['State'].isna().sum()"
   ]
  },
  {
   "cell_type": "code",
   "execution_count": 34,
   "id": "1f6eda96-604e-4fc2-94f0-adf71d21e549",
   "metadata": {},
   "outputs": [
    {
     "data": {
      "text/plain": [
       "(20260, 37)"
      ]
     },
     "execution_count": 34,
     "metadata": {},
     "output_type": "execute_result"
    }
   ],
   "source": [
    "df_cleaned.shape"
   ]
  },
  {
   "cell_type": "code",
   "execution_count": 36,
   "id": "3110235a-e075-4ed1-97b1-4b465cb29a20",
   "metadata": {},
   "outputs": [
    {
     "data": {
      "text/plain": [
       "np.int64(0)"
      ]
     },
     "execution_count": 36,
     "metadata": {},
     "output_type": "execute_result"
    }
   ],
   "source": [
    "df_cleaned['FatalInjuryCount'].isna().sum()"
   ]
  },
  {
   "cell_type": "code",
   "execution_count": 38,
   "id": "f22d465b-58ee-4269-a3e8-1e2ab2a380ab",
   "metadata": {},
   "outputs": [
    {
     "data": {
      "text/plain": [
       "np.int64(0)"
      ]
     },
     "execution_count": 38,
     "metadata": {},
     "output_type": "execute_result"
    }
   ],
   "source": [
    "df_cleaned['SeriousInjuryCount'].isna().sum()"
   ]
  },
  {
   "cell_type": "code",
   "execution_count": 40,
   "id": "64346964-ee57-4f7e-b2ab-31219bbbf8d9",
   "metadata": {},
   "outputs": [
    {
     "data": {
      "text/plain": [
       "np.int64(0)"
      ]
     },
     "execution_count": 40,
     "metadata": {},
     "output_type": "execute_result"
    }
   ],
   "source": [
    "df_cleaned['MinorInjuryCount'].isna().sum()"
   ]
  },
  {
   "cell_type": "code",
   "execution_count": 42,
   "id": "39f96ea4-46c3-40e9-b780-97351f127a98",
   "metadata": {},
   "outputs": [
    {
     "name": "stderr",
     "output_type": "stream",
     "text": [
      "/var/folders/c_/7thpxjgs3m38yh7ftdr5g7vm0000gn/T/ipykernel_9720/4017550443.py:2: SettingWithCopyWarning: \n",
      "A value is trying to be set on a copy of a slice from a DataFrame.\n",
      "Try using .loc[row_indexer,col_indexer] = value instead\n",
      "\n",
      "See the caveats in the documentation: https://pandas.pydata.org/pandas-docs/stable/user_guide/indexing.html#returning-a-view-versus-a-copy\n",
      "  df_cleaned['WeightedInjuryScore'] = (\n"
     ]
    }
   ],
   "source": [
    "# add weights\n",
    "df_cleaned['WeightedInjuryScore'] = (\n",
    "    df_cleaned['FatalInjuryCount'].fillna(0) * 3 +\n",
    "    df_cleaned['SeriousInjuryCount'].fillna(0) * 2 +\n",
    "    df_cleaned['MinorInjuryCount'].fillna(0) * 1\n",
    ")"
   ]
  },
  {
   "cell_type": "markdown",
   "id": "25326647-bd89-44e5-86f6-c632d9359a4b",
   "metadata": {},
   "source": [
    "# Stock Dataset Processing"
   ]
  },
  {
   "cell_type": "code",
   "execution_count": 45,
   "id": "f5c7045e-f9f7-48ec-9b10-5da6c294c1fa",
   "metadata": {},
   "outputs": [
    {
     "data": {
      "text/html": [
       "<div>\n",
       "<style scoped>\n",
       "    .dataframe tbody tr th:only-of-type {\n",
       "        vertical-align: middle;\n",
       "    }\n",
       "\n",
       "    .dataframe tbody tr th {\n",
       "        vertical-align: top;\n",
       "    }\n",
       "\n",
       "    .dataframe thead th {\n",
       "        text-align: right;\n",
       "    }\n",
       "</style>\n",
       "<table border=\"1\" class=\"dataframe\">\n",
       "  <thead>\n",
       "    <tr style=\"text-align: right;\">\n",
       "      <th></th>\n",
       "      <th>Date</th>\n",
       "      <th>Open</th>\n",
       "      <th>High</th>\n",
       "      <th>Low</th>\n",
       "      <th>Close</th>\n",
       "      <th>Adj Close</th>\n",
       "      <th>Volume</th>\n",
       "      <th>Dividends</th>\n",
       "      <th>Stock Splits</th>\n",
       "    </tr>\n",
       "  </thead>\n",
       "  <tbody>\n",
       "    <tr>\n",
       "      <th>0</th>\n",
       "      <td>2009/1/2</td>\n",
       "      <td>12.100</td>\n",
       "      <td>12.630</td>\n",
       "      <td>11.860</td>\n",
       "      <td>12.630</td>\n",
       "      <td>9.872783</td>\n",
       "      <td>1702735</td>\n",
       "      <td>NaN</td>\n",
       "      <td>NaN</td>\n",
       "    </tr>\n",
       "    <tr>\n",
       "      <th>1</th>\n",
       "      <td>2009/1/5</td>\n",
       "      <td>12.700</td>\n",
       "      <td>13.440</td>\n",
       "      <td>12.695</td>\n",
       "      <td>13.440</td>\n",
       "      <td>10.505952</td>\n",
       "      <td>2628493</td>\n",
       "      <td>NaN</td>\n",
       "      <td>NaN</td>\n",
       "    </tr>\n",
       "    <tr>\n",
       "      <th>2</th>\n",
       "      <td>2009/1/6</td>\n",
       "      <td>13.445</td>\n",
       "      <td>13.925</td>\n",
       "      <td>13.430</td>\n",
       "      <td>13.780</td>\n",
       "      <td>10.771729</td>\n",
       "      <td>2797192</td>\n",
       "      <td>NaN</td>\n",
       "      <td>NaN</td>\n",
       "    </tr>\n",
       "    <tr>\n",
       "      <th>3</th>\n",
       "      <td>2009/1/7</td>\n",
       "      <td>13.655</td>\n",
       "      <td>13.800</td>\n",
       "      <td>13.320</td>\n",
       "      <td>13.605</td>\n",
       "      <td>10.634932</td>\n",
       "      <td>2319050</td>\n",
       "      <td>NaN</td>\n",
       "      <td>NaN</td>\n",
       "    </tr>\n",
       "    <tr>\n",
       "      <th>4</th>\n",
       "      <td>2009/1/8</td>\n",
       "      <td>13.360</td>\n",
       "      <td>13.490</td>\n",
       "      <td>13.100</td>\n",
       "      <td>13.420</td>\n",
       "      <td>10.490321</td>\n",
       "      <td>2219720</td>\n",
       "      <td>NaN</td>\n",
       "      <td>NaN</td>\n",
       "    </tr>\n",
       "  </tbody>\n",
       "</table>\n",
       "</div>"
      ],
      "text/plain": [
       "       Date    Open    High     Low   Close  Adj Close   Volume  Dividends  \\\n",
       "0  2009/1/2  12.100  12.630  11.860  12.630   9.872783  1702735        NaN   \n",
       "1  2009/1/5  12.700  13.440  12.695  13.440  10.505952  2628493        NaN   \n",
       "2  2009/1/6  13.445  13.925  13.430  13.780  10.771729  2797192        NaN   \n",
       "3  2009/1/7  13.655  13.800  13.320  13.605  10.634932  2319050        NaN   \n",
       "4  2009/1/8  13.360  13.490  13.100  13.420  10.490321  2219720        NaN   \n",
       "\n",
       "   Stock Splits  \n",
       "0           NaN  \n",
       "1           NaN  \n",
       "2           NaN  \n",
       "3           NaN  \n",
       "4           NaN  "
      ]
     },
     "execution_count": 45,
     "metadata": {},
     "output_type": "execute_result"
    }
   ],
   "source": [
    "df_airbus=pd.read_csv(\"AIR.PA.csv\")\n",
    "df_airbus.head()"
   ]
  },
  {
   "cell_type": "code",
   "execution_count": 47,
   "id": "06ba5367-9a58-4383-8587-848d40d7a072",
   "metadata": {},
   "outputs": [
    {
     "data": {
      "text/plain": [
       "Index(['Date', 'Open', 'High', 'Low', 'Close', 'Adj Close', 'Volume',\n",
       "       'Dividends', 'Stock Splits'],\n",
       "      dtype='object')"
      ]
     },
     "execution_count": 47,
     "metadata": {},
     "output_type": "execute_result"
    }
   ],
   "source": [
    "df_airbus.columns"
   ]
  },
  {
   "cell_type": "code",
   "execution_count": 49,
   "id": "0c647bf9-9967-4747-a0be-256de3e31e71",
   "metadata": {},
   "outputs": [
    {
     "data": {
      "text/html": [
       "<div>\n",
       "<style scoped>\n",
       "    .dataframe tbody tr th:only-of-type {\n",
       "        vertical-align: middle;\n",
       "    }\n",
       "\n",
       "    .dataframe tbody tr th {\n",
       "        vertical-align: top;\n",
       "    }\n",
       "\n",
       "    .dataframe thead th {\n",
       "        text-align: right;\n",
       "    }\n",
       "</style>\n",
       "<table border=\"1\" class=\"dataframe\">\n",
       "  <thead>\n",
       "    <tr style=\"text-align: right;\">\n",
       "      <th></th>\n",
       "      <th>Date</th>\n",
       "      <th>Close</th>\n",
       "      <th>High</th>\n",
       "      <th>Low</th>\n",
       "      <th>Open</th>\n",
       "      <th>Volume</th>\n",
       "    </tr>\n",
       "  </thead>\n",
       "  <tbody>\n",
       "    <tr>\n",
       "      <th>0</th>\n",
       "      <td>2010-01-04</td>\n",
       "      <td>43.777546</td>\n",
       "      <td>43.941185</td>\n",
       "      <td>42.702198</td>\n",
       "      <td>43.419098</td>\n",
       "      <td>6186700.0</td>\n",
       "    </tr>\n",
       "    <tr>\n",
       "      <th>1</th>\n",
       "      <td>2010-01-05</td>\n",
       "      <td>45.211349</td>\n",
       "      <td>45.413950</td>\n",
       "      <td>43.637290</td>\n",
       "      <td>43.832099</td>\n",
       "      <td>8867800.0</td>\n",
       "    </tr>\n",
       "    <tr>\n",
       "      <th>2</th>\n",
       "      <td>2010-01-06</td>\n",
       "      <td>46.582802</td>\n",
       "      <td>46.746444</td>\n",
       "      <td>45.102253</td>\n",
       "      <td>45.374985</td>\n",
       "      <td>8836500.0</td>\n",
       "    </tr>\n",
       "    <tr>\n",
       "      <th>3</th>\n",
       "      <td>2010-01-07</td>\n",
       "      <td>48.468555</td>\n",
       "      <td>48.554272</td>\n",
       "      <td>45.990581</td>\n",
       "      <td>46.372405</td>\n",
       "      <td>14379100.0</td>\n",
       "    </tr>\n",
       "    <tr>\n",
       "      <th>4</th>\n",
       "      <td>2010-01-08</td>\n",
       "      <td>48.001015</td>\n",
       "      <td>48.141278</td>\n",
       "      <td>47.424381</td>\n",
       "      <td>47.954262</td>\n",
       "      <td>7146600.0</td>\n",
       "    </tr>\n",
       "  </tbody>\n",
       "</table>\n",
       "</div>"
      ],
      "text/plain": [
       "         Date      Close       High        Low       Open      Volume\n",
       "0  2010-01-04  43.777546  43.941185  42.702198  43.419098   6186700.0\n",
       "1  2010-01-05  45.211349  45.413950  43.637290  43.832099   8867800.0\n",
       "2  2010-01-06  46.582802  46.746444  45.102253  45.374985   8836500.0\n",
       "3  2010-01-07  48.468555  48.554272  45.990581  46.372405  14379100.0\n",
       "4  2010-01-08  48.001015  48.141278  47.424381  47.954262   7146600.0"
      ]
     },
     "execution_count": 49,
     "metadata": {},
     "output_type": "execute_result"
    }
   ],
   "source": [
    "# Skip the first two lines and specify the correct column names\n",
    "col_names = ['Date', 'Close', 'High', 'Low', 'Open', 'Volume']\n",
    "df_boeing = pd.read_csv(\"boeing_stock_2010_2025.csv\", skiprows=2, names=col_names)\n",
    "df_boeing = df_boeing.drop(index=0).reset_index(drop=True)\n",
    "df_boeing.head()"
   ]
  },
  {
   "cell_type": "code",
   "execution_count": 51,
   "id": "2b2925c4-96fd-4f26-802b-cefeeb9bc49d",
   "metadata": {},
   "outputs": [
    {
     "data": {
      "text/plain": [
       "Index(['Date', 'Close', 'High', 'Low', 'Open', 'Volume'], dtype='object')"
      ]
     },
     "execution_count": 51,
     "metadata": {},
     "output_type": "execute_result"
    }
   ],
   "source": [
    "df_boeing.columns"
   ]
  },
  {
   "cell_type": "code",
   "execution_count": 53,
   "id": "41bf8592-56a6-4573-b8e7-c236aba90592",
   "metadata": {},
   "outputs": [
    {
     "data": {
      "text/plain": [
       "np.int64(0)"
      ]
     },
     "execution_count": 53,
     "metadata": {},
     "output_type": "execute_result"
    }
   ],
   "source": [
    "df_airbus['Adj Close'].isna().sum()"
   ]
  },
  {
   "cell_type": "code",
   "execution_count": 55,
   "id": "79d9f5e0-adab-4284-914e-50fd766f9c41",
   "metadata": {},
   "outputs": [
    {
     "data": {
      "text/plain": [
       "np.int64(0)"
      ]
     },
     "execution_count": 55,
     "metadata": {},
     "output_type": "execute_result"
    }
   ],
   "source": [
    "df_boeing['Close'].isna().sum()"
   ]
  },
  {
   "cell_type": "code",
   "execution_count": 57,
   "id": "99ac89b9-d745-4741-af13-93ad47361149",
   "metadata": {},
   "outputs": [
    {
     "data": {
      "text/plain": [
       "(4172, 9)"
      ]
     },
     "execution_count": 57,
     "metadata": {},
     "output_type": "execute_result"
    }
   ],
   "source": [
    "df_airbus.shape"
   ]
  },
  {
   "cell_type": "code",
   "execution_count": 59,
   "id": "8a278ccd-990b-4478-ba5f-e6bd7d7b392c",
   "metadata": {},
   "outputs": [
    {
     "data": {
      "text/plain": [
       "(3774, 6)"
      ]
     },
     "execution_count": 59,
     "metadata": {},
     "output_type": "execute_result"
    }
   ],
   "source": [
    "df_boeing.shape"
   ]
  },
  {
   "cell_type": "markdown",
   "id": "0e373f49-a01f-4632-8df8-efc3484253f6",
   "metadata": {},
   "source": [
    "## For standardized price (model2)"
   ]
  },
  {
   "cell_type": "code",
   "execution_count": 62,
   "id": "05e26abf-a98e-4ed2-bc9e-b2e7745153af",
   "metadata": {},
   "outputs": [],
   "source": [
    "df_airbus['Date'] = pd.to_datetime(df_airbus['Date'])\n",
    "df_airbus = df_airbus[df_airbus['Date'] >= '2010-01-01'] # only 2010-2025\n",
    "df_airbus = df_airbus[['Date', 'Close']].copy()\n",
    "df_airbus['Company'] = 'AIRBUS'"
   ]
  },
  {
   "cell_type": "code",
   "execution_count": 64,
   "id": "edf4b064-6bee-41d7-abe7-78e89f803bdc",
   "metadata": {},
   "outputs": [],
   "source": [
    "df_boeing['Date'] = pd.to_datetime(df_boeing['Date'])\n",
    "df_boeing = df_boeing[['Date', 'Close']].copy()\n",
    "df_boeing['Company'] = 'BOEING'"
   ]
  },
  {
   "cell_type": "code",
   "execution_count": 66,
   "id": "b8db7ef2-4d7e-4ec8-be6b-5487048a91e8",
   "metadata": {},
   "outputs": [],
   "source": [
    "# Standardize Close prices within each company\n",
    "df_airbus['Close'] = (df_airbus['Close'] - df_airbus['Close'].mean()) / df_airbus['Close'].std()\n",
    "df_boeing['Close'] = (df_boeing['Close'] - df_boeing['Close'].mean()) / df_boeing['Close'].std()"
   ]
  },
  {
   "cell_type": "code",
   "execution_count": 68,
   "id": "6530b692-cadf-4c55-919f-d716cf3d64f2",
   "metadata": {},
   "outputs": [
    {
     "name": "stdout",
     "output_type": "stream",
     "text": [
      "        Date     Close Company\n",
      "0 2010-01-04 -1.512281  AIRBUS\n",
      "1 2010-01-05 -1.513362  AIRBUS\n",
      "2 2010-01-06 -1.510360  AIRBUS\n",
      "3 2010-01-07 -1.506997  AIRBUS\n",
      "4 2010-01-08 -1.503635  AIRBUS\n",
      "Company\n",
      "AIRBUS    3916\n",
      "BOEING    3774\n",
      "Name: count, dtype: int64\n"
     ]
    }
   ],
   "source": [
    "# Merge the two datasets\n",
    "df_stock = pd.concat([df_airbus, df_boeing], ignore_index=True)\n",
    "df_stock['Date'] = pd.to_datetime(df_stock['Date'])\n",
    "\n",
    "# Check the merged result\n",
    "print(df_stock.head())\n",
    "print(df_stock['Company'].value_counts())"
   ]
  },
  {
   "cell_type": "markdown",
   "id": "4bef0ae3-5b29-4f5d-a8a5-05d799c43ae4",
   "metadata": {},
   "source": [
    "# Model2\n",
    "- **Detect whether the accident has caused a \"systemic change\" in prices.**"
   ]
  },
  {
   "cell_type": "code",
   "execution_count": 71,
   "id": "3afd0c29-10ab-42da-bba3-ca093deac486",
   "metadata": {},
   "outputs": [
    {
     "name": "stdout",
     "output_type": "stream",
     "text": [
      "Make\n",
      "CESSNA                            4952\n",
      "PIPER                             2904\n",
      "BEECH                             1037\n",
      "Cessna                             764\n",
      "BELL                               580\n",
      "                                  ... \n",
      "SCHEMPP-HIRTH FLUGZEUGBAU GMBH       1\n",
      "COLUMBIA                             1\n",
      "ROBERT MILES                         1\n",
      "SAFARI                               1\n",
      "GRUMMAN AMERICAN                     1\n",
      "Name: count, Length: 3837, dtype: int64\n"
     ]
    }
   ],
   "source": [
    "print(df[df['EventType'] == 'ACC']['Make'].value_counts())"
   ]
  },
  {
   "cell_type": "code",
   "execution_count": 73,
   "id": "96738beb-cfce-40ff-89ec-ae44bf123daf",
   "metadata": {},
   "outputs": [],
   "source": [
    "import statsmodels.api as sm\n",
    "from statsmodels.formula.api import ols\n",
    "from statsmodels.stats.anova import anova_lm\n",
    "df['Make'] = df['Make'].str.upper()\n",
    "\n",
    "\n",
    "\n",
    "# Notice: exact and only extract all Accidents(ACC)\n",
    "# Notice: Each company corresponds to the data within the accident window on its own\n",
    "df_events = df[\n",
    "    (df['EventType'] == 'ACC') &\n",
    "    (df['Make'].isin(['BOEING', 'AIRBUS']))\n",
    "][['EventDate', 'Make']].rename(columns={'EventDate': 'Date', 'Make': 'Company'})\n",
    "#df_events = df_events[['EventDate', 'Make']].rename(columns={'EventDate': 'Date', 'Make': 'Company'})\n",
    "df_events['Date'] = pd.to_datetime(df_events['Date'])"
   ]
  },
  {
   "cell_type": "code",
   "execution_count": 74,
   "id": "89ef65d1-e85f-4e0b-81dc-e6ac1561ffcb",
   "metadata": {},
   "outputs": [],
   "source": [
    "##################################\n",
    "# create Lagged Period（+,-10 days）#\n",
    "##################################\n",
    "\n",
    "lagged_dates = []\n",
    "for _, row in df_events.iterrows():\n",
    "    for offset in range(-10, 11):\n",
    "        lagged_dates.append({\n",
    "            'Date': row['Date'] + pd.Timedelta(days=offset),\n",
    "            'Company': row['Company']\n",
    "        })\n",
    "\n",
    "df_lagged = pd.DataFrame(lagged_dates)"
   ]
  },
  {
   "cell_type": "code",
   "execution_count": 75,
   "id": "72e89dd7-f870-449a-9c89-6507ba225cfe",
   "metadata": {},
   "outputs": [
    {
     "name": "stdout",
     "output_type": "stream",
     "text": [
      "Company\n",
      "BOEING    11067\n",
      "AIRBUS     2205\n",
      "Name: count, dtype: int64\n"
     ]
    }
   ],
   "source": [
    "print(df_lagged['Company'].value_counts())"
   ]
  },
  {
   "cell_type": "code",
   "execution_count": 76,
   "id": "b48ed19d-e815-4d0f-a7f2-26a334341d1d",
   "metadata": {},
   "outputs": [],
   "source": [
    "# make sure the same data type\n",
    "df_lagged['Date'] = df_lagged['Date'].dt.tz_localize(None)\n",
    "df_stock['Date'] = df_stock['Date'].dt.tz_localize(None)"
   ]
  },
  {
   "cell_type": "code",
   "execution_count": 81,
   "id": "08936c33-2bef-4ba9-b401-27fdd0139dfe",
   "metadata": {},
   "outputs": [],
   "source": [
    "# Labe：LaggedPeriod / Normal\n",
    "\n",
    "#initialize\n",
    "df_stock['PeriodType'] = 'NormalPeriod'\n",
    "df_stock = df_stock.merge(df_lagged.assign(PeriodType='LaggedPeriod'),\n",
    "                          on=['Date', 'Company'],\n",
    "                          how='left',\n",
    "                          suffixes=('', '_y'))\n",
    "df_stock['PeriodType'] = df_stock['PeriodType_y'].combine_first(df_stock['PeriodType'])\n",
    "df_stock.drop(columns=['PeriodType_y'], inplace=True)"
   ]
  },
  {
   "cell_type": "code",
   "execution_count": 83,
   "id": "e65b6bf2-d7d8-4bab-af87-8eabaeea2176",
   "metadata": {},
   "outputs": [
    {
     "name": "stdout",
     "output_type": "stream",
     "text": [
      "Company\n",
      "BOEING    43\n",
      "AIRBUS    14\n",
      "Name: count, dtype: int64\n"
     ]
    }
   ],
   "source": [
    "print(df_stock[df_stock['PeriodType'] == 'LaggedPeriod']['Company'].value_counts())"
   ]
  },
  {
   "cell_type": "code",
   "execution_count": 85,
   "id": "fb849729-fe31-437d-a7a2-ed8474b78caf",
   "metadata": {},
   "outputs": [
    {
     "name": "stdout",
     "output_type": "stream",
     "text": [
      "PeriodType\n",
      "NormalPeriod    7633\n",
      "LaggedPeriod      57\n",
      "Name: count, dtype: int64\n"
     ]
    }
   ],
   "source": [
    "print(df_stock['PeriodType'].value_counts())"
   ]
  },
  {
   "cell_type": "code",
   "execution_count": 87,
   "id": "e41c36fa-5e1d-4aba-84f0-05c0a04141eb",
   "metadata": {},
   "outputs": [
    {
     "name": "stderr",
     "output_type": "stream",
     "text": [
      "/var/folders/c_/7thpxjgs3m38yh7ftdr5g7vm0000gn/T/ipykernel_9720/1221456549.py:8: DeprecationWarning: DataFrameGroupBy.apply operated on the grouping columns. This behavior is deprecated, and in a future version of pandas the grouping columns will be excluded from the operation. Either pass `include_groups=False` to exclude the groupings or explicitly select the grouping columns after groupby to silence this warning.\n",
      "  .apply(lambda x: x.sample(n=df_lagged[df_lagged['Company'] == x.name].shape[0], random_state=42))\n"
     ]
    }
   ],
   "source": [
    "# 1. PeriodType \n",
    "df_normal = df_stock[df_stock['PeriodType'] == 'NormalPeriod']\n",
    "df_lagged = df_stock[df_stock['PeriodType'] == 'LaggedPeriod']\n",
    "\n",
    "# 2. Sample the NormalPeriod in layers to match the number of Laggedperiods\n",
    "df_balanced_normal = (\n",
    "    df_normal.groupby('Company')\n",
    "    .apply(lambda x: x.sample(n=df_lagged[df_lagged['Company'] == x.name].shape[0], random_state=42))\n",
    "    .reset_index(drop=True)\n",
    ")\n",
    "\n",
    "# 3. combined into df_balanced\n",
    "df_balanced = pd.concat([df_balanced_normal, df_lagged], ignore_index=True)"
   ]
  },
  {
   "cell_type": "code",
   "execution_count": 89,
   "id": "ac2fbd1d-1536-4c41-ae0b-da54fa008054",
   "metadata": {},
   "outputs": [
    {
     "name": "stdout",
     "output_type": "stream",
     "text": [
      "Company  PeriodType  \n",
      "AIRBUS   LaggedPeriod    14\n",
      "         NormalPeriod    14\n",
      "BOEING   LaggedPeriod    43\n",
      "         NormalPeriod    43\n",
      "dtype: int64\n"
     ]
    }
   ],
   "source": [
    "print(df_balanced.groupby(['Company', 'PeriodType']).size())"
   ]
  },
  {
   "cell_type": "code",
   "execution_count": 91,
   "id": "6e4751c0-4a6e-4233-978a-7d365a6c8185",
   "metadata": {},
   "outputs": [
    {
     "name": "stdout",
     "output_type": "stream",
     "text": [
      "                             sum_sq     df          F    PR(>F)\n",
      "C(PeriodType)             10.070927    1.0  14.810573  0.000200\n",
      "C(Company)                 8.443509    1.0  12.417249  0.000621\n",
      "C(PeriodType):C(Company)   5.146578    1.0   7.568695  0.006947\n",
      "Residual                  74.798049  110.0        NaN       NaN\n"
     ]
    }
   ],
   "source": [
    "# ANOVA（Blocking by Company）\n",
    "model_inter = ols('Close ~ C(PeriodType) * C(Company)', data=df_balanced).fit()\n",
    "anova_results_inter = anova_lm(model_inter, typ=2)\n",
    "print(anova_results_inter)"
   ]
  },
  {
   "cell_type": "code",
   "execution_count": 93,
   "id": "9f7d26e0-9d48-4d37-8d94-c49c3e8721af",
   "metadata": {},
   "outputs": [
    {
     "name": "stdout",
     "output_type": "stream",
     "text": [
      "Company  PeriodType  \n",
      "AIRBUS   LaggedPeriod    14\n",
      "         NormalPeriod    14\n",
      "BOEING   LaggedPeriod    43\n",
      "         NormalPeriod    43\n",
      "dtype: int64\n"
     ]
    }
   ],
   "source": [
    "print(df_balanced.groupby(['Company', 'PeriodType']).size())"
   ]
  },
  {
   "cell_type": "code",
   "execution_count": 95,
   "id": "0510ac51-beed-4ae5-9a16-976682cbc5f4",
   "metadata": {},
   "outputs": [
    {
     "data": {
      "image/png": "[encoded data removed]",
      "text/plain": [
       "<Figure size 800x600 with 1 Axes>"
      ]
     },
     "metadata": {},
     "output_type": "display_data"
    }
   ],
   "source": [
    "import seaborn as sns\n",
    "import matplotlib.pyplot as plt\n",
    "\n",
    "plt.figure(figsize=(8, 6))\n",
    "sns.boxplot(\n",
    "    data=df_balanced,\n",
    "    x='PeriodType',\n",
    "    y='Close',\n",
    "    hue='Company'\n",
    ")\n",
    "plt.title('Stock Close Prices by PeriodType (Lagged vs Normal) - Balanced Sample')\n",
    "plt.ylabel('Standardized Close Price')\n",
    "plt.xlabel('Period Type')\n",
    "plt.legend(title='Company')\n",
    "plt.tight_layout()\n",
    "plt.show()"
   ]
  },
  {
   "cell_type": "markdown",
   "id": "7fdf6b1f-eec5-45d7-a904-56b8d0f9606c",
   "metadata": {},
   "source": [
    "# Model3\n",
    "- **Detect whether the accident affects the \"fluctuation intensity\" of the price and whether it has a differential impact on the company.**"
   ]
  },
  {
   "cell_type": "markdown",
   "id": "9156f51b-6bad-4e74-b1ce-b65e3c11d1c9",
   "metadata": {},
   "source": [
    "## For original price(Model3)"
   ]
  },
  {
   "cell_type": "code",
   "execution_count": 99,
   "id": "f5eb4fa6-fe36-45ec-9004-43bf63071ea7",
   "metadata": {},
   "outputs": [
    {
     "data": {
      "text/html": [
       "<div>\n",
       "<style scoped>\n",
       "    .dataframe tbody tr th:only-of-type {\n",
       "        vertical-align: middle;\n",
       "    }\n",
       "\n",
       "    .dataframe tbody tr th {\n",
       "        vertical-align: top;\n",
       "    }\n",
       "\n",
       "    .dataframe thead th {\n",
       "        text-align: right;\n",
       "    }\n",
       "</style>\n",
       "<table border=\"1\" class=\"dataframe\">\n",
       "  <thead>\n",
       "    <tr style=\"text-align: right;\">\n",
       "      <th></th>\n",
       "      <th>Date</th>\n",
       "      <th>Close</th>\n",
       "      <th>Company</th>\n",
       "      <th>PeriodType</th>\n",
       "    </tr>\n",
       "  </thead>\n",
       "  <tbody>\n",
       "    <tr>\n",
       "      <th>0</th>\n",
       "      <td>2010-01-04</td>\n",
       "      <td>-1.512281</td>\n",
       "      <td>AIRBUS</td>\n",
       "      <td>NormalPeriod</td>\n",
       "    </tr>\n",
       "    <tr>\n",
       "      <th>1</th>\n",
       "      <td>2010-01-05</td>\n",
       "      <td>-1.513362</td>\n",
       "      <td>AIRBUS</td>\n",
       "      <td>NormalPeriod</td>\n",
       "    </tr>\n",
       "    <tr>\n",
       "      <th>2</th>\n",
       "      <td>2010-01-06</td>\n",
       "      <td>-1.510360</td>\n",
       "      <td>AIRBUS</td>\n",
       "      <td>NormalPeriod</td>\n",
       "    </tr>\n",
       "    <tr>\n",
       "      <th>3</th>\n",
       "      <td>2010-01-07</td>\n",
       "      <td>-1.506997</td>\n",
       "      <td>AIRBUS</td>\n",
       "      <td>NormalPeriod</td>\n",
       "    </tr>\n",
       "    <tr>\n",
       "      <th>4</th>\n",
       "      <td>2010-01-08</td>\n",
       "      <td>-1.503635</td>\n",
       "      <td>AIRBUS</td>\n",
       "      <td>NormalPeriod</td>\n",
       "    </tr>\n",
       "  </tbody>\n",
       "</table>\n",
       "</div>"
      ],
      "text/plain": [
       "        Date     Close Company    PeriodType\n",
       "0 2010-01-04 -1.512281  AIRBUS  NormalPeriod\n",
       "1 2010-01-05 -1.513362  AIRBUS  NormalPeriod\n",
       "2 2010-01-06 -1.510360  AIRBUS  NormalPeriod\n",
       "3 2010-01-07 -1.506997  AIRBUS  NormalPeriod\n",
       "4 2010-01-08 -1.503635  AIRBUS  NormalPeriod"
      ]
     },
     "execution_count": 99,
     "metadata": {},
     "output_type": "execute_result"
    }
   ],
   "source": [
    "df_stock.head()"
   ]
  },
  {
   "cell_type": "code",
   "execution_count": 268,
   "id": "55189c8a-33ea-41e3-a0fc-bee1ffc3bcf6",
   "metadata": {},
   "outputs": [
    {
     "data": {
      "text/html": [
       "<div>\n",
       "<style scoped>\n",
       "    .dataframe tbody tr th:only-of-type {\n",
       "        vertical-align: middle;\n",
       "    }\n",
       "\n",
       "    .dataframe tbody tr th {\n",
       "        vertical-align: top;\n",
       "    }\n",
       "\n",
       "    .dataframe thead th {\n",
       "        text-align: right;\n",
       "    }\n",
       "</style>\n",
       "<table border=\"1\" class=\"dataframe\">\n",
       "  <thead>\n",
       "    <tr style=\"text-align: right;\">\n",
       "      <th></th>\n",
       "      <th>Date</th>\n",
       "      <th>Open</th>\n",
       "      <th>High</th>\n",
       "      <th>Low</th>\n",
       "      <th>Close</th>\n",
       "      <th>Adj Close</th>\n",
       "      <th>Volume</th>\n",
       "      <th>Dividends</th>\n",
       "      <th>Stock Splits</th>\n",
       "    </tr>\n",
       "  </thead>\n",
       "  <tbody>\n",
       "    <tr>\n",
       "      <th>0</th>\n",
       "      <td>2009/1/2</td>\n",
       "      <td>12.100</td>\n",
       "      <td>12.630</td>\n",
       "      <td>11.860</td>\n",
       "      <td>12.630</td>\n",
       "      <td>9.872783</td>\n",
       "      <td>1702735</td>\n",
       "      <td>NaN</td>\n",
       "      <td>NaN</td>\n",
       "    </tr>\n",
       "    <tr>\n",
       "      <th>1</th>\n",
       "      <td>2009/1/5</td>\n",
       "      <td>12.700</td>\n",
       "      <td>13.440</td>\n",
       "      <td>12.695</td>\n",
       "      <td>13.440</td>\n",
       "      <td>10.505952</td>\n",
       "      <td>2628493</td>\n",
       "      <td>NaN</td>\n",
       "      <td>NaN</td>\n",
       "    </tr>\n",
       "    <tr>\n",
       "      <th>2</th>\n",
       "      <td>2009/1/6</td>\n",
       "      <td>13.445</td>\n",
       "      <td>13.925</td>\n",
       "      <td>13.430</td>\n",
       "      <td>13.780</td>\n",
       "      <td>10.771729</td>\n",
       "      <td>2797192</td>\n",
       "      <td>NaN</td>\n",
       "      <td>NaN</td>\n",
       "    </tr>\n",
       "    <tr>\n",
       "      <th>3</th>\n",
       "      <td>2009/1/7</td>\n",
       "      <td>13.655</td>\n",
       "      <td>13.800</td>\n",
       "      <td>13.320</td>\n",
       "      <td>13.605</td>\n",
       "      <td>10.634932</td>\n",
       "      <td>2319050</td>\n",
       "      <td>NaN</td>\n",
       "      <td>NaN</td>\n",
       "    </tr>\n",
       "    <tr>\n",
       "      <th>4</th>\n",
       "      <td>2009/1/8</td>\n",
       "      <td>13.360</td>\n",
       "      <td>13.490</td>\n",
       "      <td>13.100</td>\n",
       "      <td>13.420</td>\n",
       "      <td>10.490321</td>\n",
       "      <td>2219720</td>\n",
       "      <td>NaN</td>\n",
       "      <td>NaN</td>\n",
       "    </tr>\n",
       "  </tbody>\n",
       "</table>\n",
       "</div>"
      ],
      "text/plain": [
       "       Date    Open    High     Low   Close  Adj Close   Volume  Dividends  \\\n",
       "0  2009/1/2  12.100  12.630  11.860  12.630   9.872783  1702735        NaN   \n",
       "1  2009/1/5  12.700  13.440  12.695  13.440  10.505952  2628493        NaN   \n",
       "2  2009/1/6  13.445  13.925  13.430  13.780  10.771729  2797192        NaN   \n",
       "3  2009/1/7  13.655  13.800  13.320  13.605  10.634932  2319050        NaN   \n",
       "4  2009/1/8  13.360  13.490  13.100  13.420  10.490321  2219720        NaN   \n",
       "\n",
       "   Stock Splits  \n",
       "0           NaN  \n",
       "1           NaN  \n",
       "2           NaN  \n",
       "3           NaN  \n",
       "4           NaN  "
      ]
     },
     "execution_count": 268,
     "metadata": {},
     "output_type": "execute_result"
    }
   ],
   "source": [
    "df_airbus_raw=pd.read_csv(\"AIR.PA.csv\")\n",
    "df_airbus_raw.head()"
   ]
  },
  {
   "cell_type": "code",
   "execution_count": 270,
   "id": "4b6dc0cc-3376-4ee0-82af-d22d0d05db11",
   "metadata": {},
   "outputs": [
    {
     "data": {
      "text/html": [
       "<div>\n",
       "<style scoped>\n",
       "    .dataframe tbody tr th:only-of-type {\n",
       "        vertical-align: middle;\n",
       "    }\n",
       "\n",
       "    .dataframe tbody tr th {\n",
       "        vertical-align: top;\n",
       "    }\n",
       "\n",
       "    .dataframe thead th {\n",
       "        text-align: right;\n",
       "    }\n",
       "</style>\n",
       "<table border=\"1\" class=\"dataframe\">\n",
       "  <thead>\n",
       "    <tr style=\"text-align: right;\">\n",
       "      <th></th>\n",
       "      <th>Date</th>\n",
       "      <th>Close</th>\n",
       "      <th>High</th>\n",
       "      <th>Low</th>\n",
       "      <th>Open</th>\n",
       "      <th>Volume</th>\n",
       "    </tr>\n",
       "  </thead>\n",
       "  <tbody>\n",
       "    <tr>\n",
       "      <th>0</th>\n",
       "      <td>2010-01-04</td>\n",
       "      <td>43.777546</td>\n",
       "      <td>43.941185</td>\n",
       "      <td>42.702198</td>\n",
       "      <td>43.419098</td>\n",
       "      <td>6186700.0</td>\n",
       "    </tr>\n",
       "    <tr>\n",
       "      <th>1</th>\n",
       "      <td>2010-01-05</td>\n",
       "      <td>45.211349</td>\n",
       "      <td>45.413950</td>\n",
       "      <td>43.637290</td>\n",
       "      <td>43.832099</td>\n",
       "      <td>8867800.0</td>\n",
       "    </tr>\n",
       "    <tr>\n",
       "      <th>2</th>\n",
       "      <td>2010-01-06</td>\n",
       "      <td>46.582802</td>\n",
       "      <td>46.746444</td>\n",
       "      <td>45.102253</td>\n",
       "      <td>45.374985</td>\n",
       "      <td>8836500.0</td>\n",
       "    </tr>\n",
       "    <tr>\n",
       "      <th>3</th>\n",
       "      <td>2010-01-07</td>\n",
       "      <td>48.468555</td>\n",
       "      <td>48.554272</td>\n",
       "      <td>45.990581</td>\n",
       "      <td>46.372405</td>\n",
       "      <td>14379100.0</td>\n",
       "    </tr>\n",
       "    <tr>\n",
       "      <th>4</th>\n",
       "      <td>2010-01-08</td>\n",
       "      <td>48.001015</td>\n",
       "      <td>48.141278</td>\n",
       "      <td>47.424381</td>\n",
       "      <td>47.954262</td>\n",
       "      <td>7146600.0</td>\n",
       "    </tr>\n",
       "  </tbody>\n",
       "</table>\n",
       "</div>"
      ],
      "text/plain": [
       "         Date      Close       High        Low       Open      Volume\n",
       "0  2010-01-04  43.777546  43.941185  42.702198  43.419098   6186700.0\n",
       "1  2010-01-05  45.211349  45.413950  43.637290  43.832099   8867800.0\n",
       "2  2010-01-06  46.582802  46.746444  45.102253  45.374985   8836500.0\n",
       "3  2010-01-07  48.468555  48.554272  45.990581  46.372405  14379100.0\n",
       "4  2010-01-08  48.001015  48.141278  47.424381  47.954262   7146600.0"
      ]
     },
     "execution_count": 270,
     "metadata": {},
     "output_type": "execute_result"
    }
   ],
   "source": [
    "# Skip the first two lines and specify the correct column names\n",
    "col_names = ['Date', 'Close', 'High', 'Low', 'Open', 'Volume']\n",
    "df_boeing_raw = pd.read_csv(\"boeing_stock_2010_2025.csv\", skiprows=2, names=col_names)\n",
    "df_boeing_raw = df_boeing_raw.drop(index=0).reset_index(drop=True)\n",
    "df_boeing_raw.head()"
   ]
  },
  {
   "cell_type": "code",
   "execution_count": 272,
   "id": "6d4dcacd-8b09-4861-8eaa-994d19f25ce9",
   "metadata": {},
   "outputs": [],
   "source": [
    "df_airbus_raw['Date'] = pd.to_datetime(df_airbus_raw ['Date'])\n",
    "df_airbus_raw = df_airbus_raw [df_airbus_raw ['Date'] >= '2010-01-01']\n",
    "df_airbus_raw  = df_airbus_raw [['Date', 'Close']].copy()\n",
    "df_airbus_raw ['Company'] = 'AIRBUS'"
   ]
  },
  {
   "cell_type": "code",
   "execution_count": 274,
   "id": "d1035c09-c75a-4c11-ba05-a84eb3b0eb1d",
   "metadata": {},
   "outputs": [],
   "source": [
    "df_boeing_raw['Date'] = pd.to_datetime(df_boeing_raw['Date'])\n",
    "df_boeing_raw = df_boeing_raw[['Date', 'Close']].copy()\n",
    "df_boeing_raw['Company'] = 'BOEING'"
   ]
  },
  {
   "cell_type": "code",
   "execution_count": 276,
   "id": "d24a3504-7a76-4312-8852-0a8a1797b8a3",
   "metadata": {},
   "outputs": [
    {
     "name": "stdout",
     "output_type": "stream",
     "text": [
      "        Date   Close Company\n",
      "0 2010-01-04  13.990  AIRBUS\n",
      "1 2010-01-05  13.945  AIRBUS\n",
      "2 2010-01-06  14.070  AIRBUS\n",
      "3 2010-01-07  14.210  AIRBUS\n",
      "4 2010-01-08  14.350  AIRBUS\n",
      "Company\n",
      "AIRBUS    3916\n",
      "BOEING    3774\n",
      "Name: count, dtype: int64\n"
     ]
    }
   ],
   "source": [
    "# Merge two datasets\n",
    "df_stock_raw = pd.concat([df_airbus_raw, df_boeing_raw], ignore_index=True)\n",
    "df_stock_raw['Date'] = pd.to_datetime(df_stock_raw['Date'])\n",
    "\n",
    "# check the merged result\n",
    "print(df_stock_raw.head())\n",
    "print(df_stock_raw['Company'].value_counts())"
   ]
  },
  {
   "cell_type": "code",
   "execution_count": 278,
   "id": "d62434fe-f41b-4984-82b3-592d67255e24",
   "metadata": {},
   "outputs": [],
   "source": [
    "# basically same as model2\n",
    "\n",
    "df['Make'] = df['Make'].str.upper()\n",
    "\n",
    "# Filter to fatal accidents only\n",
    "df_fatal = df[\n",
    "    (df[\"EventType\"] == \"ACC\") &\n",
    "    (df[\"Make\"].isin(['BOEING','AIRBUS']))\n",
    "][['EventDate','Make']].rename(columns={\"EventDate\": \"Date\", \"Make\": \"Company\"})\n",
    "\n",
    "df_fatal['Date'] = pd.to_datetime(df_fatal['Date'])\n",
    "\n",
    "# Create list of dates within (-,+ 10) days of each fatal accident for the same company\n",
    "expanded_dates = []\n",
    "for _, row in df_fatal.iterrows():\n",
    "    for offset in range(-10, 11):\n",
    "        expanded_dates.append({\n",
    "            \"Date\": row[\"Date\"] + pd.Timedelta(days=offset),\n",
    "            \"Company\": row[\"Company\"]\n",
    "        })\n",
    "df_fatal_window = pd.DataFrame(expanded_dates)"
   ]
  },
  {
   "cell_type": "code",
   "execution_count": 280,
   "id": "2d810e0c-b2ab-4e09-a5eb-03ea64b80866",
   "metadata": {},
   "outputs": [
    {
     "name": "stdout",
     "output_type": "stream",
     "text": [
      "Company\n",
      "BOEING    11067\n",
      "AIRBUS     2205\n",
      "Name: count, dtype: int64\n"
     ]
    }
   ],
   "source": [
    "print(df_fatal_window['Company'].value_counts())"
   ]
  },
  {
   "cell_type": "code",
   "execution_count": 282,
   "id": "c2ef5cd6-1978-45de-9222-dece9ee748bd",
   "metadata": {},
   "outputs": [
    {
     "name": "stdout",
     "output_type": "stream",
     "text": [
      "        Date   Close Company    PeriodType\n",
      "0 2010-01-04  13.990  AIRBUS  NormalPeriod\n",
      "1 2010-01-05  13.945  AIRBUS  NormalPeriod\n",
      "2 2010-01-06  14.070  AIRBUS  NormalPeriod\n",
      "3 2010-01-07  14.210  AIRBUS  NormalPeriod\n",
      "4 2010-01-08  14.350  AIRBUS  NormalPeriod\n"
     ]
    }
   ],
   "source": [
    "df_stock_raw['Date'] = df_stock_raw['Date'].dt.tz_localize(None)\n",
    "df_fatal_window['Date'] = df_fatal_window['Date'].dt.tz_localize(None)\n",
    "\n",
    "\n",
    "# Add column to stock data\n",
    "df_stock_raw[\"PeriodType\"] = \"NormalPeriod\"\n",
    "df_stock_raw = df_stock_raw.merge(\n",
    "    df_fatal_window.assign(PeriodType=\"FatalAccidentPeriod\"),\n",
    "    on=[\"Date\", \"Company\"],\n",
    "    how=\"left\",\n",
    "    suffixes=('', '_y')\n",
    ")\n",
    "df_stock_raw[\"PeriodType\"] = df_stock_raw[\"PeriodType_y\"].combine_first(df_stock_raw[\"PeriodType\"])\n",
    "df_stock_raw = df_stock_raw.drop(columns=[\"PeriodType_y\"])\n",
    "\n",
    "# View result\n",
    "print(df_stock_raw.head())"
   ]
  },
  {
   "cell_type": "code",
   "execution_count": 288,
   "id": "1223f9f3-570a-4f4d-b795-2894909cfeea",
   "metadata": {},
   "outputs": [
    {
     "name": "stdout",
     "output_type": "stream",
     "text": [
      "PeriodType\n",
      "NormalPeriod           7633\n",
      "FatalAccidentPeriod      57\n",
      "Name: count, dtype: int64\n"
     ]
    }
   ],
   "source": [
    "print(df_stock_raw['PeriodType'].value_counts())"
   ]
  },
  {
   "cell_type": "code",
   "execution_count": 290,
   "id": "cb42d228-cccf-4f6a-9315-819adec9f1f0",
   "metadata": {},
   "outputs": [
    {
     "data": {
      "text/html": [
       "<div>\n",
       "<style scoped>\n",
       "    .dataframe tbody tr th:only-of-type {\n",
       "        vertical-align: middle;\n",
       "    }\n",
       "\n",
       "    .dataframe tbody tr th {\n",
       "        vertical-align: top;\n",
       "    }\n",
       "\n",
       "    .dataframe thead th {\n",
       "        text-align: right;\n",
       "    }\n",
       "</style>\n",
       "<table border=\"1\" class=\"dataframe\">\n",
       "  <thead>\n",
       "    <tr style=\"text-align: right;\">\n",
       "      <th></th>\n",
       "      <th>Date</th>\n",
       "      <th>Close</th>\n",
       "      <th>Company</th>\n",
       "      <th>PeriodType</th>\n",
       "      <th>Quarter</th>\n",
       "    </tr>\n",
       "  </thead>\n",
       "  <tbody>\n",
       "    <tr>\n",
       "      <th>0</th>\n",
       "      <td>2010-01-04</td>\n",
       "      <td>13.990000</td>\n",
       "      <td>AIRBUS</td>\n",
       "      <td>NormalPeriod</td>\n",
       "      <td>1</td>\n",
       "    </tr>\n",
       "    <tr>\n",
       "      <th>1</th>\n",
       "      <td>2010-01-05</td>\n",
       "      <td>13.945000</td>\n",
       "      <td>AIRBUS</td>\n",
       "      <td>NormalPeriod</td>\n",
       "      <td>1</td>\n",
       "    </tr>\n",
       "    <tr>\n",
       "      <th>2</th>\n",
       "      <td>2010-01-06</td>\n",
       "      <td>14.070000</td>\n",
       "      <td>AIRBUS</td>\n",
       "      <td>NormalPeriod</td>\n",
       "      <td>1</td>\n",
       "    </tr>\n",
       "    <tr>\n",
       "      <th>3</th>\n",
       "      <td>2010-01-07</td>\n",
       "      <td>14.210000</td>\n",
       "      <td>AIRBUS</td>\n",
       "      <td>NormalPeriod</td>\n",
       "      <td>1</td>\n",
       "    </tr>\n",
       "    <tr>\n",
       "      <th>4</th>\n",
       "      <td>2010-01-08</td>\n",
       "      <td>14.350000</td>\n",
       "      <td>AIRBUS</td>\n",
       "      <td>NormalPeriod</td>\n",
       "      <td>1</td>\n",
       "    </tr>\n",
       "    <tr>\n",
       "      <th>...</th>\n",
       "      <td>...</td>\n",
       "      <td>...</td>\n",
       "      <td>...</td>\n",
       "      <td>...</td>\n",
       "      <td>...</td>\n",
       "    </tr>\n",
       "    <tr>\n",
       "      <th>7685</th>\n",
       "      <td>2024-12-24</td>\n",
       "      <td>179.339996</td>\n",
       "      <td>BOEING</td>\n",
       "      <td>NormalPeriod</td>\n",
       "      <td>4</td>\n",
       "    </tr>\n",
       "    <tr>\n",
       "      <th>7686</th>\n",
       "      <td>2024-12-26</td>\n",
       "      <td>180.380005</td>\n",
       "      <td>BOEING</td>\n",
       "      <td>NormalPeriod</td>\n",
       "      <td>4</td>\n",
       "    </tr>\n",
       "    <tr>\n",
       "      <th>7687</th>\n",
       "      <td>2024-12-27</td>\n",
       "      <td>180.720001</td>\n",
       "      <td>BOEING</td>\n",
       "      <td>NormalPeriod</td>\n",
       "      <td>4</td>\n",
       "    </tr>\n",
       "    <tr>\n",
       "      <th>7688</th>\n",
       "      <td>2024-12-30</td>\n",
       "      <td>176.550003</td>\n",
       "      <td>BOEING</td>\n",
       "      <td>NormalPeriod</td>\n",
       "      <td>4</td>\n",
       "    </tr>\n",
       "    <tr>\n",
       "      <th>7689</th>\n",
       "      <td>2024-12-31</td>\n",
       "      <td>177.000000</td>\n",
       "      <td>BOEING</td>\n",
       "      <td>NormalPeriod</td>\n",
       "      <td>4</td>\n",
       "    </tr>\n",
       "  </tbody>\n",
       "</table>\n",
       "<p>7690 rows × 5 columns</p>\n",
       "</div>"
      ],
      "text/plain": [
       "           Date       Close Company    PeriodType  Quarter\n",
       "0    2010-01-04   13.990000  AIRBUS  NormalPeriod        1\n",
       "1    2010-01-05   13.945000  AIRBUS  NormalPeriod        1\n",
       "2    2010-01-06   14.070000  AIRBUS  NormalPeriod        1\n",
       "3    2010-01-07   14.210000  AIRBUS  NormalPeriod        1\n",
       "4    2010-01-08   14.350000  AIRBUS  NormalPeriod        1\n",
       "...         ...         ...     ...           ...      ...\n",
       "7685 2024-12-24  179.339996  BOEING  NormalPeriod        4\n",
       "7686 2024-12-26  180.380005  BOEING  NormalPeriod        4\n",
       "7687 2024-12-27  180.720001  BOEING  NormalPeriod        4\n",
       "7688 2024-12-30  176.550003  BOEING  NormalPeriod        4\n",
       "7689 2024-12-31  177.000000  BOEING  NormalPeriod        4\n",
       "\n",
       "[7690 rows x 5 columns]"
      ]
     },
     "execution_count": 290,
     "metadata": {},
     "output_type": "execute_result"
    }
   ],
   "source": [
    "import statsmodels.api as sm\n",
    "from statsmodels.formula.api import ols, wls\n",
    "\n",
    "# extract season as block\n",
    "df_stock_raw['Quarter'] = pd.to_datetime(df_stock_raw['Date']).dt.quarter\n",
    "df_stock_raw"
   ]
  },
  {
   "cell_type": "code",
   "execution_count": 292,
   "id": "2b310542-9a43-4657-983d-ec8e3c98d185",
   "metadata": {},
   "outputs": [],
   "source": [
    "quarterly_avg = df_stock_raw.groupby(['Quarter', 'Company'])['Close'].mean().reset_index()"
   ]
  },
  {
   "cell_type": "code",
   "execution_count": 294,
   "id": "cc538dca-bcf4-4dc0-8d1d-86029a780207",
   "metadata": {},
   "outputs": [
    {
     "data": {
      "image/png": "[encoded data removed]",
      "text/plain": [
       "<Figure size 640x480 with 1 Axes>"
      ]
     },
     "metadata": {},
     "output_type": "display_data"
    }
   ],
   "source": [
    "sns.boxplot(data=df_stock_raw, x='Quarter', y='Close', hue='Company')\n",
    "plt.title('Quarterly Distribution of Stock Prices by Company')\n",
    "plt.xlabel('Quarter')\n",
    "plt.ylabel('Close Price')\n",
    "plt.tight_layout()\n",
    "plt.show()"
   ]
  },
  {
   "cell_type": "code",
   "execution_count": 296,
   "id": "785a88bd-3cfd-4e5a-8fa3-e1a4f461d4a7",
   "metadata": {},
   "outputs": [
    {
     "data": {
      "image/png": "[encoded data removed]",
      "text/plain": [
       "<Figure size 1400x500 with 1 Axes>"
      ]
     },
     "metadata": {},
     "output_type": "display_data"
    }
   ],
   "source": [
    "# create Year-Quarter column\n",
    "df_stock_raw['YearQuarter'] = pd.to_datetime(df_stock_raw['Date']).dt.to_period('Q').astype(str)\n",
    "\n",
    "\n",
    "# plot（show price based on time sequence）\n",
    "plt.figure(figsize=(14, 5))\n",
    "sns.lineplot(data=df_stock_raw, x='YearQuarter', y='Close', hue='Company')\n",
    "plt.xticks(rotation=45)\n",
    "plt.title('Quarterly Close Price over Time (2010–2025)')\n",
    "plt.tight_layout()\n",
    "plt.show()"
   ]
  },
  {
   "cell_type": "code",
   "execution_count": 352,
   "id": "83f33512-f3df-4f24-89d7-d8eb25735b09",
   "metadata": {},
   "outputs": [],
   "source": [
    "# log return\n",
    "df_stock_raw['log_return'] = np.log(df_stock_raw['Close']).diff()\n",
    "\n",
    "# rolling volatility（5）\n",
    "df_stock_raw['rolling_std'] = df_stock_raw['log_return'].rolling(window=5).std()"
   ]
  },
  {
   "cell_type": "code",
   "execution_count": 354,
   "id": "ad23a7b7-006b-4039-a356-52c45c4973d8",
   "metadata": {},
   "outputs": [],
   "source": [
    "# reset subset\n",
    "df_airbus_raw = df_stock_raw[df_stock_raw['Company'] == 'AIRBUS']\n",
    "df_boeing_raw = df_stock_raw[df_stock_raw['Company'] == 'BOEING']"
   ]
  },
  {
   "cell_type": "code",
   "execution_count": 356,
   "id": "9c3220c2-cca6-4a2d-a472-f76a39549842",
   "metadata": {},
   "outputs": [
    {
     "data": {
      "text/html": [
       "<div>\n",
       "<style scoped>\n",
       "    .dataframe tbody tr th:only-of-type {\n",
       "        vertical-align: middle;\n",
       "    }\n",
       "\n",
       "    .dataframe tbody tr th {\n",
       "        vertical-align: top;\n",
       "    }\n",
       "\n",
       "    .dataframe thead th {\n",
       "        text-align: right;\n",
       "    }\n",
       "</style>\n",
       "<table border=\"1\" class=\"dataframe\">\n",
       "  <thead>\n",
       "    <tr style=\"text-align: right;\">\n",
       "      <th></th>\n",
       "      <th>Date</th>\n",
       "      <th>Close</th>\n",
       "      <th>Company</th>\n",
       "      <th>PeriodType</th>\n",
       "      <th>Quarter</th>\n",
       "      <th>YearQuarter</th>\n",
       "      <th>log_return</th>\n",
       "      <th>rolling_std</th>\n",
       "    </tr>\n",
       "  </thead>\n",
       "  <tbody>\n",
       "    <tr>\n",
       "      <th>0</th>\n",
       "      <td>2010-01-04</td>\n",
       "      <td>13.990000</td>\n",
       "      <td>AIRBUS</td>\n",
       "      <td>NormalPeriod</td>\n",
       "      <td>1</td>\n",
       "      <td>2010Q1</td>\n",
       "      <td>NaN</td>\n",
       "      <td>NaN</td>\n",
       "    </tr>\n",
       "    <tr>\n",
       "      <th>1</th>\n",
       "      <td>2010-01-05</td>\n",
       "      <td>13.945000</td>\n",
       "      <td>AIRBUS</td>\n",
       "      <td>NormalPeriod</td>\n",
       "      <td>1</td>\n",
       "      <td>2010Q1</td>\n",
       "      <td>-0.003222</td>\n",
       "      <td>NaN</td>\n",
       "    </tr>\n",
       "    <tr>\n",
       "      <th>2</th>\n",
       "      <td>2010-01-06</td>\n",
       "      <td>14.070000</td>\n",
       "      <td>AIRBUS</td>\n",
       "      <td>NormalPeriod</td>\n",
       "      <td>1</td>\n",
       "      <td>2010Q1</td>\n",
       "      <td>0.008924</td>\n",
       "      <td>NaN</td>\n",
       "    </tr>\n",
       "    <tr>\n",
       "      <th>3</th>\n",
       "      <td>2010-01-07</td>\n",
       "      <td>14.210000</td>\n",
       "      <td>AIRBUS</td>\n",
       "      <td>NormalPeriod</td>\n",
       "      <td>1</td>\n",
       "      <td>2010Q1</td>\n",
       "      <td>0.009901</td>\n",
       "      <td>NaN</td>\n",
       "    </tr>\n",
       "    <tr>\n",
       "      <th>4</th>\n",
       "      <td>2010-01-08</td>\n",
       "      <td>14.350000</td>\n",
       "      <td>AIRBUS</td>\n",
       "      <td>NormalPeriod</td>\n",
       "      <td>1</td>\n",
       "      <td>2010Q1</td>\n",
       "      <td>0.009804</td>\n",
       "      <td>NaN</td>\n",
       "    </tr>\n",
       "    <tr>\n",
       "      <th>...</th>\n",
       "      <td>...</td>\n",
       "      <td>...</td>\n",
       "      <td>...</td>\n",
       "      <td>...</td>\n",
       "      <td>...</td>\n",
       "      <td>...</td>\n",
       "      <td>...</td>\n",
       "      <td>...</td>\n",
       "    </tr>\n",
       "    <tr>\n",
       "      <th>3911</th>\n",
       "      <td>2025-04-14</td>\n",
       "      <td>139.259995</td>\n",
       "      <td>AIRBUS</td>\n",
       "      <td>NormalPeriod</td>\n",
       "      <td>2</td>\n",
       "      <td>2025Q2</td>\n",
       "      <td>0.032105</td>\n",
       "      <td>0.042043</td>\n",
       "    </tr>\n",
       "    <tr>\n",
       "      <th>3912</th>\n",
       "      <td>2025-04-15</td>\n",
       "      <td>140.940002</td>\n",
       "      <td>AIRBUS</td>\n",
       "      <td>NormalPeriod</td>\n",
       "      <td>2</td>\n",
       "      <td>2025Q2</td>\n",
       "      <td>0.011992</td>\n",
       "      <td>0.040792</td>\n",
       "    </tr>\n",
       "    <tr>\n",
       "      <th>3913</th>\n",
       "      <td>2025-04-16</td>\n",
       "      <td>140.500000</td>\n",
       "      <td>AIRBUS</td>\n",
       "      <td>NormalPeriod</td>\n",
       "      <td>2</td>\n",
       "      <td>2025Q2</td>\n",
       "      <td>-0.003127</td>\n",
       "      <td>0.030433</td>\n",
       "    </tr>\n",
       "    <tr>\n",
       "      <th>3914</th>\n",
       "      <td>2025-04-17</td>\n",
       "      <td>136.460007</td>\n",
       "      <td>AIRBUS</td>\n",
       "      <td>NormalPeriod</td>\n",
       "      <td>2</td>\n",
       "      <td>2025Q2</td>\n",
       "      <td>-0.029176</td>\n",
       "      <td>0.027686</td>\n",
       "    </tr>\n",
       "    <tr>\n",
       "      <th>3915</th>\n",
       "      <td>2025-04-22</td>\n",
       "      <td>133.059998</td>\n",
       "      <td>AIRBUS</td>\n",
       "      <td>NormalPeriod</td>\n",
       "      <td>2</td>\n",
       "      <td>2025Q2</td>\n",
       "      <td>-0.025231</td>\n",
       "      <td>0.025671</td>\n",
       "    </tr>\n",
       "  </tbody>\n",
       "</table>\n",
       "<p>3916 rows × 8 columns</p>\n",
       "</div>"
      ],
      "text/plain": [
       "           Date       Close Company    PeriodType  Quarter YearQuarter  \\\n",
       "0    2010-01-04   13.990000  AIRBUS  NormalPeriod        1      2010Q1   \n",
       "1    2010-01-05   13.945000  AIRBUS  NormalPeriod        1      2010Q1   \n",
       "2    2010-01-06   14.070000  AIRBUS  NormalPeriod        1      2010Q1   \n",
       "3    2010-01-07   14.210000  AIRBUS  NormalPeriod        1      2010Q1   \n",
       "4    2010-01-08   14.350000  AIRBUS  NormalPeriod        1      2010Q1   \n",
       "...         ...         ...     ...           ...      ...         ...   \n",
       "3911 2025-04-14  139.259995  AIRBUS  NormalPeriod        2      2025Q2   \n",
       "3912 2025-04-15  140.940002  AIRBUS  NormalPeriod        2      2025Q2   \n",
       "3913 2025-04-16  140.500000  AIRBUS  NormalPeriod        2      2025Q2   \n",
       "3914 2025-04-17  136.460007  AIRBUS  NormalPeriod        2      2025Q2   \n",
       "3915 2025-04-22  133.059998  AIRBUS  NormalPeriod        2      2025Q2   \n",
       "\n",
       "      log_return  rolling_std  \n",
       "0            NaN          NaN  \n",
       "1      -0.003222          NaN  \n",
       "2       0.008924          NaN  \n",
       "3       0.009901          NaN  \n",
       "4       0.009804          NaN  \n",
       "...          ...          ...  \n",
       "3911    0.032105     0.042043  \n",
       "3912    0.011992     0.040792  \n",
       "3913   -0.003127     0.030433  \n",
       "3914   -0.029176     0.027686  \n",
       "3915   -0.025231     0.025671  \n",
       "\n",
       "[3916 rows x 8 columns]"
      ]
     },
     "execution_count": 356,
     "metadata": {},
     "output_type": "execute_result"
    }
   ],
   "source": [
    "df_airbus_raw"
   ]
  },
  {
   "cell_type": "code",
   "execution_count": 358,
   "id": "34ad18de-5508-421d-8168-ed4e54a483c5",
   "metadata": {},
   "outputs": [
    {
     "name": "stdout",
     "output_type": "stream",
     "text": [
      "PeriodType\n",
      "NormalPeriod           3902\n",
      "FatalAccidentPeriod      14\n",
      "Name: count, dtype: int64\n"
     ]
    }
   ],
   "source": [
    "print(df_airbus_raw['PeriodType'].value_counts())"
   ]
  },
  {
   "cell_type": "code",
   "execution_count": 360,
   "id": "5e25091f-0ddb-4dec-884b-77d85ff5679c",
   "metadata": {},
   "outputs": [],
   "source": [
    "# subset\n",
    "df_airbus_raw = df_stock_raw[df_stock_raw['Company'] == 'AIRBUS'].copy()"
   ]
  },
  {
   "cell_type": "code",
   "execution_count": 364,
   "id": "668c5202-7af6-46f2-8f05-5c04d48080d8",
   "metadata": {},
   "outputs": [
    {
     "name": "stdout",
     "output_type": "stream",
     "text": [
      "                     sum_sq      df             F        PR(>F)\n",
      "C(PeriodType)    408.402814     1.0    408.638531  1.672662e-86\n",
      "C(Quarter)     59891.183065     3.0  19975.250143  0.000000e+00\n",
      "Residual        3903.746876  3906.0           NaN           NaN\n"
     ]
    }
   ],
   "source": [
    "#################################\n",
    "# ------- Analysis: Airbus -------\n",
    "#################################\n",
    "# drop missing value\n",
    "df_airbus_raw = df_airbus_raw.dropna(subset=['rolling_std'])\n",
    "\n",
    "# OLS (for residual)\n",
    "model_ols_airbus = ols('rolling_std ~ C(PeriodType) + C(Quarter)', data=df_airbus_raw).fit()\n",
    "weights_airbus = 1 / (model_ols_airbus.resid ** 2)\n",
    "\n",
    "model_wls_airbus = sm.WLS.from_formula(\n",
    "    'rolling_std ~ C(PeriodType) + C(Quarter)',\n",
    "    data=df_airbus_raw,\n",
    "    weights=weights_airbus\n",
    ").fit()\n",
    "\n",
    "anova_wls_airbus = sm.stats.anova_lm(model_wls_airbus, typ=2)\n",
    "print(anova_wls_airbus)"
   ]
  },
  {
   "cell_type": "code",
   "execution_count": 366,
   "id": "c8c12553-c322-4422-9f20-c4f9d6b46be5",
   "metadata": {},
   "outputs": [
    {
     "name": "stdout",
     "output_type": "stream",
     "text": [
      "                      sum_sq      df              F    PR(>F)\n",
      "C(PeriodType)       9.902544     1.0       9.910649  0.001656\n",
      "C(Quarter)     950085.167749     3.0  316954.273701  0.000000\n",
      "Residual         3765.917562  3769.0            NaN       NaN\n"
     ]
    }
   ],
   "source": [
    "#################################\n",
    "# ------- analyzsis: Boeing -------\n",
    "#################################\n",
    "\n",
    "df_boeing_raw = df_stock_raw[df_stock_raw['Company'] == 'BOEING'].copy()\n",
    "\n",
    "model_ols_boeing = ols('rolling_std ~ C(PeriodType) + C(Quarter)', data=df_boeing_raw).fit()\n",
    "weights_boeing = 1 / (model_ols_boeing.resid ** 2)\n",
    "\n",
    "model_wls_boeing = sm.WLS.from_formula(\n",
    "    'rolling_std ~ C(PeriodType) + C(Quarter)',\n",
    "    data=df_boeing_raw,\n",
    "    weights=weights_boeing\n",
    ").fit()\n",
    "\n",
    "anova_wls_boeing = sm.stats.anova_lm(model_wls_boeing, typ=2)\n",
    "print(anova_wls_boeing)\n"
   ]
  },
  {
   "cell_type": "code",
   "execution_count": 380,
   "id": "3e7facba-04a5-4e83-9954-ad99f9cf6e00",
   "metadata": {},
   "outputs": [
    {
     "data": {
      "image/png": "[encoded data removed]",
      "text/plain": [
       "<Figure size 800x500 with 1 Axes>"
      ]
     },
     "metadata": {},
     "output_type": "display_data"
    }
   ],
   "source": [
    "import matplotlib.pyplot as plt\n",
    "import statsmodels.api as sm\n",
    "\n",
    "# model_wls_airbus\n",
    "fitted_vals = model_wls_airbus.fittedvalues\n",
    "residuals = model_wls_airbus.resid\n",
    "\n",
    "# Residuals vs Fitted\n",
    "plt.figure(figsize=(8, 5))\n",
    "plt.scatter(fitted_vals, residuals)\n",
    "plt.axhline(0, color='red', linestyle='--')\n",
    "plt.title('Residuals vs Fitted (Airbus)')\n",
    "plt.xlabel('Fitted values')\n",
    "plt.ylabel('Residuals')\n",
    "plt.tight_layout()\n",
    "plt.show()"
   ]
  },
  {
   "cell_type": "code",
   "execution_count": 370,
   "id": "9b690106-f2ae-4337-9d60-e1c3328d8e6f",
   "metadata": {},
   "outputs": [
    {
     "data": {
      "image/png": "[encoded data removed]",
      "text/plain": [
       "<Figure size 640x480 with 1 Axes>"
      ]
     },
     "metadata": {},
     "output_type": "display_data"
    }
   ],
   "source": [
    "#  model_wls_boeing\n",
    "fitted_vals = model_wls_boeing.fittedvalues\n",
    "residuals = model_wls_boeing.resid\n",
    "\n",
    "# Residuals vs Fitted\n",
    "plt.scatter(fitted_vals, residuals)\n",
    "plt.axhline(0, color='red', linestyle='--')\n",
    "plt.title('Residuals vs Fitted (boeing)')\n",
    "plt.xlabel('Fitted values')\n",
    "plt.ylabel('Residuals')\n",
    "plt.show()\n"
   ]
  },
  {
   "cell_type": "code",
   "execution_count": 372,
   "id": "c28af020-843a-4fd2-9532-418ccfcad140",
   "metadata": {},
   "outputs": [
    {
     "name": "stdout",
     "output_type": "stream",
     "text": [
      "                            sum_sq      df          F        PR(>F)\n",
      "C(PeriodType)             0.000026     1.0   0.081746  7.749528e-01\n",
      "C(Company)                0.000503     1.0   1.579429  2.088811e-01\n",
      "C(Quarter)                0.012489     3.0  13.075398  1.629906e-08\n",
      "C(PeriodType):C(Company)  0.000060     1.0   0.188221  6.644137e-01\n",
      "Residual                  2.444490  7678.0        NaN           NaN\n"
     ]
    }
   ],
   "source": [
    "# Interaction effect analysis: \n",
    "# Whether different companies have different fluctuating performances during the accident\n",
    "model_interaction = ols(\n",
    "    'rolling_std ~ C(PeriodType) * C(Company) + C(Quarter)',\n",
    "    data=df_stock_raw\n",
    ").fit()\n",
    "\n",
    "anova_interaction = sm.stats.anova_lm(model_interaction, typ=2)\n",
    "print(anova_interaction)\n"
   ]
  },
  {
   "cell_type": "code",
   "execution_count": null,
   "id": "e2e1fb60-3ad4-4875-b7e7-0f6d01ceb666",
   "metadata": {},
   "outputs": [],
   "source": []
  }
 ],
 "metadata": {
  "kernelspec": {
   "display_name": "Python 3 (ipykernel)",
   "language": "python",
   "name": "python3"
  },
  "language_info": {
   "codemirror_mode": {
    "name": "ipython",
    "version": 3
   },
   "file_extension": ".py",
   "mimetype": "text/x-python",
   "name": "python",
   "nbconvert_exporter": "python",
   "pygments_lexer": "ipython3",
   "version": "3.10.14"
  }
 },
 "nbformat": 4,
 "nbformat_minor": 5
}
